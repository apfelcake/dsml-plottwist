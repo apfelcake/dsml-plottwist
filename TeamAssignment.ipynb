{
 "cells": [
  {
   "cell_type": "markdown",
   "id": "dc7507b7",
   "metadata": {},
   "source": [
    "# Descriptive analytics\n",
    "\n",
    "# Temporal Demand Patterns & Seasonality # Lina\n",
    "- Pro Tag / Pro Woche / Pro Monat / Pro Jahr \n",
    "- Mit Wetterdaten vergleichen\n",
    " \n",
    "\n",
    "## Geographical Demand Patterns # Nico, Jieyu\n",
    "## ? Pro Stadtteil angemeldete Autos\n",
    "## Altersgruppen je Stadtteil -> Zusammenhang zu Abo Modellen\n",
    "## Pass -> Häufig für den Arbeitsweg? (RoundTrip, OneWay, Zeiten)\n",
    "\n",
    "## KPIs\n",
    "- Aktuelle Auslastung (Live & Historisch, Pro Station) (-> Mehr Stationen, Fahrräder?) # Lukas \n",
    "- Ausfall/Probleme: (Wartungsaufwand (z.B. in Prozent available/not available), ) # Ange\n",
    "- Umsatz durch \"Minutengeld\" # Marc\n",
    "- Anteil an Arten von Passhaltern?\n",
    "- Anteil von Tripcategories?\n"
   ]
  },
  {
   "cell_type": "code",
   "execution_count": 1,
   "id": "0063dec8",
   "metadata": {
    "scrolled": true
   },
   "outputs": [],
   "source": [
    "import numpy as np\n",
    "import pandas as pd\n",
    "\n",
    "\n",
    "import matplotlib\n",
    "import matplotlib.pyplot as pp\n",
    "import seaborn as sns\n",
    "\n",
    "import glob\n",
    "\n",
    "%matplotlib inline\n",
    "%config IPCompleter.greedy=True"
   ]
  },
  {
   "cell_type": "markdown",
   "id": "84c00d50",
   "metadata": {},
   "source": [
    "## preparing & cleaning data\n",
    "\n"
   ]
  },
  {
   "cell_type": "code",
   "execution_count": 2,
   "id": "bf3f0b73",
   "metadata": {},
   "outputs": [],
   "source": [
    "csv_files = glob.glob('Datasets/RideIndego 2016/*.csv')\n",
    "df = pd.concat([pd.read_csv(f) for f  in csv_files], ignore_index = True)"
   ]
  },
  {
   "cell_type": "markdown",
   "id": "4c9864bf",
   "metadata": {},
   "source": [
    "### Find out NaN Values"
   ]
  },
  {
   "cell_type": "code",
   "execution_count": 3,
   "id": "31cb66f7",
   "metadata": {},
   "outputs": [
    {
     "data": {
      "text/plain": [
       "trip_id                   0\n",
       "duration                  0\n",
       "start_time                0\n",
       "end_time                  0\n",
       "start_station_id         10\n",
       "start_lat                17\n",
       "start_lon                17\n",
       "end_station_id            0\n",
       "end_lat                1591\n",
       "end_lon                1591\n",
       "bike_id                   0\n",
       "plan_duration             0\n",
       "trip_route_category       0\n",
       "passholder_type           0\n",
       "dtype: int64"
      ]
     },
     "execution_count": 3,
     "metadata": {},
     "output_type": "execute_result"
    }
   ],
   "source": [
    "df.isna().sum()"
   ]
  },
  {
   "cell_type": "markdown",
   "id": "510d85ac",
   "metadata": {},
   "source": [
    "### Drop any Row with NaN 0 in end_lat end_lon\n",
    "\n"
   ]
  },
  {
   "cell_type": "code",
   "execution_count": 4,
   "id": "496c5492",
   "metadata": {
    "scrolled": false
   },
   "outputs": [],
   "source": [
    "df['start_lat'] = pd.to_numeric(df['start_lat'], errors='coerce')\n",
    "df['start_lon'] = pd.to_numeric(df['start_lon'], errors='coerce')\n",
    "df['start_station_id'] = pd.to_numeric(df['start_station_id'], errors='coerce')\n",
    "df['end_station_id'] = pd.to_numeric(df['end_station_id'], errors='coerce')\n",
    "df['end_lat'] = pd.to_numeric(df['end_lat'], errors='coerce')\n",
    "df['end_lon'] = pd.to_numeric(df['end_lon'], errors='coerce')\n",
    "df['bike_id'] = pd.to_numeric(df['bike_id'], errors='coerce')\n",
    "df['plan_duration'] = pd.to_numeric(df['plan_duration'], errors='coerce')"
   ]
  },
  {
   "cell_type": "code",
   "execution_count": 5,
   "id": "1fa20dbf",
   "metadata": {
    "scrolled": true
   },
   "outputs": [
    {
     "data": {
      "text/plain": [
       "trip_id                   0\n",
       "duration                  0\n",
       "start_time                0\n",
       "end_time                  0\n",
       "start_station_id         10\n",
       "start_lat                69\n",
       "start_lon                69\n",
       "end_station_id            0\n",
       "end_lat                3023\n",
       "end_lon                3023\n",
       "bike_id                   0\n",
       "plan_duration             0\n",
       "trip_route_category       0\n",
       "passholder_type           0\n",
       "dtype: int64"
      ]
     },
     "execution_count": 5,
     "metadata": {},
     "output_type": "execute_result"
    }
   ],
   "source": [
    "df.isna().sum()"
   ]
  },
  {
   "cell_type": "markdown",
   "id": "600d7766",
   "metadata": {},
   "source": []
  },
  {
   "cell_type": "code",
   "execution_count": 65,
   "id": "44393af3",
   "metadata": {
    "scrolled": true
   },
   "outputs": [],
   "source": [
    "df = df.dropna(how='any').reset_index(drop=True)\n",
    "df1 = df"
   ]
  },
  {
   "cell_type": "markdown",
   "id": "8504164c",
   "metadata": {},
   "source": [
    "## Unique Bike Stations"
   ]
  },
  {
   "cell_type": "code",
   "execution_count": 7,
   "id": "a49cec83",
   "metadata": {},
   "outputs": [
    {
     "data": {
      "text/plain": [
       "106"
      ]
     },
     "execution_count": 7,
     "metadata": {},
     "output_type": "execute_result"
    }
   ],
   "source": [
    "len(df.groupby(['start_station_id']))"
   ]
  },
  {
   "cell_type": "markdown",
   "id": "697caa88",
   "metadata": {},
   "source": [
    "# Integration of the weather data (Marc)"
   ]
  },
  {
   "cell_type": "code",
   "execution_count": 8,
   "id": "661ac7ff",
   "metadata": {},
   "outputs": [],
   "source": [
    "#import weather data\n",
    "#STR_Nov = pd.read_csv(\"Car2Go_STR_SampleData.csv\", encoding = \"ISO-8859-1\")\n",
    "weather = pd.read_csv('weather_hourly_philadelphia.csv')"
   ]
  },
  {
   "cell_type": "code",
   "execution_count": 9,
   "id": "14996b67",
   "metadata": {},
   "outputs": [
    {
     "data": {
      "text/html": [
       "<div>\n",
       "<style scoped>\n",
       "    .dataframe tbody tr th:only-of-type {\n",
       "        vertical-align: middle;\n",
       "    }\n",
       "\n",
       "    .dataframe tbody tr th {\n",
       "        vertical-align: top;\n",
       "    }\n",
       "\n",
       "    .dataframe thead th {\n",
       "        text-align: right;\n",
       "    }\n",
       "</style>\n",
       "<table border=\"1\" class=\"dataframe\">\n",
       "  <thead>\n",
       "    <tr style=\"text-align: right;\">\n",
       "      <th></th>\n",
       "      <th>date_time</th>\n",
       "      <th>max_temp</th>\n",
       "      <th>min_temp</th>\n",
       "      <th>precip</th>\n",
       "    </tr>\n",
       "  </thead>\n",
       "  <tbody>\n",
       "    <tr>\n",
       "      <th>0</th>\n",
       "      <td>2015-01-02 01:00:00</td>\n",
       "      <td>3.3</td>\n",
       "      <td>3.3</td>\n",
       "      <td>0.0</td>\n",
       "    </tr>\n",
       "    <tr>\n",
       "      <th>1</th>\n",
       "      <td>2015-01-02 02:00:00</td>\n",
       "      <td>2.8</td>\n",
       "      <td>2.8</td>\n",
       "      <td>0.0</td>\n",
       "    </tr>\n",
       "    <tr>\n",
       "      <th>2</th>\n",
       "      <td>2015-01-02 03:00:00</td>\n",
       "      <td>2.2</td>\n",
       "      <td>2.2</td>\n",
       "      <td>0.0</td>\n",
       "    </tr>\n",
       "    <tr>\n",
       "      <th>3</th>\n",
       "      <td>2015-01-02 04:00:00</td>\n",
       "      <td>0.6</td>\n",
       "      <td>0.6</td>\n",
       "      <td>0.0</td>\n",
       "    </tr>\n",
       "    <tr>\n",
       "      <th>4</th>\n",
       "      <td>2015-01-02 05:00:00</td>\n",
       "      <td>1.1</td>\n",
       "      <td>1.1</td>\n",
       "      <td>0.0</td>\n",
       "    </tr>\n",
       "  </tbody>\n",
       "</table>\n",
       "</div>"
      ],
      "text/plain": [
       "             date_time  max_temp  min_temp  precip\n",
       "0  2015-01-02 01:00:00       3.3       3.3     0.0\n",
       "1  2015-01-02 02:00:00       2.8       2.8     0.0\n",
       "2  2015-01-02 03:00:00       2.2       2.2     0.0\n",
       "3  2015-01-02 04:00:00       0.6       0.6     0.0\n",
       "4  2015-01-02 05:00:00       1.1       1.1     0.0"
      ]
     },
     "execution_count": 9,
     "metadata": {},
     "output_type": "execute_result"
    }
   ],
   "source": [
    "weather.head()"
   ]
  },
  {
   "cell_type": "code",
   "execution_count": 10,
   "id": "f5513325",
   "metadata": {},
   "outputs": [
    {
     "name": "stdout",
     "output_type": "stream",
     "text": [
      "<class 'pandas.core.frame.DataFrame'>\n",
      "RangeIndex: 43848 entries, 0 to 43847\n",
      "Data columns (total 4 columns):\n",
      " #   Column     Non-Null Count  Dtype  \n",
      "---  ------     --------------  -----  \n",
      " 0   date_time  43785 non-null  object \n",
      " 1   max_temp   43785 non-null  float64\n",
      " 2   min_temp   43785 non-null  float64\n",
      " 3   precip     43785 non-null  float64\n",
      "dtypes: float64(3), object(1)\n",
      "memory usage: 1.3+ MB\n"
     ]
    }
   ],
   "source": [
    "weather.info()"
   ]
  },
  {
   "cell_type": "markdown",
   "id": "b8bf62f7",
   "metadata": {},
   "source": [
    "Prepare weather data to make it usable for our tasks:\n"
   ]
  },
  {
   "cell_type": "code",
   "execution_count": 11,
   "id": "2856db2c",
   "metadata": {},
   "outputs": [],
   "source": [
    "weather['date_time'] = pd.to_datetime(weather['date_time'])"
   ]
  },
  {
   "cell_type": "code",
   "execution_count": 12,
   "id": "6a5f826e",
   "metadata": {},
   "outputs": [],
   "source": [
    "weather['date_hour'] = weather['date_time'].dt.strftime('%m-%d-%h')\n"
   ]
  },
  {
   "cell_type": "markdown",
   "id": "a7113260",
   "metadata": {},
   "source": [
    "Combine both dataframes into one using mapping:"
   ]
  },
  {
   "cell_type": "code",
   "execution_count": 13,
   "id": "fb1c051c",
   "metadata": {},
   "outputs": [],
   "source": [
    "# have to use something else than a full merge as it duplicates everything from df\n",
    "#df_weather = pd.merge(df, weather, on=\"date_hour\") "
   ]
  },
  {
   "cell_type": "code",
   "execution_count": 14,
   "id": "712d9e95",
   "metadata": {},
   "outputs": [],
   "source": [
    "#quick inspection:\n",
    "#df_weather.info()\n",
    "#df_weather.head()\n",
    "#one could consider dropping some columns to make it more readable"
   ]
  },
  {
   "cell_type": "markdown",
   "id": "456d9d58",
   "metadata": {},
   "source": [
    "### Further Inspectation of data to prepare descriptive analysis (Marc)\n"
   ]
  },
  {
   "cell_type": "code",
   "execution_count": 15,
   "id": "7ca0dd69",
   "metadata": {},
   "outputs": [
    {
     "data": {
      "text/html": [
       "<div>\n",
       "<style scoped>\n",
       "    .dataframe tbody tr th:only-of-type {\n",
       "        vertical-align: middle;\n",
       "    }\n",
       "\n",
       "    .dataframe tbody tr th {\n",
       "        vertical-align: top;\n",
       "    }\n",
       "\n",
       "    .dataframe thead th {\n",
       "        text-align: right;\n",
       "    }\n",
       "</style>\n",
       "<table border=\"1\" class=\"dataframe\">\n",
       "  <thead>\n",
       "    <tr style=\"text-align: right;\">\n",
       "      <th></th>\n",
       "      <th>trip_id</th>\n",
       "      <th>duration</th>\n",
       "      <th>start_station_id</th>\n",
       "      <th>start_lat</th>\n",
       "      <th>start_lon</th>\n",
       "      <th>end_station_id</th>\n",
       "      <th>end_lat</th>\n",
       "      <th>end_lon</th>\n",
       "      <th>bike_id</th>\n",
       "      <th>plan_duration</th>\n",
       "    </tr>\n",
       "  </thead>\n",
       "  <tbody>\n",
       "    <tr>\n",
       "      <th>count</th>\n",
       "      <td>6.519710e+05</td>\n",
       "      <td>651971.000000</td>\n",
       "      <td>651971.000000</td>\n",
       "      <td>651971.000000</td>\n",
       "      <td>651971.000000</td>\n",
       "      <td>651971.000000</td>\n",
       "      <td>651971.000000</td>\n",
       "      <td>651971.000000</td>\n",
       "      <td>651971.000000</td>\n",
       "      <td>651971.000000</td>\n",
       "    </tr>\n",
       "    <tr>\n",
       "      <th>mean</th>\n",
       "      <td>3.510074e+07</td>\n",
       "      <td>1304.646955</td>\n",
       "      <td>3047.424994</td>\n",
       "      <td>39.952599</td>\n",
       "      <td>-75.168769</td>\n",
       "      <td>3046.760276</td>\n",
       "      <td>39.846196</td>\n",
       "      <td>-74.968480</td>\n",
       "      <td>4017.813906</td>\n",
       "      <td>29.610144</td>\n",
       "    </tr>\n",
       "    <tr>\n",
       "      <th>std</th>\n",
       "      <td>2.720246e+07</td>\n",
       "      <td>3656.709547</td>\n",
       "      <td>31.559946</td>\n",
       "      <td>0.070884</td>\n",
       "      <td>0.132684</td>\n",
       "      <td>31.432813</td>\n",
       "      <td>2.056511</td>\n",
       "      <td>3.869193</td>\n",
       "      <td>1735.005923</td>\n",
       "      <td>40.916349</td>\n",
       "    </tr>\n",
       "    <tr>\n",
       "      <th>min</th>\n",
       "      <td>4.516691e+06</td>\n",
       "      <td>60.000000</td>\n",
       "      <td>3000.000000</td>\n",
       "      <td>0.000000</td>\n",
       "      <td>-75.223991</td>\n",
       "      <td>3000.000000</td>\n",
       "      <td>0.000000</td>\n",
       "      <td>-75.223991</td>\n",
       "      <td>2472.000000</td>\n",
       "      <td>0.000000</td>\n",
       "    </tr>\n",
       "    <tr>\n",
       "      <th>25%</th>\n",
       "      <td>4.725896e+06</td>\n",
       "      <td>480.000000</td>\n",
       "      <td>3023.000000</td>\n",
       "      <td>39.945610</td>\n",
       "      <td>-75.179710</td>\n",
       "      <td>3022.000000</td>\n",
       "      <td>39.945271</td>\n",
       "      <td>-75.179390</td>\n",
       "      <td>3280.000000</td>\n",
       "      <td>30.000000</td>\n",
       "    </tr>\n",
       "    <tr>\n",
       "      <th>50%</th>\n",
       "      <td>3.870654e+07</td>\n",
       "      <td>720.000000</td>\n",
       "      <td>3043.000000</td>\n",
       "      <td>39.951120</td>\n",
       "      <td>-75.167351</td>\n",
       "      <td>3041.000000</td>\n",
       "      <td>39.950710</td>\n",
       "      <td>-75.167107</td>\n",
       "      <td>3536.000000</td>\n",
       "      <td>30.000000</td>\n",
       "    </tr>\n",
       "    <tr>\n",
       "      <th>75%</th>\n",
       "      <td>5.701548e+07</td>\n",
       "      <td>1200.000000</td>\n",
       "      <td>3063.000000</td>\n",
       "      <td>39.959229</td>\n",
       "      <td>-75.158127</td>\n",
       "      <td>3063.000000</td>\n",
       "      <td>39.957081</td>\n",
       "      <td>-75.156952</td>\n",
       "      <td>5190.000000</td>\n",
       "      <td>30.000000</td>\n",
       "    </tr>\n",
       "    <tr>\n",
       "      <th>max</th>\n",
       "      <td>8.758284e+07</td>\n",
       "      <td>86400.000000</td>\n",
       "      <td>3129.000000</td>\n",
       "      <td>39.991791</td>\n",
       "      <td>0.000000</td>\n",
       "      <td>3129.000000</td>\n",
       "      <td>39.991791</td>\n",
       "      <td>0.000000</td>\n",
       "      <td>55195.000000</td>\n",
       "      <td>365.000000</td>\n",
       "    </tr>\n",
       "  </tbody>\n",
       "</table>\n",
       "</div>"
      ],
      "text/plain": [
       "            trip_id       duration  start_station_id      start_lat  \\\n",
       "count  6.519710e+05  651971.000000     651971.000000  651971.000000   \n",
       "mean   3.510074e+07    1304.646955       3047.424994      39.952599   \n",
       "std    2.720246e+07    3656.709547         31.559946       0.070884   \n",
       "min    4.516691e+06      60.000000       3000.000000       0.000000   \n",
       "25%    4.725896e+06     480.000000       3023.000000      39.945610   \n",
       "50%    3.870654e+07     720.000000       3043.000000      39.951120   \n",
       "75%    5.701548e+07    1200.000000       3063.000000      39.959229   \n",
       "max    8.758284e+07   86400.000000       3129.000000      39.991791   \n",
       "\n",
       "           start_lon  end_station_id        end_lat        end_lon  \\\n",
       "count  651971.000000   651971.000000  651971.000000  651971.000000   \n",
       "mean      -75.168769     3046.760276      39.846196     -74.968480   \n",
       "std         0.132684       31.432813       2.056511       3.869193   \n",
       "min       -75.223991     3000.000000       0.000000     -75.223991   \n",
       "25%       -75.179710     3022.000000      39.945271     -75.179390   \n",
       "50%       -75.167351     3041.000000      39.950710     -75.167107   \n",
       "75%       -75.158127     3063.000000      39.957081     -75.156952   \n",
       "max         0.000000     3129.000000      39.991791       0.000000   \n",
       "\n",
       "             bike_id  plan_duration  \n",
       "count  651971.000000  651971.000000  \n",
       "mean     4017.813906      29.610144  \n",
       "std      1735.005923      40.916349  \n",
       "min      2472.000000       0.000000  \n",
       "25%      3280.000000      30.000000  \n",
       "50%      3536.000000      30.000000  \n",
       "75%      5190.000000      30.000000  \n",
       "max     55195.000000     365.000000  "
      ]
     },
     "execution_count": 15,
     "metadata": {},
     "output_type": "execute_result"
    }
   ],
   "source": [
    "df.describe()"
   ]
  },
  {
   "cell_type": "code",
   "execution_count": 16,
   "id": "1fa1afb9",
   "metadata": {},
   "outputs": [
    {
     "name": "stdout",
     "output_type": "stream",
     "text": [
      "<class 'pandas.core.frame.DataFrame'>\n",
      "RangeIndex: 651971 entries, 0 to 651970\n",
      "Data columns (total 14 columns):\n",
      " #   Column               Non-Null Count   Dtype  \n",
      "---  ------               --------------   -----  \n",
      " 0   trip_id              651971 non-null  int64  \n",
      " 1   duration             651971 non-null  int64  \n",
      " 2   start_time           651971 non-null  object \n",
      " 3   end_time             651971 non-null  object \n",
      " 4   start_station_id     651971 non-null  float64\n",
      " 5   start_lat            651971 non-null  float64\n",
      " 6   start_lon            651971 non-null  float64\n",
      " 7   end_station_id       651971 non-null  int64  \n",
      " 8   end_lat              651971 non-null  float64\n",
      " 9   end_lon              651971 non-null  float64\n",
      " 10  bike_id              651971 non-null  int64  \n",
      " 11  plan_duration        651971 non-null  int64  \n",
      " 12  trip_route_category  651971 non-null  object \n",
      " 13  passholder_type      651971 non-null  object \n",
      "dtypes: float64(5), int64(5), object(4)\n",
      "memory usage: 69.6+ MB\n"
     ]
    }
   ],
   "source": [
    "df.info()"
   ]
  },
  {
   "cell_type": "markdown",
   "id": "79826cef",
   "metadata": {},
   "source": [
    "Alteration of start_time and end_time to datetime type"
   ]
  },
  {
   "cell_type": "code",
   "execution_count": 17,
   "id": "a227e66d",
   "metadata": {},
   "outputs": [],
   "source": [
    "df['start_time'] = pd.to_datetime(df['start_time'])"
   ]
  },
  {
   "cell_type": "code",
   "execution_count": 18,
   "id": "5afd6ff6",
   "metadata": {},
   "outputs": [],
   "source": [
    "df['end_time'] = pd.to_datetime(df['end_time'])"
   ]
  },
  {
   "cell_type": "markdown",
   "id": "2f788d7c",
   "metadata": {},
   "source": [
    "Calculate the length of a trip"
   ]
  },
  {
   "cell_type": "code",
   "execution_count": 19,
   "id": "57ea18df",
   "metadata": {},
   "outputs": [],
   "source": [
    "df[\"duration_trip\"] = df[\"end_time\"] - df[\"start_time\"]"
   ]
  },
  {
   "cell_type": "markdown",
   "id": "1476d94f",
   "metadata": {},
   "source": [
    "Now I am breaking the datetime of start_time into smaller parts(days, time, hour) to make it possible to visualize the usage over different periods. I am taking the start_time, not the end_time since it shows the demand."
   ]
  },
  {
   "cell_type": "code",
   "execution_count": 20,
   "id": "381b5ab7",
   "metadata": {},
   "outputs": [],
   "source": [
    "df['date'] = df['start_time'].dt.strftime('%m-%d')\n",
    "#here something is not working correctly yet, has to be further examined"
   ]
  },
  {
   "cell_type": "code",
   "execution_count": 21,
   "id": "acbd69f9",
   "metadata": {},
   "outputs": [],
   "source": [
    "df[\"time\"] = df[\"start_time\"].apply(lambda dt: dt.time)"
   ]
  },
  {
   "cell_type": "code",
   "execution_count": 22,
   "id": "cc60716f",
   "metadata": {},
   "outputs": [],
   "source": [
    "df[\"hour\"] = df[\"start_time\"].apply(lambda dt: dt.hour)"
   ]
  },
  {
   "cell_type": "code",
   "execution_count": 23,
   "id": "8bc3714f",
   "metadata": {},
   "outputs": [],
   "source": [
    "df[\"weekday\"] = df[\"start_time\"].apply(lambda dt: dt.dayofweek)"
   ]
  },
  {
   "cell_type": "code",
   "execution_count": 24,
   "id": "0fb8dcb0",
   "metadata": {},
   "outputs": [],
   "source": [
    "df[\"month\"] = df[\"start_time\"].apply(lambda dt: dt.month)"
   ]
  },
  {
   "cell_type": "code",
   "execution_count": 25,
   "id": "e86e4e13",
   "metadata": {},
   "outputs": [],
   "source": [
    "df[\"full_date\"] = [d.date() for d in df[\"start_time\"]]\n"
   ]
  },
  {
   "cell_type": "code",
   "execution_count": 26,
   "id": "54303154",
   "metadata": {},
   "outputs": [],
   "source": [
    "df['date_hour'] = df['start_time'].dt.strftime('%m-%d-%H')\n"
   ]
  },
  {
   "cell_type": "code",
   "execution_count": 27,
   "id": "66053821",
   "metadata": {},
   "outputs": [],
   "source": [
    "#for a later purpose we will convert the duration from seconds to minutes, dividing it by 60:\n",
    "df[\"duration\"] = df[\"duration\"] / 60"
   ]
  },
  {
   "cell_type": "code",
   "execution_count": 28,
   "id": "1b5af24f",
   "metadata": {},
   "outputs": [],
   "source": [
    "df[\"start_station_id\"] = np.int64(df[\"start_station_id\"])"
   ]
  },
  {
   "cell_type": "markdown",
   "id": "d6ddd2ca",
   "metadata": {},
   "source": [
    "Inspection of new dataframe, uncomment if necessary"
   ]
  },
  {
   "cell_type": "code",
   "execution_count": 29,
   "id": "1af06290",
   "metadata": {},
   "outputs": [
    {
     "data": {
      "text/html": [
       "<div>\n",
       "<style scoped>\n",
       "    .dataframe tbody tr th:only-of-type {\n",
       "        vertical-align: middle;\n",
       "    }\n",
       "\n",
       "    .dataframe tbody tr th {\n",
       "        vertical-align: top;\n",
       "    }\n",
       "\n",
       "    .dataframe thead th {\n",
       "        text-align: right;\n",
       "    }\n",
       "</style>\n",
       "<table border=\"1\" class=\"dataframe\">\n",
       "  <thead>\n",
       "    <tr style=\"text-align: right;\">\n",
       "      <th></th>\n",
       "      <th>trip_id</th>\n",
       "      <th>duration</th>\n",
       "      <th>start_time</th>\n",
       "      <th>end_time</th>\n",
       "      <th>start_station_id</th>\n",
       "      <th>start_lat</th>\n",
       "      <th>start_lon</th>\n",
       "      <th>end_station_id</th>\n",
       "      <th>end_lat</th>\n",
       "      <th>end_lon</th>\n",
       "      <th>...</th>\n",
       "      <th>trip_route_category</th>\n",
       "      <th>passholder_type</th>\n",
       "      <th>duration_trip</th>\n",
       "      <th>date</th>\n",
       "      <th>time</th>\n",
       "      <th>hour</th>\n",
       "      <th>weekday</th>\n",
       "      <th>month</th>\n",
       "      <th>full_date</th>\n",
       "      <th>date_hour</th>\n",
       "    </tr>\n",
       "  </thead>\n",
       "  <tbody>\n",
       "    <tr>\n",
       "      <th>0</th>\n",
       "      <td>25183529</td>\n",
       "      <td>4.0</td>\n",
       "      <td>2016-07-01 00:07:00</td>\n",
       "      <td>2016-07-01 00:11:00</td>\n",
       "      <td>3063</td>\n",
       "      <td>39.946331</td>\n",
       "      <td>-75.169800</td>\n",
       "      <td>3064</td>\n",
       "      <td>39.938400</td>\n",
       "      <td>-75.173271</td>\n",
       "      <td>...</td>\n",
       "      <td>One Way</td>\n",
       "      <td>Indego30</td>\n",
       "      <td>0 days 00:04:00</td>\n",
       "      <td>07-01</td>\n",
       "      <td>&lt;built-in method time of Timestamp object at 0...</td>\n",
       "      <td>0</td>\n",
       "      <td>4</td>\n",
       "      <td>7</td>\n",
       "      <td>2016-07-01</td>\n",
       "      <td>07-01-00</td>\n",
       "    </tr>\n",
       "    <tr>\n",
       "      <th>1</th>\n",
       "      <td>25183528</td>\n",
       "      <td>8.0</td>\n",
       "      <td>2016-07-01 00:10:00</td>\n",
       "      <td>2016-07-01 00:18:00</td>\n",
       "      <td>3124</td>\n",
       "      <td>39.952950</td>\n",
       "      <td>-75.139793</td>\n",
       "      <td>3026</td>\n",
       "      <td>39.941380</td>\n",
       "      <td>-75.145638</td>\n",
       "      <td>...</td>\n",
       "      <td>One Way</td>\n",
       "      <td>Indego30</td>\n",
       "      <td>0 days 00:08:00</td>\n",
       "      <td>07-01</td>\n",
       "      <td>&lt;built-in method time of Timestamp object at 0...</td>\n",
       "      <td>0</td>\n",
       "      <td>4</td>\n",
       "      <td>7</td>\n",
       "      <td>2016-07-01</td>\n",
       "      <td>07-01-00</td>\n",
       "    </tr>\n",
       "    <tr>\n",
       "      <th>2</th>\n",
       "      <td>25183527</td>\n",
       "      <td>17.0</td>\n",
       "      <td>2016-07-01 00:11:00</td>\n",
       "      <td>2016-07-01 00:28:00</td>\n",
       "      <td>3043</td>\n",
       "      <td>39.930820</td>\n",
       "      <td>-75.174744</td>\n",
       "      <td>3034</td>\n",
       "      <td>39.933151</td>\n",
       "      <td>-75.162483</td>\n",
       "      <td>...</td>\n",
       "      <td>One Way</td>\n",
       "      <td>Indego30</td>\n",
       "      <td>0 days 00:17:00</td>\n",
       "      <td>07-01</td>\n",
       "      <td>&lt;built-in method time of Timestamp object at 0...</td>\n",
       "      <td>0</td>\n",
       "      <td>4</td>\n",
       "      <td>7</td>\n",
       "      <td>2016-07-01</td>\n",
       "      <td>07-01-00</td>\n",
       "    </tr>\n",
       "    <tr>\n",
       "      <th>3</th>\n",
       "      <td>25183526</td>\n",
       "      <td>25.0</td>\n",
       "      <td>2016-07-01 00:13:00</td>\n",
       "      <td>2016-07-01 00:38:00</td>\n",
       "      <td>3026</td>\n",
       "      <td>39.941380</td>\n",
       "      <td>-75.145638</td>\n",
       "      <td>3026</td>\n",
       "      <td>39.941380</td>\n",
       "      <td>-75.145638</td>\n",
       "      <td>...</td>\n",
       "      <td>Round Trip</td>\n",
       "      <td>Walk-up</td>\n",
       "      <td>0 days 00:25:00</td>\n",
       "      <td>07-01</td>\n",
       "      <td>&lt;built-in method time of Timestamp object at 0...</td>\n",
       "      <td>0</td>\n",
       "      <td>4</td>\n",
       "      <td>7</td>\n",
       "      <td>2016-07-01</td>\n",
       "      <td>07-01-00</td>\n",
       "    </tr>\n",
       "    <tr>\n",
       "      <th>4</th>\n",
       "      <td>25183525</td>\n",
       "      <td>45.0</td>\n",
       "      <td>2016-07-01 00:13:00</td>\n",
       "      <td>2016-07-01 00:58:00</td>\n",
       "      <td>3037</td>\n",
       "      <td>39.954239</td>\n",
       "      <td>-75.161377</td>\n",
       "      <td>3010</td>\n",
       "      <td>39.947109</td>\n",
       "      <td>-75.166183</td>\n",
       "      <td>...</td>\n",
       "      <td>One Way</td>\n",
       "      <td>Walk-up</td>\n",
       "      <td>0 days 00:45:00</td>\n",
       "      <td>07-01</td>\n",
       "      <td>&lt;built-in method time of Timestamp object at 0...</td>\n",
       "      <td>0</td>\n",
       "      <td>4</td>\n",
       "      <td>7</td>\n",
       "      <td>2016-07-01</td>\n",
       "      <td>07-01-00</td>\n",
       "    </tr>\n",
       "  </tbody>\n",
       "</table>\n",
       "<p>5 rows × 22 columns</p>\n",
       "</div>"
      ],
      "text/plain": [
       "    trip_id  duration          start_time            end_time  \\\n",
       "0  25183529       4.0 2016-07-01 00:07:00 2016-07-01 00:11:00   \n",
       "1  25183528       8.0 2016-07-01 00:10:00 2016-07-01 00:18:00   \n",
       "2  25183527      17.0 2016-07-01 00:11:00 2016-07-01 00:28:00   \n",
       "3  25183526      25.0 2016-07-01 00:13:00 2016-07-01 00:38:00   \n",
       "4  25183525      45.0 2016-07-01 00:13:00 2016-07-01 00:58:00   \n",
       "\n",
       "   start_station_id  start_lat  start_lon  end_station_id    end_lat  \\\n",
       "0              3063  39.946331 -75.169800            3064  39.938400   \n",
       "1              3124  39.952950 -75.139793            3026  39.941380   \n",
       "2              3043  39.930820 -75.174744            3034  39.933151   \n",
       "3              3026  39.941380 -75.145638            3026  39.941380   \n",
       "4              3037  39.954239 -75.161377            3010  39.947109   \n",
       "\n",
       "     end_lon  ...  trip_route_category  passholder_type   duration_trip  \\\n",
       "0 -75.173271  ...              One Way         Indego30 0 days 00:04:00   \n",
       "1 -75.145638  ...              One Way         Indego30 0 days 00:08:00   \n",
       "2 -75.162483  ...              One Way         Indego30 0 days 00:17:00   \n",
       "3 -75.145638  ...           Round Trip          Walk-up 0 days 00:25:00   \n",
       "4 -75.166183  ...              One Way          Walk-up 0 days 00:45:00   \n",
       "\n",
       "    date                                               time hour weekday  \\\n",
       "0  07-01  <built-in method time of Timestamp object at 0...    0       4   \n",
       "1  07-01  <built-in method time of Timestamp object at 0...    0       4   \n",
       "2  07-01  <built-in method time of Timestamp object at 0...    0       4   \n",
       "3  07-01  <built-in method time of Timestamp object at 0...    0       4   \n",
       "4  07-01  <built-in method time of Timestamp object at 0...    0       4   \n",
       "\n",
       "   month   full_date  date_hour  \n",
       "0      7  2016-07-01   07-01-00  \n",
       "1      7  2016-07-01   07-01-00  \n",
       "2      7  2016-07-01   07-01-00  \n",
       "3      7  2016-07-01   07-01-00  \n",
       "4      7  2016-07-01   07-01-00  \n",
       "\n",
       "[5 rows x 22 columns]"
      ]
     },
     "execution_count": 29,
     "metadata": {},
     "output_type": "execute_result"
    }
   ],
   "source": [
    "df.head()"
   ]
  },
  {
   "cell_type": "code",
   "execution_count": 30,
   "id": "7b2b371d",
   "metadata": {},
   "outputs": [
    {
     "data": {
      "text/plain": [
       "array([4, 5, 6, 0, 1, 2, 3])"
      ]
     },
     "execution_count": 30,
     "metadata": {},
     "output_type": "execute_result"
    }
   ],
   "source": [
    "df.weekday.unique()"
   ]
  },
  {
   "cell_type": "markdown",
   "id": "70d77e57",
   "metadata": {},
   "source": [
    "# Task 2: Descriptive analytics"
   ]
  },
  {
   "cell_type": "markdown",
   "id": "be05d12a",
   "metadata": {},
   "source": [
    "### a) Temporal Demand Patterns and Seasonality (Lina, Marc)"
   ]
  },
  {
   "cell_type": "code",
   "execution_count": 31,
   "id": "085374d7",
   "metadata": {},
   "outputs": [
    {
     "data": {
      "text/html": [
       "<div>\n",
       "<style scoped>\n",
       "    .dataframe tbody tr th:only-of-type {\n",
       "        vertical-align: middle;\n",
       "    }\n",
       "\n",
       "    .dataframe tbody tr th {\n",
       "        vertical-align: top;\n",
       "    }\n",
       "\n",
       "    .dataframe thead th {\n",
       "        text-align: right;\n",
       "    }\n",
       "</style>\n",
       "<table border=\"1\" class=\"dataframe\">\n",
       "  <thead>\n",
       "    <tr style=\"text-align: right;\">\n",
       "      <th></th>\n",
       "      <th>demand</th>\n",
       "    </tr>\n",
       "    <tr>\n",
       "      <th>hour</th>\n",
       "      <th></th>\n",
       "    </tr>\n",
       "  </thead>\n",
       "  <tbody>\n",
       "    <tr>\n",
       "      <th>0</th>\n",
       "      <td>7366</td>\n",
       "    </tr>\n",
       "    <tr>\n",
       "      <th>1</th>\n",
       "      <td>4326</td>\n",
       "    </tr>\n",
       "    <tr>\n",
       "      <th>2</th>\n",
       "      <td>3335</td>\n",
       "    </tr>\n",
       "    <tr>\n",
       "      <th>3</th>\n",
       "      <td>1636</td>\n",
       "    </tr>\n",
       "    <tr>\n",
       "      <th>4</th>\n",
       "      <td>1421</td>\n",
       "    </tr>\n",
       "    <tr>\n",
       "      <th>5</th>\n",
       "      <td>5539</td>\n",
       "    </tr>\n",
       "    <tr>\n",
       "      <th>6</th>\n",
       "      <td>14890</td>\n",
       "    </tr>\n",
       "    <tr>\n",
       "      <th>7</th>\n",
       "      <td>31209</td>\n",
       "    </tr>\n",
       "    <tr>\n",
       "      <th>8</th>\n",
       "      <td>55134</td>\n",
       "    </tr>\n",
       "    <tr>\n",
       "      <th>9</th>\n",
       "      <td>34239</td>\n",
       "    </tr>\n",
       "    <tr>\n",
       "      <th>10</th>\n",
       "      <td>26970</td>\n",
       "    </tr>\n",
       "    <tr>\n",
       "      <th>11</th>\n",
       "      <td>29160</td>\n",
       "    </tr>\n",
       "    <tr>\n",
       "      <th>12</th>\n",
       "      <td>33549</td>\n",
       "    </tr>\n",
       "    <tr>\n",
       "      <th>13</th>\n",
       "      <td>34184</td>\n",
       "    </tr>\n",
       "    <tr>\n",
       "      <th>14</th>\n",
       "      <td>35733</td>\n",
       "    </tr>\n",
       "    <tr>\n",
       "      <th>15</th>\n",
       "      <td>38987</td>\n",
       "    </tr>\n",
       "    <tr>\n",
       "      <th>16</th>\n",
       "      <td>50178</td>\n",
       "    </tr>\n",
       "    <tr>\n",
       "      <th>17</th>\n",
       "      <td>70910</td>\n",
       "    </tr>\n",
       "    <tr>\n",
       "      <th>18</th>\n",
       "      <td>53043</td>\n",
       "    </tr>\n",
       "    <tr>\n",
       "      <th>19</th>\n",
       "      <td>41168</td>\n",
       "    </tr>\n",
       "    <tr>\n",
       "      <th>20</th>\n",
       "      <td>29955</td>\n",
       "    </tr>\n",
       "    <tr>\n",
       "      <th>21</th>\n",
       "      <td>21577</td>\n",
       "    </tr>\n",
       "    <tr>\n",
       "      <th>22</th>\n",
       "      <td>16486</td>\n",
       "    </tr>\n",
       "    <tr>\n",
       "      <th>23</th>\n",
       "      <td>10976</td>\n",
       "    </tr>\n",
       "  </tbody>\n",
       "</table>\n",
       "</div>"
      ],
      "text/plain": [
       "      demand\n",
       "hour        \n",
       "0       7366\n",
       "1       4326\n",
       "2       3335\n",
       "3       1636\n",
       "4       1421\n",
       "5       5539\n",
       "6      14890\n",
       "7      31209\n",
       "8      55134\n",
       "9      34239\n",
       "10     26970\n",
       "11     29160\n",
       "12     33549\n",
       "13     34184\n",
       "14     35733\n",
       "15     38987\n",
       "16     50178\n",
       "17     70910\n",
       "18     53043\n",
       "19     41168\n",
       "20     29955\n",
       "21     21577\n",
       "22     16486\n",
       "23     10976"
      ]
     },
     "execution_count": 31,
     "metadata": {},
     "output_type": "execute_result"
    }
   ],
   "source": [
    "#calculate the demand per hour\n",
    "hourly_demand = df.groupby([\"hour\"]).agg(demand=(\"bike_id\", 'count'))\n",
    "hourly_demand = pd.DataFrame(hourly_demand)\n",
    "hourly_demand\n",
    "#df_hourly_avail = df.groupby([\"date\", \"hour\"])[\"bike_id\"].nunique()\n",
    "#df_hourly_avail = pd.DataFrame(df_hourly_avail)\n",
    "#df_hourly_avail"
   ]
  },
  {
   "cell_type": "code",
   "execution_count": 32,
   "id": "900b718d",
   "metadata": {},
   "outputs": [
    {
     "data": {
      "image/png": "[encoded data removed]",
      "text/plain": [
       "<Figure size 720x288 with 1 Axes>"
      ]
     },
     "metadata": {
      "needs_background": "light"
     },
     "output_type": "display_data"
    }
   ],
   "source": [
    "fig, ax = pp.subplots(figsize=(10,4))\n",
    "\n",
    "sns.barplot(x=hourly_demand.index.get_level_values(0), y=hourly_demand[\"demand\"],ax=ax)\n",
    "pp.show()"
   ]
  },
  {
   "cell_type": "code",
   "execution_count": 33,
   "id": "c86c128c",
   "metadata": {},
   "outputs": [
    {
     "data": {
      "text/html": [
       "<div>\n",
       "<style scoped>\n",
       "    .dataframe tbody tr th:only-of-type {\n",
       "        vertical-align: middle;\n",
       "    }\n",
       "\n",
       "    .dataframe tbody tr th {\n",
       "        vertical-align: top;\n",
       "    }\n",
       "\n",
       "    .dataframe thead th {\n",
       "        text-align: right;\n",
       "    }\n",
       "</style>\n",
       "<table border=\"1\" class=\"dataframe\">\n",
       "  <thead>\n",
       "    <tr style=\"text-align: right;\">\n",
       "      <th></th>\n",
       "      <th>demand</th>\n",
       "    </tr>\n",
       "    <tr>\n",
       "      <th>weekday</th>\n",
       "      <th></th>\n",
       "    </tr>\n",
       "  </thead>\n",
       "  <tbody>\n",
       "    <tr>\n",
       "      <th>0</th>\n",
       "      <td>93097</td>\n",
       "    </tr>\n",
       "    <tr>\n",
       "      <th>1</th>\n",
       "      <td>100505</td>\n",
       "    </tr>\n",
       "    <tr>\n",
       "      <th>2</th>\n",
       "      <td>102563</td>\n",
       "    </tr>\n",
       "    <tr>\n",
       "      <th>3</th>\n",
       "      <td>99980</td>\n",
       "    </tr>\n",
       "    <tr>\n",
       "      <th>4</th>\n",
       "      <td>100904</td>\n",
       "    </tr>\n",
       "    <tr>\n",
       "      <th>5</th>\n",
       "      <td>81027</td>\n",
       "    </tr>\n",
       "    <tr>\n",
       "      <th>6</th>\n",
       "      <td>73895</td>\n",
       "    </tr>\n",
       "  </tbody>\n",
       "</table>\n",
       "</div>"
      ],
      "text/plain": [
       "         demand\n",
       "weekday        \n",
       "0         93097\n",
       "1        100505\n",
       "2        102563\n",
       "3         99980\n",
       "4        100904\n",
       "5         81027\n",
       "6         73895"
      ]
     },
     "execution_count": 33,
     "metadata": {},
     "output_type": "execute_result"
    }
   ],
   "source": [
    "#demand per weekday:\n",
    "weekdays = [\"Monday\", \"Tuesday\", \"Wednesday\", \"Thursday\", \"Friday\", \"Saturday\", \"Sunday\"]\n",
    "daily_demand = df.groupby([\"weekday\"]).agg(demand=(\"bike_id\", 'count'))\n",
    "daily_demand = pd.DataFrame(daily_demand)\n",
    "daily_demand"
   ]
  },
  {
   "cell_type": "code",
   "execution_count": 34,
   "id": "0b41fa44",
   "metadata": {},
   "outputs": [
    {
     "data": {
      "image/png": "[encoded data removed]",
      "text/plain": [
       "<Figure size 720x288 with 1 Axes>"
      ]
     },
     "metadata": {
      "needs_background": "light"
     },
     "output_type": "display_data"
    }
   ],
   "source": [
    "fig, ax = pp.subplots(figsize=(10,4))\n",
    "\n",
    "sns.barplot(x=weekdays,y=\"demand\",data=daily_demand, palette = 'Blues_d')\n",
    "pp.tight_layout()\n",
    "pp.show()"
   ]
  },
  {
   "cell_type": "code",
   "execution_count": 35,
   "id": "26af9654",
   "metadata": {},
   "outputs": [
    {
     "data": {
      "text/html": [
       "<div>\n",
       "<style scoped>\n",
       "    .dataframe tbody tr th:only-of-type {\n",
       "        vertical-align: middle;\n",
       "    }\n",
       "\n",
       "    .dataframe tbody tr th {\n",
       "        vertical-align: top;\n",
       "    }\n",
       "\n",
       "    .dataframe thead th {\n",
       "        text-align: right;\n",
       "    }\n",
       "</style>\n",
       "<table border=\"1\" class=\"dataframe\">\n",
       "  <thead>\n",
       "    <tr style=\"text-align: right;\">\n",
       "      <th></th>\n",
       "      <th>demand</th>\n",
       "    </tr>\n",
       "    <tr>\n",
       "      <th>month</th>\n",
       "      <th></th>\n",
       "    </tr>\n",
       "  </thead>\n",
       "  <tbody>\n",
       "    <tr>\n",
       "      <th>1</th>\n",
       "      <td>17773</td>\n",
       "    </tr>\n",
       "    <tr>\n",
       "      <th>2</th>\n",
       "      <td>19284</td>\n",
       "    </tr>\n",
       "    <tr>\n",
       "      <th>3</th>\n",
       "      <td>36102</td>\n",
       "    </tr>\n",
       "    <tr>\n",
       "      <th>4</th>\n",
       "      <td>42324</td>\n",
       "    </tr>\n",
       "    <tr>\n",
       "      <th>5</th>\n",
       "      <td>55922</td>\n",
       "    </tr>\n",
       "    <tr>\n",
       "      <th>6</th>\n",
       "      <td>72578</td>\n",
       "    </tr>\n",
       "    <tr>\n",
       "      <th>7</th>\n",
       "      <td>76215</td>\n",
       "    </tr>\n",
       "    <tr>\n",
       "      <th>8</th>\n",
       "      <td>77673</td>\n",
       "    </tr>\n",
       "    <tr>\n",
       "      <th>9</th>\n",
       "      <td>79578</td>\n",
       "    </tr>\n",
       "    <tr>\n",
       "      <th>10</th>\n",
       "      <td>72324</td>\n",
       "    </tr>\n",
       "    <tr>\n",
       "      <th>11</th>\n",
       "      <td>68349</td>\n",
       "    </tr>\n",
       "    <tr>\n",
       "      <th>12</th>\n",
       "      <td>33849</td>\n",
       "    </tr>\n",
       "  </tbody>\n",
       "</table>\n",
       "</div>"
      ],
      "text/plain": [
       "       demand\n",
       "month        \n",
       "1       17773\n",
       "2       19284\n",
       "3       36102\n",
       "4       42324\n",
       "5       55922\n",
       "6       72578\n",
       "7       76215\n",
       "8       77673\n",
       "9       79578\n",
       "10      72324\n",
       "11      68349\n",
       "12      33849"
      ]
     },
     "execution_count": 35,
     "metadata": {},
     "output_type": "execute_result"
    }
   ],
   "source": [
    "#calculate the monthly demand:\n",
    "# different approach:\n",
    "monthly_demand = df.groupby([\"month\"]).agg(demand=(\"bike_id\", 'count'))\n",
    "monthly_demand = pd.DataFrame(monthly_demand)\n",
    "monthly_demand"
   ]
  },
  {
   "cell_type": "code",
   "execution_count": 36,
   "id": "a68d68b2",
   "metadata": {},
   "outputs": [
    {
     "data": {
      "image/png": "[encoded data removed]",
      "text/plain": [
       "<Figure size 720x288 with 1 Axes>"
      ]
     },
     "metadata": {
      "needs_background": "light"
     },
     "output_type": "display_data"
    }
   ],
   "source": [
    "fig, ax = pp.subplots(figsize=(10,4))\n",
    "\n",
    "sns.barplot(x=monthly_demand.index.get_level_values(0), y=monthly_demand[\"demand\"],ax=ax)\n",
    "pp.show()"
   ]
  },
  {
   "cell_type": "markdown",
   "id": "28b5e06d",
   "metadata": {},
   "source": [
    "### c) KPIs"
   ]
  },
  {
   "cell_type": "markdown",
   "id": "9902c337",
   "metadata": {},
   "source": []
  },
  {
   "cell_type": "markdown",
   "id": "bedd9313",
   "metadata": {},
   "source": [
    "Our first KPI is the current gross revenue which is calculated by the duration of the trip times $0,15 which is listed as the price/minute on Indego's website. We have to make some adjustments based depending on the type of pass the user has. For that we create a new dataframe only containing relevant data for us which includes the duration of the trip, the ID, the passtype, as well as some time info."
   ]
  },
  {
   "cell_type": "code",
   "execution_count": 37,
   "id": "2c7da7ee",
   "metadata": {},
   "outputs": [],
   "source": [
    "price_per_minute = 0.15"
   ]
  },
  {
   "cell_type": "code",
   "execution_count": 38,
   "id": "9212b01e",
   "metadata": {},
   "outputs": [],
   "source": [
    "rev = df[['trip_id', 'duration', 'start_time', 'end_time', 'passholder_type', 'hour','date_hour']].copy()"
   ]
  },
  {
   "cell_type": "code",
   "execution_count": 39,
   "id": "35982d9e",
   "metadata": {},
   "outputs": [
    {
     "data": {
      "text/html": [
       "<div>\n",
       "<style scoped>\n",
       "    .dataframe tbody tr th:only-of-type {\n",
       "        vertical-align: middle;\n",
       "    }\n",
       "\n",
       "    .dataframe tbody tr th {\n",
       "        vertical-align: top;\n",
       "    }\n",
       "\n",
       "    .dataframe thead th {\n",
       "        text-align: right;\n",
       "    }\n",
       "</style>\n",
       "<table border=\"1\" class=\"dataframe\">\n",
       "  <thead>\n",
       "    <tr style=\"text-align: right;\">\n",
       "      <th></th>\n",
       "      <th>trip_id</th>\n",
       "      <th>duration</th>\n",
       "      <th>start_time</th>\n",
       "      <th>end_time</th>\n",
       "      <th>passholder_type</th>\n",
       "      <th>hour</th>\n",
       "      <th>date_hour</th>\n",
       "    </tr>\n",
       "  </thead>\n",
       "  <tbody>\n",
       "    <tr>\n",
       "      <th>0</th>\n",
       "      <td>25183529</td>\n",
       "      <td>4.0</td>\n",
       "      <td>2016-07-01 00:07:00</td>\n",
       "      <td>2016-07-01 00:11:00</td>\n",
       "      <td>Indego30</td>\n",
       "      <td>0</td>\n",
       "      <td>07-01-00</td>\n",
       "    </tr>\n",
       "    <tr>\n",
       "      <th>1</th>\n",
       "      <td>25183528</td>\n",
       "      <td>8.0</td>\n",
       "      <td>2016-07-01 00:10:00</td>\n",
       "      <td>2016-07-01 00:18:00</td>\n",
       "      <td>Indego30</td>\n",
       "      <td>0</td>\n",
       "      <td>07-01-00</td>\n",
       "    </tr>\n",
       "    <tr>\n",
       "      <th>2</th>\n",
       "      <td>25183527</td>\n",
       "      <td>17.0</td>\n",
       "      <td>2016-07-01 00:11:00</td>\n",
       "      <td>2016-07-01 00:28:00</td>\n",
       "      <td>Indego30</td>\n",
       "      <td>0</td>\n",
       "      <td>07-01-00</td>\n",
       "    </tr>\n",
       "    <tr>\n",
       "      <th>3</th>\n",
       "      <td>25183526</td>\n",
       "      <td>25.0</td>\n",
       "      <td>2016-07-01 00:13:00</td>\n",
       "      <td>2016-07-01 00:38:00</td>\n",
       "      <td>Walk-up</td>\n",
       "      <td>0</td>\n",
       "      <td>07-01-00</td>\n",
       "    </tr>\n",
       "    <tr>\n",
       "      <th>4</th>\n",
       "      <td>25183525</td>\n",
       "      <td>45.0</td>\n",
       "      <td>2016-07-01 00:13:00</td>\n",
       "      <td>2016-07-01 00:58:00</td>\n",
       "      <td>Walk-up</td>\n",
       "      <td>0</td>\n",
       "      <td>07-01-00</td>\n",
       "    </tr>\n",
       "  </tbody>\n",
       "</table>\n",
       "</div>"
      ],
      "text/plain": [
       "    trip_id  duration          start_time            end_time passholder_type  \\\n",
       "0  25183529       4.0 2016-07-01 00:07:00 2016-07-01 00:11:00        Indego30   \n",
       "1  25183528       8.0 2016-07-01 00:10:00 2016-07-01 00:18:00        Indego30   \n",
       "2  25183527      17.0 2016-07-01 00:11:00 2016-07-01 00:28:00        Indego30   \n",
       "3  25183526      25.0 2016-07-01 00:13:00 2016-07-01 00:38:00         Walk-up   \n",
       "4  25183525      45.0 2016-07-01 00:13:00 2016-07-01 00:58:00         Walk-up   \n",
       "\n",
       "   hour date_hour  \n",
       "0     0  07-01-00  \n",
       "1     0  07-01-00  \n",
       "2     0  07-01-00  \n",
       "3     0  07-01-00  \n",
       "4     0  07-01-00  "
      ]
     },
     "execution_count": 39,
     "metadata": {},
     "output_type": "execute_result"
    }
   ],
   "source": [
    "rev.head()"
   ]
  },
  {
   "cell_type": "markdown",
   "id": "e55421b5",
   "metadata": {},
   "source": [
    "Since we take the price per minute and the duration of the trip is in seconds, we are going to divide the duration by 60 to get it in minutes."
   ]
  },
  {
   "cell_type": "code",
   "execution_count": 40,
   "id": "cf45b068",
   "metadata": {},
   "outputs": [],
   "source": [
    "#rev[\"duration\"] = rev[\"duration\"]/60"
   ]
  },
  {
   "cell_type": "code",
   "execution_count": 41,
   "id": "ec2f15c6",
   "metadata": {},
   "outputs": [
    {
     "data": {
      "text/plain": [
       "array(['Indego30', 'Walk-up', 'IndegoFlex'], dtype=object)"
      ]
     },
     "execution_count": 41,
     "metadata": {},
     "output_type": "execute_result"
    }
   ],
   "source": [
    "a = rev['passholder_type'].unique()\n",
    "a"
   ]
  },
  {
   "cell_type": "code",
   "execution_count": 42,
   "id": "756b5a7a",
   "metadata": {},
   "outputs": [],
   "source": [
    "rev['relevant_duration'] = rev.duration + rev.passholder_type.map( lambda x: -30 if x == 'Walk-up' else -60)"
   ]
  },
  {
   "cell_type": "code",
   "execution_count": 43,
   "id": "afc1eede",
   "metadata": {},
   "outputs": [
    {
     "data": {
      "text/html": [
       "<div>\n",
       "<style scoped>\n",
       "    .dataframe tbody tr th:only-of-type {\n",
       "        vertical-align: middle;\n",
       "    }\n",
       "\n",
       "    .dataframe tbody tr th {\n",
       "        vertical-align: top;\n",
       "    }\n",
       "\n",
       "    .dataframe thead th {\n",
       "        text-align: right;\n",
       "    }\n",
       "</style>\n",
       "<table border=\"1\" class=\"dataframe\">\n",
       "  <thead>\n",
       "    <tr style=\"text-align: right;\">\n",
       "      <th></th>\n",
       "      <th>trip_id</th>\n",
       "      <th>duration</th>\n",
       "      <th>start_time</th>\n",
       "      <th>end_time</th>\n",
       "      <th>passholder_type</th>\n",
       "      <th>hour</th>\n",
       "      <th>date_hour</th>\n",
       "      <th>relevant_duration</th>\n",
       "    </tr>\n",
       "  </thead>\n",
       "  <tbody>\n",
       "    <tr>\n",
       "      <th>0</th>\n",
       "      <td>25183529</td>\n",
       "      <td>4.0</td>\n",
       "      <td>2016-07-01 00:07:00</td>\n",
       "      <td>2016-07-01 00:11:00</td>\n",
       "      <td>Indego30</td>\n",
       "      <td>0</td>\n",
       "      <td>07-01-00</td>\n",
       "      <td>-56.0</td>\n",
       "    </tr>\n",
       "    <tr>\n",
       "      <th>1</th>\n",
       "      <td>25183528</td>\n",
       "      <td>8.0</td>\n",
       "      <td>2016-07-01 00:10:00</td>\n",
       "      <td>2016-07-01 00:18:00</td>\n",
       "      <td>Indego30</td>\n",
       "      <td>0</td>\n",
       "      <td>07-01-00</td>\n",
       "      <td>-52.0</td>\n",
       "    </tr>\n",
       "    <tr>\n",
       "      <th>2</th>\n",
       "      <td>25183527</td>\n",
       "      <td>17.0</td>\n",
       "      <td>2016-07-01 00:11:00</td>\n",
       "      <td>2016-07-01 00:28:00</td>\n",
       "      <td>Indego30</td>\n",
       "      <td>0</td>\n",
       "      <td>07-01-00</td>\n",
       "      <td>-43.0</td>\n",
       "    </tr>\n",
       "    <tr>\n",
       "      <th>3</th>\n",
       "      <td>25183526</td>\n",
       "      <td>25.0</td>\n",
       "      <td>2016-07-01 00:13:00</td>\n",
       "      <td>2016-07-01 00:38:00</td>\n",
       "      <td>Walk-up</td>\n",
       "      <td>0</td>\n",
       "      <td>07-01-00</td>\n",
       "      <td>-5.0</td>\n",
       "    </tr>\n",
       "    <tr>\n",
       "      <th>4</th>\n",
       "      <td>25183525</td>\n",
       "      <td>45.0</td>\n",
       "      <td>2016-07-01 00:13:00</td>\n",
       "      <td>2016-07-01 00:58:00</td>\n",
       "      <td>Walk-up</td>\n",
       "      <td>0</td>\n",
       "      <td>07-01-00</td>\n",
       "      <td>15.0</td>\n",
       "    </tr>\n",
       "  </tbody>\n",
       "</table>\n",
       "</div>"
      ],
      "text/plain": [
       "    trip_id  duration          start_time            end_time passholder_type  \\\n",
       "0  25183529       4.0 2016-07-01 00:07:00 2016-07-01 00:11:00        Indego30   \n",
       "1  25183528       8.0 2016-07-01 00:10:00 2016-07-01 00:18:00        Indego30   \n",
       "2  25183527      17.0 2016-07-01 00:11:00 2016-07-01 00:28:00        Indego30   \n",
       "3  25183526      25.0 2016-07-01 00:13:00 2016-07-01 00:38:00         Walk-up   \n",
       "4  25183525      45.0 2016-07-01 00:13:00 2016-07-01 00:58:00         Walk-up   \n",
       "\n",
       "   hour date_hour  relevant_duration  \n",
       "0     0  07-01-00              -56.0  \n",
       "1     0  07-01-00              -52.0  \n",
       "2     0  07-01-00              -43.0  \n",
       "3     0  07-01-00               -5.0  \n",
       "4     0  07-01-00               15.0  "
      ]
     },
     "execution_count": 43,
     "metadata": {},
     "output_type": "execute_result"
    }
   ],
   "source": [
    "rev.head()"
   ]
  },
  {
   "cell_type": "code",
   "execution_count": 44,
   "id": "6a65715c",
   "metadata": {},
   "outputs": [],
   "source": [
    "rev.loc[rev.relevant_duration <= 0, \"relevant_duration\"] = 0"
   ]
  },
  {
   "cell_type": "code",
   "execution_count": null,
   "id": "1702cb0d",
   "metadata": {},
   "outputs": [],
   "source": []
  },
  {
   "cell_type": "code",
   "execution_count": 45,
   "id": "6b9c207e",
   "metadata": {},
   "outputs": [],
   "source": [
    "rev[\"rev_flex\"] = rev[\"relevant_duration\"] * price_per_minute"
   ]
  },
  {
   "cell_type": "code",
   "execution_count": 46,
   "id": "33930838",
   "metadata": {},
   "outputs": [
    {
     "data": {
      "text/html": [
       "<div>\n",
       "<style scoped>\n",
       "    .dataframe tbody tr th:only-of-type {\n",
       "        vertical-align: middle;\n",
       "    }\n",
       "\n",
       "    .dataframe tbody tr th {\n",
       "        vertical-align: top;\n",
       "    }\n",
       "\n",
       "    .dataframe thead th {\n",
       "        text-align: right;\n",
       "    }\n",
       "</style>\n",
       "<table border=\"1\" class=\"dataframe\">\n",
       "  <thead>\n",
       "    <tr style=\"text-align: right;\">\n",
       "      <th></th>\n",
       "      <th>trip_id</th>\n",
       "      <th>duration</th>\n",
       "      <th>start_time</th>\n",
       "      <th>end_time</th>\n",
       "      <th>passholder_type</th>\n",
       "      <th>hour</th>\n",
       "      <th>date_hour</th>\n",
       "      <th>relevant_duration</th>\n",
       "      <th>rev_flex</th>\n",
       "    </tr>\n",
       "  </thead>\n",
       "  <tbody>\n",
       "    <tr>\n",
       "      <th>0</th>\n",
       "      <td>25183529</td>\n",
       "      <td>4.0</td>\n",
       "      <td>2016-07-01 00:07:00</td>\n",
       "      <td>2016-07-01 00:11:00</td>\n",
       "      <td>Indego30</td>\n",
       "      <td>0</td>\n",
       "      <td>07-01-00</td>\n",
       "      <td>0.0</td>\n",
       "      <td>0.00</td>\n",
       "    </tr>\n",
       "    <tr>\n",
       "      <th>1</th>\n",
       "      <td>25183528</td>\n",
       "      <td>8.0</td>\n",
       "      <td>2016-07-01 00:10:00</td>\n",
       "      <td>2016-07-01 00:18:00</td>\n",
       "      <td>Indego30</td>\n",
       "      <td>0</td>\n",
       "      <td>07-01-00</td>\n",
       "      <td>0.0</td>\n",
       "      <td>0.00</td>\n",
       "    </tr>\n",
       "    <tr>\n",
       "      <th>2</th>\n",
       "      <td>25183527</td>\n",
       "      <td>17.0</td>\n",
       "      <td>2016-07-01 00:11:00</td>\n",
       "      <td>2016-07-01 00:28:00</td>\n",
       "      <td>Indego30</td>\n",
       "      <td>0</td>\n",
       "      <td>07-01-00</td>\n",
       "      <td>0.0</td>\n",
       "      <td>0.00</td>\n",
       "    </tr>\n",
       "    <tr>\n",
       "      <th>3</th>\n",
       "      <td>25183526</td>\n",
       "      <td>25.0</td>\n",
       "      <td>2016-07-01 00:13:00</td>\n",
       "      <td>2016-07-01 00:38:00</td>\n",
       "      <td>Walk-up</td>\n",
       "      <td>0</td>\n",
       "      <td>07-01-00</td>\n",
       "      <td>0.0</td>\n",
       "      <td>0.00</td>\n",
       "    </tr>\n",
       "    <tr>\n",
       "      <th>4</th>\n",
       "      <td>25183525</td>\n",
       "      <td>45.0</td>\n",
       "      <td>2016-07-01 00:13:00</td>\n",
       "      <td>2016-07-01 00:58:00</td>\n",
       "      <td>Walk-up</td>\n",
       "      <td>0</td>\n",
       "      <td>07-01-00</td>\n",
       "      <td>15.0</td>\n",
       "      <td>2.25</td>\n",
       "    </tr>\n",
       "  </tbody>\n",
       "</table>\n",
       "</div>"
      ],
      "text/plain": [
       "    trip_id  duration          start_time            end_time passholder_type  \\\n",
       "0  25183529       4.0 2016-07-01 00:07:00 2016-07-01 00:11:00        Indego30   \n",
       "1  25183528       8.0 2016-07-01 00:10:00 2016-07-01 00:18:00        Indego30   \n",
       "2  25183527      17.0 2016-07-01 00:11:00 2016-07-01 00:28:00        Indego30   \n",
       "3  25183526      25.0 2016-07-01 00:13:00 2016-07-01 00:38:00         Walk-up   \n",
       "4  25183525      45.0 2016-07-01 00:13:00 2016-07-01 00:58:00         Walk-up   \n",
       "\n",
       "   hour date_hour  relevant_duration  rev_flex  \n",
       "0     0  07-01-00                0.0      0.00  \n",
       "1     0  07-01-00                0.0      0.00  \n",
       "2     0  07-01-00                0.0      0.00  \n",
       "3     0  07-01-00                0.0      0.00  \n",
       "4     0  07-01-00               15.0      2.25  "
      ]
     },
     "execution_count": 46,
     "metadata": {},
     "output_type": "execute_result"
    }
   ],
   "source": [
    "rev.head()"
   ]
  },
  {
   "cell_type": "code",
   "execution_count": 47,
   "id": "e127f980",
   "metadata": {},
   "outputs": [
    {
     "data": {
      "text/plain": [
       "624540.7500000114"
      ]
     },
     "execution_count": 47,
     "metadata": {},
     "output_type": "execute_result"
    }
   ],
   "source": [
    "sum(rev[\"rev_flex\"])"
   ]
  },
  {
   "cell_type": "code",
   "execution_count": 48,
   "id": "31c5a686",
   "metadata": {},
   "outputs": [
    {
     "data": {
      "text/html": [
       "<div>\n",
       "<style scoped>\n",
       "    .dataframe tbody tr th:only-of-type {\n",
       "        vertical-align: middle;\n",
       "    }\n",
       "\n",
       "    .dataframe tbody tr th {\n",
       "        vertical-align: top;\n",
       "    }\n",
       "\n",
       "    .dataframe thead th {\n",
       "        text-align: right;\n",
       "    }\n",
       "</style>\n",
       "<table border=\"1\" class=\"dataframe\">\n",
       "  <thead>\n",
       "    <tr style=\"text-align: right;\">\n",
       "      <th></th>\n",
       "      <th>revenue</th>\n",
       "    </tr>\n",
       "    <tr>\n",
       "      <th>date_hour</th>\n",
       "      <th></th>\n",
       "    </tr>\n",
       "  </thead>\n",
       "  <tbody>\n",
       "    <tr>\n",
       "      <th>01-01-00</th>\n",
       "      <td>81.15</td>\n",
       "    </tr>\n",
       "    <tr>\n",
       "      <th>01-01-01</th>\n",
       "      <td>360.45</td>\n",
       "    </tr>\n",
       "    <tr>\n",
       "      <th>01-01-02</th>\n",
       "      <td>271.35</td>\n",
       "    </tr>\n",
       "    <tr>\n",
       "      <th>01-01-03</th>\n",
       "      <td>40.35</td>\n",
       "    </tr>\n",
       "    <tr>\n",
       "      <th>01-01-04</th>\n",
       "      <td>0.00</td>\n",
       "    </tr>\n",
       "    <tr>\n",
       "      <th>...</th>\n",
       "      <td>...</td>\n",
       "    </tr>\n",
       "    <tr>\n",
       "      <th>12-31-19</th>\n",
       "      <td>3.75</td>\n",
       "    </tr>\n",
       "    <tr>\n",
       "      <th>12-31-20</th>\n",
       "      <td>0.00</td>\n",
       "    </tr>\n",
       "    <tr>\n",
       "      <th>12-31-21</th>\n",
       "      <td>87.75</td>\n",
       "    </tr>\n",
       "    <tr>\n",
       "      <th>12-31-22</th>\n",
       "      <td>1.95</td>\n",
       "    </tr>\n",
       "    <tr>\n",
       "      <th>12-31-23</th>\n",
       "      <td>0.00</td>\n",
       "    </tr>\n",
       "  </tbody>\n",
       "</table>\n",
       "<p>8535 rows × 1 columns</p>\n",
       "</div>"
      ],
      "text/plain": [
       "           revenue\n",
       "date_hour         \n",
       "01-01-00     81.15\n",
       "01-01-01    360.45\n",
       "01-01-02    271.35\n",
       "01-01-03     40.35\n",
       "01-01-04      0.00\n",
       "...            ...\n",
       "12-31-19      3.75\n",
       "12-31-20      0.00\n",
       "12-31-21     87.75\n",
       "12-31-22      1.95\n",
       "12-31-23      0.00\n",
       "\n",
       "[8535 rows x 1 columns]"
      ]
     },
     "execution_count": 48,
     "metadata": {},
     "output_type": "execute_result"
    }
   ],
   "source": [
    "hourly_rev = rev.groupby([\"date_hour\"]).agg(revenue=(\"rev_flex\", 'sum'))\n",
    "hourly_rev = pd.DataFrame(hourly_rev)\n",
    "hourly_rev"
   ]
  },
  {
   "cell_type": "code",
   "execution_count": 49,
   "id": "71451200",
   "metadata": {},
   "outputs": [
    {
     "data": {
      "image/png": "[encoded data removed]",
      "text/plain": [
       "<Figure size 720x288 with 1 Axes>"
      ]
     },
     "metadata": {
      "needs_background": "light"
     },
     "output_type": "display_data"
    }
   ],
   "source": [
    "fig, ax = pp.subplots(figsize=(10,4))\n",
    "\n",
    "sns.lineplot(data=hourly_rev, palette=\"tab10\", linewidth=2.5)\n",
    "pp.show()"
   ]
  },
  {
   "cell_type": "markdown",
   "id": "dd0a9795",
   "metadata": {},
   "source": [
    "Another KPI could be the share of walkups vs. passcard holder."
   ]
  },
  {
   "cell_type": "code",
   "execution_count": 50,
   "id": "3f16d2a0",
   "metadata": {},
   "outputs": [],
   "source": [
    "type_shares = df[['passholder_type', 'date_hour']].copy()"
   ]
  },
  {
   "cell_type": "code",
   "execution_count": 51,
   "id": "5c81493f",
   "metadata": {},
   "outputs": [],
   "source": [
    "type_shares['type'] = type_shares.passholder_type.map( lambda x: 0 if x == 'Walk-up' else 1)"
   ]
  },
  {
   "cell_type": "code",
   "execution_count": 52,
   "id": "ddeebf20",
   "metadata": {},
   "outputs": [
    {
     "data": {
      "text/html": [
       "<div>\n",
       "<style scoped>\n",
       "    .dataframe tbody tr th:only-of-type {\n",
       "        vertical-align: middle;\n",
       "    }\n",
       "\n",
       "    .dataframe tbody tr th {\n",
       "        vertical-align: top;\n",
       "    }\n",
       "\n",
       "    .dataframe thead th {\n",
       "        text-align: right;\n",
       "    }\n",
       "</style>\n",
       "<table border=\"1\" class=\"dataframe\">\n",
       "  <thead>\n",
       "    <tr style=\"text-align: right;\">\n",
       "      <th></th>\n",
       "      <th>passholder_type</th>\n",
       "      <th>date_hour</th>\n",
       "      <th>type</th>\n",
       "    </tr>\n",
       "  </thead>\n",
       "  <tbody>\n",
       "    <tr>\n",
       "      <th>0</th>\n",
       "      <td>Indego30</td>\n",
       "      <td>07-01-00</td>\n",
       "      <td>1</td>\n",
       "    </tr>\n",
       "    <tr>\n",
       "      <th>1</th>\n",
       "      <td>Indego30</td>\n",
       "      <td>07-01-00</td>\n",
       "      <td>1</td>\n",
       "    </tr>\n",
       "    <tr>\n",
       "      <th>2</th>\n",
       "      <td>Indego30</td>\n",
       "      <td>07-01-00</td>\n",
       "      <td>1</td>\n",
       "    </tr>\n",
       "    <tr>\n",
       "      <th>3</th>\n",
       "      <td>Walk-up</td>\n",
       "      <td>07-01-00</td>\n",
       "      <td>0</td>\n",
       "    </tr>\n",
       "    <tr>\n",
       "      <th>4</th>\n",
       "      <td>Walk-up</td>\n",
       "      <td>07-01-00</td>\n",
       "      <td>0</td>\n",
       "    </tr>\n",
       "  </tbody>\n",
       "</table>\n",
       "</div>"
      ],
      "text/plain": [
       "  passholder_type date_hour  type\n",
       "0        Indego30  07-01-00     1\n",
       "1        Indego30  07-01-00     1\n",
       "2        Indego30  07-01-00     1\n",
       "3         Walk-up  07-01-00     0\n",
       "4         Walk-up  07-01-00     0"
      ]
     },
     "execution_count": 52,
     "metadata": {},
     "output_type": "execute_result"
    }
   ],
   "source": [
    "type_shares.head()"
   ]
  },
  {
   "cell_type": "code",
   "execution_count": 53,
   "id": "401a398a",
   "metadata": {},
   "outputs": [
    {
     "data": {
      "text/html": [
       "<div>\n",
       "<style scoped>\n",
       "    .dataframe tbody tr th:only-of-type {\n",
       "        vertical-align: middle;\n",
       "    }\n",
       "\n",
       "    .dataframe tbody tr th {\n",
       "        vertical-align: top;\n",
       "    }\n",
       "\n",
       "    .dataframe thead th {\n",
       "        text-align: right;\n",
       "    }\n",
       "</style>\n",
       "<table border=\"1\" class=\"dataframe\">\n",
       "  <thead>\n",
       "    <tr style=\"text-align: right;\">\n",
       "      <th></th>\n",
       "      <th></th>\n",
       "      <th>passholder_type</th>\n",
       "    </tr>\n",
       "    <tr>\n",
       "      <th>date_hour</th>\n",
       "      <th>type</th>\n",
       "      <th></th>\n",
       "    </tr>\n",
       "  </thead>\n",
       "  <tbody>\n",
       "    <tr>\n",
       "      <th rowspan=\"2\" valign=\"top\">01-01-00</th>\n",
       "      <th>0</th>\n",
       "      <td>11</td>\n",
       "    </tr>\n",
       "    <tr>\n",
       "      <th>1</th>\n",
       "      <td>15</td>\n",
       "    </tr>\n",
       "    <tr>\n",
       "      <th rowspan=\"2\" valign=\"top\">01-01-01</th>\n",
       "      <th>0</th>\n",
       "      <td>28</td>\n",
       "    </tr>\n",
       "    <tr>\n",
       "      <th>1</th>\n",
       "      <td>12</td>\n",
       "    </tr>\n",
       "    <tr>\n",
       "      <th>01-01-02</th>\n",
       "      <th>0</th>\n",
       "      <td>21</td>\n",
       "    </tr>\n",
       "    <tr>\n",
       "      <th>...</th>\n",
       "      <th>...</th>\n",
       "      <td>...</td>\n",
       "    </tr>\n",
       "    <tr>\n",
       "      <th rowspan=\"2\" valign=\"top\">12-31-21</th>\n",
       "      <th>0</th>\n",
       "      <td>1</td>\n",
       "    </tr>\n",
       "    <tr>\n",
       "      <th>1</th>\n",
       "      <td>17</td>\n",
       "    </tr>\n",
       "    <tr>\n",
       "      <th rowspan=\"2\" valign=\"top\">12-31-22</th>\n",
       "      <th>0</th>\n",
       "      <td>13</td>\n",
       "    </tr>\n",
       "    <tr>\n",
       "      <th>1</th>\n",
       "      <td>8</td>\n",
       "    </tr>\n",
       "    <tr>\n",
       "      <th>12-31-23</th>\n",
       "      <th>1</th>\n",
       "      <td>12</td>\n",
       "    </tr>\n",
       "  </tbody>\n",
       "</table>\n",
       "<p>15894 rows × 1 columns</p>\n",
       "</div>"
      ],
      "text/plain": [
       "                passholder_type\n",
       "date_hour type                 \n",
       "01-01-00  0                  11\n",
       "          1                  15\n",
       "01-01-01  0                  28\n",
       "          1                  12\n",
       "01-01-02  0                  21\n",
       "...                         ...\n",
       "12-31-21  0                   1\n",
       "          1                  17\n",
       "12-31-22  0                  13\n",
       "          1                   8\n",
       "12-31-23  1                  12\n",
       "\n",
       "[15894 rows x 1 columns]"
      ]
     },
     "execution_count": 53,
     "metadata": {},
     "output_type": "execute_result"
    }
   ],
   "source": [
    "hourly_share = type_shares.groupby([\"date_hour\", \"type\"]).count()\n",
    "hourly_share = pd.DataFrame(hourly_share)\n",
    "hourly_share"
   ]
  },
  {
   "cell_type": "code",
   "execution_count": 54,
   "id": "cfd88941",
   "metadata": {},
   "outputs": [],
   "source": [
    "hourly_share_per = hourly_share.groupby(level=0).apply(lambda x:\n",
    "                                                 100 * x / float(x.sum()))"
   ]
  },
  {
   "cell_type": "code",
   "execution_count": 55,
   "id": "511bbb5c",
   "metadata": {},
   "outputs": [
    {
     "data": {
      "text/html": [
       "<div>\n",
       "<style scoped>\n",
       "    .dataframe tbody tr th:only-of-type {\n",
       "        vertical-align: middle;\n",
       "    }\n",
       "\n",
       "    .dataframe tbody tr th {\n",
       "        vertical-align: top;\n",
       "    }\n",
       "\n",
       "    .dataframe thead th {\n",
       "        text-align: right;\n",
       "    }\n",
       "</style>\n",
       "<table border=\"1\" class=\"dataframe\">\n",
       "  <thead>\n",
       "    <tr style=\"text-align: right;\">\n",
       "      <th></th>\n",
       "      <th></th>\n",
       "      <th>passholder_type</th>\n",
       "    </tr>\n",
       "    <tr>\n",
       "      <th>date_hour</th>\n",
       "      <th>type</th>\n",
       "      <th></th>\n",
       "    </tr>\n",
       "  </thead>\n",
       "  <tbody>\n",
       "    <tr>\n",
       "      <th rowspan=\"2\" valign=\"top\">01-01-00</th>\n",
       "      <th>0</th>\n",
       "      <td>42.307692</td>\n",
       "    </tr>\n",
       "    <tr>\n",
       "      <th>1</th>\n",
       "      <td>57.692308</td>\n",
       "    </tr>\n",
       "    <tr>\n",
       "      <th rowspan=\"2\" valign=\"top\">01-01-01</th>\n",
       "      <th>0</th>\n",
       "      <td>70.000000</td>\n",
       "    </tr>\n",
       "    <tr>\n",
       "      <th>1</th>\n",
       "      <td>30.000000</td>\n",
       "    </tr>\n",
       "    <tr>\n",
       "      <th>01-01-02</th>\n",
       "      <th>0</th>\n",
       "      <td>63.636364</td>\n",
       "    </tr>\n",
       "    <tr>\n",
       "      <th>...</th>\n",
       "      <th>...</th>\n",
       "      <td>...</td>\n",
       "    </tr>\n",
       "    <tr>\n",
       "      <th rowspan=\"2\" valign=\"top\">12-31-21</th>\n",
       "      <th>0</th>\n",
       "      <td>5.555556</td>\n",
       "    </tr>\n",
       "    <tr>\n",
       "      <th>1</th>\n",
       "      <td>94.444444</td>\n",
       "    </tr>\n",
       "    <tr>\n",
       "      <th rowspan=\"2\" valign=\"top\">12-31-22</th>\n",
       "      <th>0</th>\n",
       "      <td>61.904762</td>\n",
       "    </tr>\n",
       "    <tr>\n",
       "      <th>1</th>\n",
       "      <td>38.095238</td>\n",
       "    </tr>\n",
       "    <tr>\n",
       "      <th>12-31-23</th>\n",
       "      <th>1</th>\n",
       "      <td>100.000000</td>\n",
       "    </tr>\n",
       "  </tbody>\n",
       "</table>\n",
       "<p>15894 rows × 1 columns</p>\n",
       "</div>"
      ],
      "text/plain": [
       "                passholder_type\n",
       "date_hour type                 \n",
       "01-01-00  0           42.307692\n",
       "          1           57.692308\n",
       "01-01-01  0           70.000000\n",
       "          1           30.000000\n",
       "01-01-02  0           63.636364\n",
       "...                         ...\n",
       "12-31-21  0            5.555556\n",
       "          1           94.444444\n",
       "12-31-22  0           61.904762\n",
       "          1           38.095238\n",
       "12-31-23  1          100.000000\n",
       "\n",
       "[15894 rows x 1 columns]"
      ]
     },
     "execution_count": 55,
     "metadata": {},
     "output_type": "execute_result"
    }
   ],
   "source": [
    "hourly_share_per"
   ]
  },
  {
   "cell_type": "markdown",
   "id": "51c5cf94",
   "metadata": {},
   "source": [
    "# KPI - utilization\n",
    "\n",
    "Aktuelle Auslastung (Live & Historisch, Pro Station) (-> Mehr Stationen, Fahrräder?) # Lukas\n",
    "\n",
    "Aktuelle Auslastung: Heatmap / pro Tag / Station / Meistgefahrene Routen\n",
    "\n",
    "Top Station with started Trips\n"
   ]
  },
  {
   "cell_type": "code",
   "execution_count": 56,
   "id": "ec07568e",
   "metadata": {},
   "outputs": [],
   "source": [
    "#utilization = df.groupby([\"date\"]).agg(demand=(\"bike_id\", 'count'))\n"
   ]
  },
  {
   "cell_type": "code",
   "execution_count": 57,
   "id": "3eb23873",
   "metadata": {},
   "outputs": [
    {
     "data": {
      "text/html": [
       "<div>\n",
       "<style scoped>\n",
       "    .dataframe tbody tr th:only-of-type {\n",
       "        vertical-align: middle;\n",
       "    }\n",
       "\n",
       "    .dataframe tbody tr th {\n",
       "        vertical-align: top;\n",
       "    }\n",
       "\n",
       "    .dataframe thead th {\n",
       "        text-align: right;\n",
       "    }\n",
       "</style>\n",
       "<table border=\"1\" class=\"dataframe\">\n",
       "  <thead>\n",
       "    <tr style=\"text-align: right;\">\n",
       "      <th></th>\n",
       "      <th>start_time</th>\n",
       "      <th>start_station_id</th>\n",
       "      <th>trip_id</th>\n",
       "    </tr>\n",
       "  </thead>\n",
       "  <tbody>\n",
       "    <tr>\n",
       "      <th>0</th>\n",
       "      <td>2016-01-01</td>\n",
       "      <td>3004</td>\n",
       "      <td>8</td>\n",
       "    </tr>\n",
       "    <tr>\n",
       "      <th>1</th>\n",
       "      <td>2016-01-01</td>\n",
       "      <td>3005</td>\n",
       "      <td>5</td>\n",
       "    </tr>\n",
       "    <tr>\n",
       "      <th>2</th>\n",
       "      <td>2016-01-01</td>\n",
       "      <td>3006</td>\n",
       "      <td>2</td>\n",
       "    </tr>\n",
       "    <tr>\n",
       "      <th>3</th>\n",
       "      <td>2016-01-01</td>\n",
       "      <td>3007</td>\n",
       "      <td>7</td>\n",
       "    </tr>\n",
       "    <tr>\n",
       "      <th>4</th>\n",
       "      <td>2016-01-01</td>\n",
       "      <td>3009</td>\n",
       "      <td>5</td>\n",
       "    </tr>\n",
       "    <tr>\n",
       "      <th>...</th>\n",
       "      <td>...</td>\n",
       "      <td>...</td>\n",
       "      <td>...</td>\n",
       "    </tr>\n",
       "    <tr>\n",
       "      <th>33067</th>\n",
       "      <td>2016-12-31</td>\n",
       "      <td>3122</td>\n",
       "      <td>2</td>\n",
       "    </tr>\n",
       "    <tr>\n",
       "      <th>33068</th>\n",
       "      <td>2016-12-31</td>\n",
       "      <td>3123</td>\n",
       "      <td>4</td>\n",
       "    </tr>\n",
       "    <tr>\n",
       "      <th>33069</th>\n",
       "      <td>2016-12-31</td>\n",
       "      <td>3124</td>\n",
       "      <td>8</td>\n",
       "    </tr>\n",
       "    <tr>\n",
       "      <th>33070</th>\n",
       "      <td>2016-12-31</td>\n",
       "      <td>3125</td>\n",
       "      <td>11</td>\n",
       "    </tr>\n",
       "    <tr>\n",
       "      <th>33071</th>\n",
       "      <td>2016-12-31</td>\n",
       "      <td>3129</td>\n",
       "      <td>1</td>\n",
       "    </tr>\n",
       "  </tbody>\n",
       "</table>\n",
       "<p>33072 rows × 3 columns</p>\n",
       "</div>"
      ],
      "text/plain": [
       "       start_time  start_station_id  trip_id\n",
       "0      2016-01-01              3004        8\n",
       "1      2016-01-01              3005        5\n",
       "2      2016-01-01              3006        2\n",
       "3      2016-01-01              3007        7\n",
       "4      2016-01-01              3009        5\n",
       "...           ...               ...      ...\n",
       "33067  2016-12-31              3122        2\n",
       "33068  2016-12-31              3123        4\n",
       "33069  2016-12-31              3124        8\n",
       "33070  2016-12-31              3125       11\n",
       "33071  2016-12-31              3129        1\n",
       "\n",
       "[33072 rows x 3 columns]"
      ]
     },
     "execution_count": 57,
     "metadata": {},
     "output_type": "execute_result"
    }
   ],
   "source": [
    "utilization_date_id = df.groupby([df['start_time'].dt.floor(freq='D').dt.strftime('%Y-%m-%d'), \"start_station_id\"])['trip_id'].count()\n",
    "utilization_date_id = utilization_date_id.to_frame().reset_index()\n",
    "utilization_date_id"
   ]
  },
  {
   "cell_type": "code",
   "execution_count": 58,
   "id": "e3ba6279",
   "metadata": {},
   "outputs": [
    {
     "data": {
      "text/html": [
       "<div>\n",
       "<style scoped>\n",
       "    .dataframe tbody tr th:only-of-type {\n",
       "        vertical-align: middle;\n",
       "    }\n",
       "\n",
       "    .dataframe tbody tr th {\n",
       "        vertical-align: top;\n",
       "    }\n",
       "\n",
       "    .dataframe thead th {\n",
       "        text-align: right;\n",
       "    }\n",
       "</style>\n",
       "<table border=\"1\" class=\"dataframe\">\n",
       "  <thead>\n",
       "    <tr style=\"text-align: right;\">\n",
       "      <th></th>\n",
       "      <th>start_time</th>\n",
       "      <th>trip_id</th>\n",
       "    </tr>\n",
       "  </thead>\n",
       "  <tbody>\n",
       "    <tr>\n",
       "      <th>0</th>\n",
       "      <td>2016-01-01</td>\n",
       "      <td>639</td>\n",
       "    </tr>\n",
       "    <tr>\n",
       "      <th>1</th>\n",
       "      <td>2016-01-02</td>\n",
       "      <td>549</td>\n",
       "    </tr>\n",
       "    <tr>\n",
       "      <th>2</th>\n",
       "      <td>2016-01-03</td>\n",
       "      <td>511</td>\n",
       "    </tr>\n",
       "    <tr>\n",
       "      <th>3</th>\n",
       "      <td>2016-01-04</td>\n",
       "      <td>672</td>\n",
       "    </tr>\n",
       "    <tr>\n",
       "      <th>4</th>\n",
       "      <td>2016-01-05</td>\n",
       "      <td>628</td>\n",
       "    </tr>\n",
       "    <tr>\n",
       "      <th>...</th>\n",
       "      <td>...</td>\n",
       "      <td>...</td>\n",
       "    </tr>\n",
       "    <tr>\n",
       "      <th>359</th>\n",
       "      <td>2016-12-27</td>\n",
       "      <td>1017</td>\n",
       "    </tr>\n",
       "    <tr>\n",
       "      <th>360</th>\n",
       "      <td>2016-12-28</td>\n",
       "      <td>1042</td>\n",
       "    </tr>\n",
       "    <tr>\n",
       "      <th>361</th>\n",
       "      <td>2016-12-29</td>\n",
       "      <td>682</td>\n",
       "    </tr>\n",
       "    <tr>\n",
       "      <th>362</th>\n",
       "      <td>2016-12-30</td>\n",
       "      <td>887</td>\n",
       "    </tr>\n",
       "    <tr>\n",
       "      <th>363</th>\n",
       "      <td>2016-12-31</td>\n",
       "      <td>663</td>\n",
       "    </tr>\n",
       "  </tbody>\n",
       "</table>\n",
       "<p>364 rows × 2 columns</p>\n",
       "</div>"
      ],
      "text/plain": [
       "     start_time  trip_id\n",
       "0    2016-01-01      639\n",
       "1    2016-01-02      549\n",
       "2    2016-01-03      511\n",
       "3    2016-01-04      672\n",
       "4    2016-01-05      628\n",
       "..          ...      ...\n",
       "359  2016-12-27     1017\n",
       "360  2016-12-28     1042\n",
       "361  2016-12-29      682\n",
       "362  2016-12-30      887\n",
       "363  2016-12-31      663\n",
       "\n",
       "[364 rows x 2 columns]"
      ]
     },
     "execution_count": 58,
     "metadata": {},
     "output_type": "execute_result"
    }
   ],
   "source": [
    "utilization_daily = df.groupby([df['start_time'].dt.floor(freq='D').dt.strftime('%Y-%m-%d')])['trip_id'].count()\n",
    "utilization_daily = utilization_daily.to_frame().reset_index()\n",
    "utilization_daily"
   ]
  },
  {
   "cell_type": "markdown",
   "id": "8019e878",
   "metadata": {},
   "source": [
    "## Daily trips 01-01-2016 - 31.12.2016\n"
   ]
  },
  {
   "cell_type": "code",
   "execution_count": 59,
   "id": "2fe2a06b",
   "metadata": {},
   "outputs": [
    {
     "data": {
      "text/plain": [
       "[Text(0.5, 0, 'Year 2016'), [], Text(0, 0.5, 'Bike Trips')]"
      ]
     },
     "execution_count": 59,
     "metadata": {},
     "output_type": "execute_result"
    },
    {
     "data": {
      "image/png": "[encoded data removed]",
      "text/plain": [
       "<Figure size 1440x576 with 1 Axes>"
      ]
     },
     "metadata": {
      "needs_background": "light"
     },
     "output_type": "display_data"
    }
   ],
   "source": [
    "fig, ax = pp.subplots(figsize=(20, 8))\n",
    "dailyTrips = sns.lineplot(x='start_time', y='trip_id', data=utilization_daily, ax=ax)\n",
    "dailyTrips.set(xlabel='Year 2016', xticks=([]), ylabel='Bike Trips')\n"
   ]
  },
  {
   "cell_type": "code",
   "execution_count": 129,
   "id": "06c5ada6",
   "metadata": {},
   "outputs": [
    {
     "data": {
      "text/html": [
       "<div>\n",
       "<style scoped>\n",
       "    .dataframe tbody tr th:only-of-type {\n",
       "        vertical-align: middle;\n",
       "    }\n",
       "\n",
       "    .dataframe tbody tr th {\n",
       "        vertical-align: top;\n",
       "    }\n",
       "\n",
       "    .dataframe thead th {\n",
       "        text-align: right;\n",
       "    }\n",
       "</style>\n",
       "<table border=\"1\" class=\"dataframe\">\n",
       "  <thead>\n",
       "    <tr style=\"text-align: right;\">\n",
       "      <th></th>\n",
       "      <th>start_station_id</th>\n",
       "      <th>demand</th>\n",
       "    </tr>\n",
       "  </thead>\n",
       "  <tbody>\n",
       "    <tr>\n",
       "      <th>0</th>\n",
       "      <td>3023</td>\n",
       "      <td>26024</td>\n",
       "    </tr>\n",
       "    <tr>\n",
       "      <th>1</th>\n",
       "      <td>3010</td>\n",
       "      <td>19680</td>\n",
       "    </tr>\n",
       "    <tr>\n",
       "      <th>2</th>\n",
       "      <td>3021</td>\n",
       "      <td>18434</td>\n",
       "    </tr>\n",
       "    <tr>\n",
       "      <th>3</th>\n",
       "      <td>3045</td>\n",
       "      <td>17770</td>\n",
       "    </tr>\n",
       "    <tr>\n",
       "      <th>4</th>\n",
       "      <td>3032</td>\n",
       "      <td>16899</td>\n",
       "    </tr>\n",
       "    <tr>\n",
       "      <th>...</th>\n",
       "      <td>...</td>\n",
       "      <td>...</td>\n",
       "    </tr>\n",
       "    <tr>\n",
       "      <th>101</th>\n",
       "      <td>3103</td>\n",
       "      <td>703</td>\n",
       "    </tr>\n",
       "    <tr>\n",
       "      <th>102</th>\n",
       "      <td>3122</td>\n",
       "      <td>667</td>\n",
       "    </tr>\n",
       "    <tr>\n",
       "      <th>103</th>\n",
       "      <td>3016</td>\n",
       "      <td>417</td>\n",
       "    </tr>\n",
       "    <tr>\n",
       "      <th>104</th>\n",
       "      <td>3117</td>\n",
       "      <td>388</td>\n",
       "    </tr>\n",
       "    <tr>\n",
       "      <th>105</th>\n",
       "      <td>3000</td>\n",
       "      <td>2</td>\n",
       "    </tr>\n",
       "  </tbody>\n",
       "</table>\n",
       "<p>106 rows × 2 columns</p>\n",
       "</div>"
      ],
      "text/plain": [
       "     start_station_id  demand\n",
       "0                3023   26024\n",
       "1                3010   19680\n",
       "2                3021   18434\n",
       "3                3045   17770\n",
       "4                3032   16899\n",
       "..                ...     ...\n",
       "101              3103     703\n",
       "102              3122     667\n",
       "103              3016     417\n",
       "104              3117     388\n",
       "105              3000       2\n",
       "\n",
       "[106 rows x 2 columns]"
      ]
     },
     "execution_count": 129,
     "metadata": {},
     "output_type": "execute_result"
    }
   ],
   "source": [
    "bestStations = df.groupby([\"start_station_id\"]).agg(demand=(\"trip_id\", 'count')).sort_values(by='demand', ascending=False)\n",
    "bestStations=bestStations.reset_index()\n",
    "bestStations"
   ]
  },
  {
   "cell_type": "code",
   "execution_count": 152,
   "id": "deb9556b",
   "metadata": {},
   "outputs": [
    {
     "ename": "KeyError",
     "evalue": "\"Column '651971' does not exist!\"",
     "output_type": "error",
     "traceback": [
      "\u001b[0;31m---------------------------------------------------------------------------\u001b[0m",
      "\u001b[0;31mKeyError\u001b[0m                                  Traceback (most recent call last)",
      "\u001b[0;32m<ipython-input-152-4c7f8bf8c472>\u001b[0m in \u001b[0;36m<module>\u001b[0;34m\u001b[0m\n\u001b[0;32m----> 1\u001b[0;31m \u001b[0mduration\u001b[0m \u001b[0;34m=\u001b[0m \u001b[0mdf\u001b[0m\u001b[0;34m.\u001b[0m\u001b[0mgroupby\u001b[0m\u001b[0;34m(\u001b[0m\u001b[0;34m[\u001b[0m\u001b[0;34m\"start_station_id\"\u001b[0m\u001b[0;34m]\u001b[0m\u001b[0;34m)\u001b[0m\u001b[0;34m.\u001b[0m\u001b[0magg\u001b[0m\u001b[0;34m(\u001b[0m\u001b[0mduration\u001b[0m\u001b[0;34m=\u001b[0m\u001b[0;34m(\u001b[0m\u001b[0mdf\u001b[0m\u001b[0;34m[\u001b[0m\u001b[0;34m\"trip_id\"\u001b[0m\u001b[0;34m]\u001b[0m\u001b[0;34m.\u001b[0m\u001b[0mcount\u001b[0m\u001b[0;34m(\u001b[0m\u001b[0;34m)\u001b[0m\u001b[0;34m,\u001b[0m \u001b[0;34m'mean'\u001b[0m\u001b[0;34m)\u001b[0m\u001b[0;34m)\u001b[0m\u001b[0;34m.\u001b[0m\u001b[0msort_values\u001b[0m\u001b[0;34m(\u001b[0m\u001b[0mby\u001b[0m\u001b[0;34m=\u001b[0m\u001b[0;34m'duration'\u001b[0m\u001b[0;34m,\u001b[0m \u001b[0mascending\u001b[0m\u001b[0;34m=\u001b[0m\u001b[0;32mFalse\u001b[0m\u001b[0;34m)\u001b[0m\u001b[0;34m\u001b[0m\u001b[0;34m\u001b[0m\u001b[0m\n\u001b[0m\u001b[1;32m      2\u001b[0m \u001b[0mduration\u001b[0m\u001b[0;34m\u001b[0m\u001b[0;34m\u001b[0m\u001b[0m\n",
      "\u001b[0;32m~/opt/miniconda3/lib/python3.9/site-packages/pandas/core/groupby/generic.py\u001b[0m in \u001b[0;36maggregate\u001b[0;34m(self, func, engine, engine_kwargs, *args, **kwargs)\u001b[0m\n\u001b[1;32m    943\u001b[0m         \u001b[0mfunc\u001b[0m \u001b[0;34m=\u001b[0m \u001b[0mmaybe_mangle_lambdas\u001b[0m\u001b[0;34m(\u001b[0m\u001b[0mfunc\u001b[0m\u001b[0;34m)\u001b[0m\u001b[0;34m\u001b[0m\u001b[0;34m\u001b[0m\u001b[0m\n\u001b[1;32m    944\u001b[0m \u001b[0;34m\u001b[0m\u001b[0m\n\u001b[0;32m--> 945\u001b[0;31m         \u001b[0mresult\u001b[0m\u001b[0;34m,\u001b[0m \u001b[0mhow\u001b[0m \u001b[0;34m=\u001b[0m \u001b[0maggregate\u001b[0m\u001b[0;34m(\u001b[0m\u001b[0mself\u001b[0m\u001b[0;34m,\u001b[0m \u001b[0mfunc\u001b[0m\u001b[0;34m,\u001b[0m \u001b[0;34m*\u001b[0m\u001b[0margs\u001b[0m\u001b[0;34m,\u001b[0m \u001b[0;34m**\u001b[0m\u001b[0mkwargs\u001b[0m\u001b[0;34m)\u001b[0m\u001b[0;34m\u001b[0m\u001b[0;34m\u001b[0m\u001b[0m\n\u001b[0m\u001b[1;32m    946\u001b[0m         \u001b[0;32mif\u001b[0m \u001b[0mhow\u001b[0m \u001b[0;32mis\u001b[0m \u001b[0;32mNone\u001b[0m\u001b[0;34m:\u001b[0m\u001b[0;34m\u001b[0m\u001b[0;34m\u001b[0m\u001b[0m\n\u001b[1;32m    947\u001b[0m             \u001b[0;32mreturn\u001b[0m \u001b[0mresult\u001b[0m\u001b[0;34m\u001b[0m\u001b[0;34m\u001b[0m\u001b[0m\n",
      "\u001b[0;32m~/opt/miniconda3/lib/python3.9/site-packages/pandas/core/aggregation.py\u001b[0m in \u001b[0;36maggregate\u001b[0;34m(obj, arg, *args, **kwargs)\u001b[0m\n\u001b[1;32m    580\u001b[0m     \u001b[0;32melif\u001b[0m \u001b[0mis_dict_like\u001b[0m\u001b[0;34m(\u001b[0m\u001b[0marg\u001b[0m\u001b[0;34m)\u001b[0m\u001b[0;34m:\u001b[0m\u001b[0;34m\u001b[0m\u001b[0;34m\u001b[0m\u001b[0m\n\u001b[1;32m    581\u001b[0m         \u001b[0marg\u001b[0m \u001b[0;34m=\u001b[0m \u001b[0mcast\u001b[0m\u001b[0;34m(\u001b[0m\u001b[0mAggFuncTypeDict\u001b[0m\u001b[0;34m,\u001b[0m \u001b[0marg\u001b[0m\u001b[0;34m)\u001b[0m\u001b[0;34m\u001b[0m\u001b[0;34m\u001b[0m\u001b[0m\n\u001b[0;32m--> 582\u001b[0;31m         \u001b[0;32mreturn\u001b[0m \u001b[0magg_dict_like\u001b[0m\u001b[0;34m(\u001b[0m\u001b[0mobj\u001b[0m\u001b[0;34m,\u001b[0m \u001b[0marg\u001b[0m\u001b[0;34m,\u001b[0m \u001b[0m_axis\u001b[0m\u001b[0;34m)\u001b[0m\u001b[0;34m,\u001b[0m \u001b[0;32mTrue\u001b[0m\u001b[0;34m\u001b[0m\u001b[0;34m\u001b[0m\u001b[0m\n\u001b[0m\u001b[1;32m    583\u001b[0m     \u001b[0;32melif\u001b[0m \u001b[0mis_list_like\u001b[0m\u001b[0;34m(\u001b[0m\u001b[0marg\u001b[0m\u001b[0;34m)\u001b[0m\u001b[0;34m:\u001b[0m\u001b[0;34m\u001b[0m\u001b[0;34m\u001b[0m\u001b[0m\n\u001b[1;32m    584\u001b[0m         \u001b[0;31m# we require a list, but not an 'str'\u001b[0m\u001b[0;34m\u001b[0m\u001b[0;34m\u001b[0m\u001b[0;34m\u001b[0m\u001b[0m\n",
      "\u001b[0;32m~/opt/miniconda3/lib/python3.9/site-packages/pandas/core/aggregation.py\u001b[0m in \u001b[0;36magg_dict_like\u001b[0;34m(obj, arg, _axis)\u001b[0m\n\u001b[1;32m    744\u001b[0m                 \u001b[0misinstance\u001b[0m\u001b[0;34m(\u001b[0m\u001b[0mselected_obj\u001b[0m\u001b[0;34m,\u001b[0m \u001b[0mABCDataFrame\u001b[0m\u001b[0;34m)\u001b[0m \u001b[0;32mand\u001b[0m \u001b[0mk\u001b[0m \u001b[0;32mnot\u001b[0m \u001b[0;32min\u001b[0m \u001b[0mselected_obj\u001b[0m\u001b[0;34m.\u001b[0m\u001b[0mcolumns\u001b[0m\u001b[0;34m\u001b[0m\u001b[0;34m\u001b[0m\u001b[0m\n\u001b[1;32m    745\u001b[0m             ):\n\u001b[0;32m--> 746\u001b[0;31m                 \u001b[0;32mraise\u001b[0m \u001b[0mKeyError\u001b[0m\u001b[0;34m(\u001b[0m\u001b[0;34mf\"Column '{k}' does not exist!\"\u001b[0m\u001b[0;34m)\u001b[0m\u001b[0;34m\u001b[0m\u001b[0;34m\u001b[0m\u001b[0m\n\u001b[0m\u001b[1;32m    747\u001b[0m \u001b[0;34m\u001b[0m\u001b[0m\n\u001b[1;32m    748\u001b[0m         \u001b[0marg\u001b[0m \u001b[0;34m=\u001b[0m \u001b[0mnew_arg\u001b[0m\u001b[0;34m\u001b[0m\u001b[0;34m\u001b[0m\u001b[0m\n",
      "\u001b[0;31mKeyError\u001b[0m: \"Column '651971' does not exist!\""
     ]
    }
   ],
   "source": [
    "duration = df.groupby([\"start_station_id\"]).agg(duration=(df[\"trip_id\"].count(), 'mean')).sort_values(by='duration', ascending=False)\n",
    "duration\n"
   ]
  },
  {
   "cell_type": "code",
   "execution_count": 128,
   "id": "9303ac99",
   "metadata": {},
   "outputs": [
    {
     "data": {
      "image/png": "[encoded data removed]",
      "text/plain": [
       "<Figure size 1440x288 with 1 Axes>"
      ]
     },
     "metadata": {
      "needs_background": "light"
     },
     "output_type": "display_data"
    }
   ],
   "source": [
    "fig, ax = pp.subplots(figsize=(20,4))\n",
    "\n",
    "sns.barplot(x='start_station_id', y='demand', data=bestStations ,ax=ax)\n",
    "pp.show()"
   ]
  },
  {
   "cell_type": "raw",
   "id": "66faa470",
   "metadata": {},
   "source": []
  },
  {
   "cell_type": "code",
   "execution_count": 142,
   "id": "47572785",
   "metadata": {},
   "outputs": [
    {
     "data": {
      "text/html": [
       "<div>\n",
       "<style scoped>\n",
       "    .dataframe tbody tr th:only-of-type {\n",
       "        vertical-align: middle;\n",
       "    }\n",
       "\n",
       "    .dataframe tbody tr th {\n",
       "        vertical-align: top;\n",
       "    }\n",
       "\n",
       "    .dataframe thead th {\n",
       "        text-align: right;\n",
       "    }\n",
       "</style>\n",
       "<table border=\"1\" class=\"dataframe\">\n",
       "  <thead>\n",
       "    <tr style=\"text-align: right;\">\n",
       "      <th></th>\n",
       "      <th>route_id</th>\n",
       "      <th>trips</th>\n",
       "    </tr>\n",
       "  </thead>\n",
       "  <tbody>\n",
       "    <tr>\n",
       "      <th>0</th>\n",
       "      <td>3057-3057</td>\n",
       "      <td>3551</td>\n",
       "    </tr>\n",
       "    <tr>\n",
       "      <th>1</th>\n",
       "      <td>3020-3032</td>\n",
       "      <td>2470</td>\n",
       "    </tr>\n",
       "    <tr>\n",
       "      <th>2</th>\n",
       "      <td>3029-3023</td>\n",
       "      <td>1573</td>\n",
       "    </tr>\n",
       "    <tr>\n",
       "      <th>3</th>\n",
       "      <td>3023-3029</td>\n",
       "      <td>1519</td>\n",
       "    </tr>\n",
       "    <tr>\n",
       "      <th>4</th>\n",
       "      <td>3032-3020</td>\n",
       "      <td>1497</td>\n",
       "    </tr>\n",
       "    <tr>\n",
       "      <th>...</th>\n",
       "      <td>...</td>\n",
       "      <td>...</td>\n",
       "    </tr>\n",
       "    <tr>\n",
       "      <th>6356</th>\n",
       "      <td>3028-3011</td>\n",
       "      <td>11</td>\n",
       "    </tr>\n",
       "    <tr>\n",
       "      <th>6357</th>\n",
       "      <td>3038-3047</td>\n",
       "      <td>11</td>\n",
       "    </tr>\n",
       "    <tr>\n",
       "      <th>6358</th>\n",
       "      <td>3004-3106</td>\n",
       "      <td>11</td>\n",
       "    </tr>\n",
       "    <tr>\n",
       "      <th>6359</th>\n",
       "      <td>3077-3006</td>\n",
       "      <td>11</td>\n",
       "    </tr>\n",
       "    <tr>\n",
       "      <th>6360</th>\n",
       "      <td>3039-3122</td>\n",
       "      <td>11</td>\n",
       "    </tr>\n",
       "  </tbody>\n",
       "</table>\n",
       "<p>6361 rows × 2 columns</p>\n",
       "</div>"
      ],
      "text/plain": [
       "       route_id  trips\n",
       "0     3057-3057   3551\n",
       "1     3020-3032   2470\n",
       "2     3029-3023   1573\n",
       "3     3023-3029   1519\n",
       "4     3032-3020   1497\n",
       "...         ...    ...\n",
       "6356  3028-3011     11\n",
       "6357  3038-3047     11\n",
       "6358  3004-3106     11\n",
       "6359  3077-3006     11\n",
       "6360  3039-3122     11\n",
       "\n",
       "[6361 rows x 2 columns]"
      ]
     },
     "execution_count": 142,
     "metadata": {},
     "output_type": "execute_result"
    }
   ],
   "source": [
    "# Create a \"Route ID\" in the \"[start_station_id]-[end_station_id]\" format\n",
    "route['route_id'] = df.apply(lambda x: '{0}-{1}'.format(int(x['start_station_id']), int(x['end_station_id'])), axis=1)\n",
    "bestRoutes = route.value_counts().to_frame().reset_index()\n",
    "bestRoutes.columns = ['route_id', 'trips']\n",
    "bestRoutes = bestRoutes.loc[bestRoutes['trips'] > 10]\n",
    "bestRoutes\n"
   ]
  },
  {
   "cell_type": "code",
   "execution_count": 143,
   "id": "516d66f9",
   "metadata": {},
   "outputs": [
    {
     "data": {
      "image/png": "[encoded data removed]",
      "text/plain": [
       "<Figure size 432x288 with 1 Axes>"
      ]
     },
     "metadata": {
      "needs_background": "light"
     },
     "output_type": "display_data"
    }
   ],
   "source": [
    "bestRoutes = sns.lineplot(data=bestRoutes)\n",
    "\n"
   ]
  },
  {
   "cell_type": "code",
   "execution_count": null,
   "id": "1a4c80d2",
   "metadata": {},
   "outputs": [],
   "source": []
  },
  {
   "cell_type": "code",
   "execution_count": null,
   "id": "33be284f",
   "metadata": {},
   "outputs": [],
   "source": []
  }
 ],
 "metadata": {
  "kernelspec": {
   "display_name": "Python 3",
   "language": "python",
   "name": "python3"
  },
  "language_info": {
   "codemirror_mode": {
    "name": "ipython",
    "version": 3
   },
   "file_extension": ".py",
   "mimetype": "text/x-python",
   "name": "python",
   "nbconvert_exporter": "python",
   "pygments_lexer": "ipython3",
   "version": "3.9.1"
  }
 },
 "nbformat": 4,
 "nbformat_minor": 5
}
