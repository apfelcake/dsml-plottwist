{
 "cells": [
  {
   "cell_type": "code",
   "execution_count": 2,
   "metadata": {},
   "outputs": [],
   "source": [
    "import numpy as np\n",
    "import pandas as pd\n",
    "\n",
    "\n",
    "\n",
    "import matplotlib\n",
    "import matplotlib.pyplot as plt\n",
    "import matplotlib.pyplot as pp\n",
    "import seaborn as sns\n",
    "\n",
    "from sklearn.linear_model import LinearRegression\n",
    "from sklearn.metrics import mean_squared_error, mean_absolute_error, r2_score\n",
    "from datetime import date, time, datetime, timedelta \n",
    "import calendar\n",
    "import glob\n",
    "import folium \n",
    "import statistics\n",
    "\n",
    "%matplotlib inline"
   ]
  },
  {
   "cell_type": "code",
   "execution_count": 6,
   "metadata": {},
   "outputs": [],
   "source": [
    "csv_files = glob.glob('Datasets/RideIndego 2016/*.csv')\n",
    "df = pd.concat([pd.read_csv(f) for f  in csv_files], ignore_index = True)"
   ]
  },
  {
   "cell_type": "code",
   "execution_count": 7,
   "metadata": {},
   "outputs": [],
   "source": [
    "#df.head ()"
   ]
  },
  {
   "cell_type": "code",
   "execution_count": 8,
   "metadata": {},
   "outputs": [],
   "source": [
    "#df.nunique()"
   ]
  },
  {
   "cell_type": "markdown",
   "metadata": {},
   "source": [
    "# 4.Extras "
   ]
  },
  {
   "cell_type": "markdown",
   "metadata": {},
   "source": []
  },
  {
   "cell_type": "markdown",
   "metadata": {},
   "source": [
    "# Average uses per bicycle "
   ]
  },
  {
   "cell_type": "code",
   "execution_count": 9,
   "metadata": {},
   "outputs": [],
   "source": [
    "#calculate trips per bike\n",
    "use_bikes = df.groupby([\"bike_id\"], as_index=False)[\"trip_id\"].count()"
   ]
  },
  {
   "cell_type": "code",
   "execution_count": 34,
   "metadata": {},
   "outputs": [],
   "source": [
    "#calculate trips per bike\n",
    "bikes = df.groupby([\"bike_id\"], as_index=False)[\"trip_id\"].count()"
   ]
  },
  {
   "cell_type": "code",
   "execution_count": 10,
   "metadata": {},
   "outputs": [],
   "source": [
    "use_bikes[\"trips\"] = use_bikes[\"trip_id\"]"
   ]
  },
  {
   "cell_type": "code",
   "execution_count": 11,
   "metadata": {},
   "outputs": [],
   "source": [
    "use_bikes.drop(\"trip_id\",axis= 1,inplace=True)"
   ]
  },
  {
   "cell_type": "code",
   "execution_count": 12,
   "metadata": {},
   "outputs": [],
   "source": [
    "#use_bikes.head()\n"
   ]
  },
  {
   "cell_type": "code",
   "execution_count": 13,
   "metadata": {},
   "outputs": [
    {
     "data": {
      "text/plain": [
       "639.705078125"
      ]
     },
     "execution_count": 13,
     "metadata": {},
     "output_type": "execute_result"
    }
   ],
   "source": [
    "#average trips per bike\n",
    "y = statistics.mean(use_bikes[\"trips\"])\n",
    "y"
   ]
  },
  {
   "cell_type": "code",
   "execution_count": 14,
   "metadata": {},
   "outputs": [
    {
     "data": {
      "text/plain": [
       "1057"
      ]
     },
     "execution_count": 14,
     "metadata": {},
     "output_type": "execute_result"
    }
   ],
   "source": [
    "#maximum trips per bike\n",
    "max__= use_bikes[\"trips\"].max()\n",
    "max__"
   ]
  },
  {
   "cell_type": "code",
   "execution_count": 15,
   "metadata": {},
   "outputs": [
    {
     "data": {
      "text/plain": [
       "18"
      ]
     },
     "execution_count": 15,
     "metadata": {},
     "output_type": "execute_result"
    }
   ],
   "source": [
    "#minimun trips per bike\n",
    "min__ = use_bikes[\"trips\"].min()\n",
    "min__"
   ]
  },
  {
   "cell_type": "code",
   "execution_count": 16,
   "metadata": {},
   "outputs": [],
   "source": [
    "#average trips per bike daily\n",
    "use_bikes[\"trip/day\"] = use_bikes[\"trips\"].div(356)"
   ]
  },
  {
   "cell_type": "code",
   "execution_count": 17,
   "metadata": {},
   "outputs": [],
   "source": [
    "#average trips per bike hourly\n",
    "use_bikes[\"trip/hour\"] = use_bikes[\"trips\"].div(8760)"
   ]
  },
  {
   "cell_type": "code",
   "execution_count": null,
   "metadata": {},
   "outputs": [],
   "source": [
    "#use_bikes.drop(\"trip\",axis= 1,inplace=True)"
   ]
  },
  {
   "cell_type": "code",
   "execution_count": 19,
   "metadata": {},
   "outputs": [
    {
     "data": {
      "text/html": [
       "<div>\n",
       "<style scoped>\n",
       "    .dataframe tbody tr th:only-of-type {\n",
       "        vertical-align: middle;\n",
       "    }\n",
       "\n",
       "    .dataframe tbody tr th {\n",
       "        vertical-align: top;\n",
       "    }\n",
       "\n",
       "    .dataframe thead th {\n",
       "        text-align: right;\n",
       "    }\n",
       "</style>\n",
       "<table border=\"1\" class=\"dataframe\">\n",
       "  <thead>\n",
       "    <tr style=\"text-align: right;\">\n",
       "      <th></th>\n",
       "      <th>bike_id</th>\n",
       "      <th>trips</th>\n",
       "      <th>trip/day</th>\n",
       "      <th>trip/hour</th>\n",
       "    </tr>\n",
       "  </thead>\n",
       "  <tbody>\n",
       "    <tr>\n",
       "      <th>0</th>\n",
       "      <td>2472</td>\n",
       "      <td>681</td>\n",
       "      <td>1.912921</td>\n",
       "      <td>0.077740</td>\n",
       "    </tr>\n",
       "    <tr>\n",
       "      <th>1</th>\n",
       "      <td>2473</td>\n",
       "      <td>690</td>\n",
       "      <td>1.938202</td>\n",
       "      <td>0.078767</td>\n",
       "    </tr>\n",
       "    <tr>\n",
       "      <th>2</th>\n",
       "      <td>2474</td>\n",
       "      <td>627</td>\n",
       "      <td>1.761236</td>\n",
       "      <td>0.071575</td>\n",
       "    </tr>\n",
       "    <tr>\n",
       "      <th>3</th>\n",
       "      <td>2475</td>\n",
       "      <td>691</td>\n",
       "      <td>1.941011</td>\n",
       "      <td>0.078881</td>\n",
       "    </tr>\n",
       "    <tr>\n",
       "      <th>4</th>\n",
       "      <td>2476</td>\n",
       "      <td>646</td>\n",
       "      <td>1.814607</td>\n",
       "      <td>0.073744</td>\n",
       "    </tr>\n",
       "  </tbody>\n",
       "</table>\n",
       "</div>"
      ],
      "text/plain": [
       "   bike_id  trips  trip/day  trip/hour\n",
       "0     2472    681  1.912921   0.077740\n",
       "1     2473    690  1.938202   0.078767\n",
       "2     2474    627  1.761236   0.071575\n",
       "3     2475    691  1.941011   0.078881\n",
       "4     2476    646  1.814607   0.073744"
      ]
     },
     "execution_count": 19,
     "metadata": {},
     "output_type": "execute_result"
    }
   ],
   "source": [
    "use_bikes.head()"
   ]
  },
  {
   "cell_type": "code",
   "execution_count": 20,
   "metadata": {},
   "outputs": [
    {
     "data": {
      "text/plain": [
       "0.07302569384988584"
      ]
     },
     "execution_count": 20,
     "metadata": {},
     "output_type": "execute_result"
    }
   ],
   "source": [
    "#average trips per bike(hourly)\n",
    "mean = statistics.mean(use_bikes[\"trip/hour\"])\n",
    "mean"
   ]
  },
  {
   "cell_type": "code",
   "execution_count": 21,
   "metadata": {},
   "outputs": [
    {
     "data": {
      "text/plain": [
       "0.120662100456621"
      ]
     },
     "execution_count": 21,
     "metadata": {},
     "output_type": "execute_result"
    }
   ],
   "source": [
    "#maximum trips per bike(hourly)\n",
    "max_ = use_bikes[\"trip/hour\"].max()\n",
    "max_"
   ]
  },
  {
   "cell_type": "code",
   "execution_count": 22,
   "metadata": {},
   "outputs": [
    {
     "data": {
      "text/plain": [
       "0.002054794520547945"
      ]
     },
     "execution_count": 22,
     "metadata": {},
     "output_type": "execute_result"
    }
   ],
   "source": [
    "#minimun trips per bike(hourly)\n",
    "min_ = use_bikes[\"trip/hour\"].min()\n",
    "min_"
   ]
  },
  {
   "cell_type": "code",
   "execution_count": 23,
   "metadata": {},
   "outputs": [],
   "source": [
    "#ajusting start_time to datetime type\n",
    "df[\"start_time\"] = pd.to_datetime(df[\"start_time\"])\n",
    "df['date_hour'] = df['start_time'].dt.strftime('%m-%d-%H')\n",
    "df[\"hour\"] = df[\"start_time\"].apply(lambda dt: dt.hour)"
   ]
  },
  {
   "cell_type": "code",
   "execution_count": 24,
   "metadata": {},
   "outputs": [],
   "source": [
    "#df.head()"
   ]
  },
  {
   "cell_type": "code",
   "execution_count": 25,
   "metadata": {},
   "outputs": [],
   "source": [
    "#merging the datasets\n",
    "bikes_info = pd.merge(df,use_bikes, on=\"bike_id\")"
   ]
  },
  {
   "cell_type": "code",
   "execution_count": 26,
   "metadata": {},
   "outputs": [],
   "source": [
    "#droping the irrelevant columns\n",
    "bikes_info.drop([\"plan_duration\",\"trip_route_category\",\"passholder_type\",\"start_lon\",\"start_lat\",\"end_lat\",\"end_lon\"],axis=1, inplace =True)"
   ]
  },
  {
   "cell_type": "markdown",
   "metadata": {},
   "source": [
    "### Selecting  specific bicycles as example"
   ]
  },
  {
   "cell_type": "code",
   "execution_count": 28,
   "metadata": {},
   "outputs": [
    {
     "data": {
      "text/html": [
       "<div>\n",
       "<style scoped>\n",
       "    .dataframe tbody tr th:only-of-type {\n",
       "        vertical-align: middle;\n",
       "    }\n",
       "\n",
       "    .dataframe tbody tr th {\n",
       "        vertical-align: top;\n",
       "    }\n",
       "\n",
       "    .dataframe thead th {\n",
       "        text-align: right;\n",
       "    }\n",
       "</style>\n",
       "<table border=\"1\" class=\"dataframe\">\n",
       "  <thead>\n",
       "    <tr style=\"text-align: right;\">\n",
       "      <th></th>\n",
       "      <th>trip_id</th>\n",
       "    </tr>\n",
       "    <tr>\n",
       "      <th>hour</th>\n",
       "      <th></th>\n",
       "    </tr>\n",
       "  </thead>\n",
       "  <tbody>\n",
       "    <tr>\n",
       "      <th>0</th>\n",
       "      <td>1</td>\n",
       "    </tr>\n",
       "    <tr>\n",
       "      <th>3</th>\n",
       "      <td>1</td>\n",
       "    </tr>\n",
       "    <tr>\n",
       "      <th>6</th>\n",
       "      <td>1</td>\n",
       "    </tr>\n",
       "    <tr>\n",
       "      <th>9</th>\n",
       "      <td>3</td>\n",
       "    </tr>\n",
       "    <tr>\n",
       "      <th>10</th>\n",
       "      <td>1</td>\n",
       "    </tr>\n",
       "  </tbody>\n",
       "</table>\n",
       "</div>"
      ],
      "text/plain": [
       "      trip_id\n",
       "hour         \n",
       "0           1\n",
       "3           1\n",
       "6           1\n",
       "9           3\n",
       "10          1"
      ]
     },
     "execution_count": 28,
     "metadata": {},
     "output_type": "execute_result"
    }
   ],
   "source": [
    "bike_info = bikes_info[bikes_info[\"bike_id\"] == 5348]\n",
    "bike_info = bike_info.groupby([\"hour\"])[\"trip_id\"].nunique()\n",
    "bike_info = pd.DataFrame(bike_info)\n",
    "bike_info.head()\n"
   ]
  },
  {
   "cell_type": "code",
   "execution_count": 29,
   "metadata": {
    "scrolled": true
   },
   "outputs": [
    {
     "data": {
      "image/png": "[encoded data removed]",
      "text/plain": [
       "<Figure size 720x288 with 1 Axes>"
      ]
     },
     "metadata": {
      "needs_background": "light"
     },
     "output_type": "display_data"
    }
   ],
   "source": [
    "fig, ax = pp.subplots(figsize=(10,4))\n",
    "\n",
    "sns.barplot(x=bike_info.index.get_level_values(0), y=bike_info[\"trip_id\"],ax=ax)\n",
    "pp.xlabel(\"Trips\", fontdict={'size':11})\n",
    "pp.ylabel(\"Hour\", fontdict={\"size\":11})\n",
    "pp.title(\"Overview of hourly demand of the bike 5348\", fontsize=14.0, fontweight='bold')\n",
    "\n",
    "pp.show()"
   ]
  },
  {
   "cell_type": "code",
   "execution_count": 30,
   "metadata": {},
   "outputs": [],
   "source": [
    "#bike_info.head()"
   ]
  },
  {
   "cell_type": "code",
   "execution_count": 31,
   "metadata": {},
   "outputs": [
    {
     "data": {
      "text/html": [
       "<div>\n",
       "<style scoped>\n",
       "    .dataframe tbody tr th:only-of-type {\n",
       "        vertical-align: middle;\n",
       "    }\n",
       "\n",
       "    .dataframe tbody tr th {\n",
       "        vertical-align: top;\n",
       "    }\n",
       "\n",
       "    .dataframe thead th {\n",
       "        text-align: right;\n",
       "    }\n",
       "</style>\n",
       "<table border=\"1\" class=\"dataframe\">\n",
       "  <thead>\n",
       "    <tr style=\"text-align: right;\">\n",
       "      <th></th>\n",
       "      <th>trip_id</th>\n",
       "    </tr>\n",
       "    <tr>\n",
       "      <th>hour</th>\n",
       "      <th></th>\n",
       "    </tr>\n",
       "  </thead>\n",
       "  <tbody>\n",
       "    <tr>\n",
       "      <th>0</th>\n",
       "      <td>10</td>\n",
       "    </tr>\n",
       "    <tr>\n",
       "      <th>1</th>\n",
       "      <td>7</td>\n",
       "    </tr>\n",
       "    <tr>\n",
       "      <th>2</th>\n",
       "      <td>8</td>\n",
       "    </tr>\n",
       "    <tr>\n",
       "      <th>3</th>\n",
       "      <td>3</td>\n",
       "    </tr>\n",
       "    <tr>\n",
       "      <th>4</th>\n",
       "      <td>2</td>\n",
       "    </tr>\n",
       "  </tbody>\n",
       "</table>\n",
       "</div>"
      ],
      "text/plain": [
       "      trip_id\n",
       "hour         \n",
       "0          10\n",
       "1           7\n",
       "2           8\n",
       "3           3\n",
       "4           2"
      ]
     },
     "execution_count": 31,
     "metadata": {},
     "output_type": "execute_result"
    }
   ],
   "source": [
    "bike_info1 = bikes_info[bikes_info[\"bike_id\"] == 3724]\n",
    "bike_info1 = bike_info1.groupby([\"hour\"])[\"trip_id\"].nunique()\n",
    "bike_info1 = pd.DataFrame(bike_info1)\n",
    "bike_info1.head()\n"
   ]
  },
  {
   "cell_type": "code",
   "execution_count": 32,
   "metadata": {},
   "outputs": [
    {
     "data": {
      "image/png": "[encoded data removed]",
      "text/plain": [
       "<Figure size 720x288 with 1 Axes>"
      ]
     },
     "metadata": {
      "needs_background": "light"
     },
     "output_type": "display_data"
    }
   ],
   "source": [
    "fig, ax = pp.subplots(figsize=(10,4))\n",
    "\n",
    "sns.barplot(x=bike_info1.index.get_level_values(0), y=bike_info1[\"trip_id\"],ax=ax)\n",
    "pp.xlabel(\"Trips\", fontdict={'size':11})\n",
    "pp.ylabel(\"Hour\", fontdict={\"size\":11})\n",
    "pp.title(\"Overview of hourly demand of the bike 3724\", fontsize=14.0, fontweight='bold')\n",
    "\n",
    "pp.show()"
   ]
  },
  {
   "cell_type": "markdown",
   "metadata": {},
   "source": []
  },
  {
   "cell_type": "markdown",
   "metadata": {},
   "source": [
    "## Status_Information"
   ]
  },
  {
   "cell_type": "code",
   "execution_count": 3,
   "metadata": {},
   "outputs": [],
   "source": [
    "sta = pd.read_csv(r\"C:\\Users\\ntpec\\Downloads\\indego-stations-2021-01-01.csv\")"
   ]
  },
  {
   "cell_type": "code",
   "execution_count": 5,
   "metadata": {},
   "outputs": [
    {
     "data": {
      "text/html": [
       "<div>\n",
       "<style scoped>\n",
       "    .dataframe tbody tr th:only-of-type {\n",
       "        vertical-align: middle;\n",
       "    }\n",
       "\n",
       "    .dataframe tbody tr th {\n",
       "        vertical-align: top;\n",
       "    }\n",
       "\n",
       "    .dataframe thead th {\n",
       "        text-align: right;\n",
       "    }\n",
       "</style>\n",
       "<table border=\"1\" class=\"dataframe\">\n",
       "  <thead>\n",
       "    <tr style=\"text-align: right;\">\n",
       "      <th></th>\n",
       "      <th>Station_ID</th>\n",
       "      <th>Station_Name</th>\n",
       "      <th>Go_live_date</th>\n",
       "      <th>Status</th>\n",
       "    </tr>\n",
       "  </thead>\n",
       "  <tbody>\n",
       "    <tr>\n",
       "      <th>0</th>\n",
       "      <td>3000</td>\n",
       "      <td>Virtual Station</td>\n",
       "      <td>2015-04-23</td>\n",
       "      <td>Active</td>\n",
       "    </tr>\n",
       "    <tr>\n",
       "      <th>1</th>\n",
       "      <td>3004</td>\n",
       "      <td>Municipal Services Building Plaza</td>\n",
       "      <td>2015-04-23</td>\n",
       "      <td>Active</td>\n",
       "    </tr>\n",
       "    <tr>\n",
       "      <th>2</th>\n",
       "      <td>3005</td>\n",
       "      <td>Welcome Park, NPS</td>\n",
       "      <td>2015-04-23</td>\n",
       "      <td>Active</td>\n",
       "    </tr>\n",
       "    <tr>\n",
       "      <th>3</th>\n",
       "      <td>3006</td>\n",
       "      <td>40th &amp; Spruce</td>\n",
       "      <td>2015-04-23</td>\n",
       "      <td>Active</td>\n",
       "    </tr>\n",
       "    <tr>\n",
       "      <th>4</th>\n",
       "      <td>3007</td>\n",
       "      <td>11th &amp; Pine, Kahn Park</td>\n",
       "      <td>2015-04-23</td>\n",
       "      <td>Active</td>\n",
       "    </tr>\n",
       "  </tbody>\n",
       "</table>\n",
       "</div>"
      ],
      "text/plain": [
       "   Station_ID                       Station_Name Go_live_date  Status\n",
       "0        3000                    Virtual Station   2015-04-23  Active\n",
       "1        3004  Municipal Services Building Plaza   2015-04-23  Active\n",
       "2        3005                  Welcome Park, NPS   2015-04-23  Active\n",
       "3        3006                      40th & Spruce   2015-04-23  Active\n",
       "4        3007             11th & Pine, Kahn Park   2015-04-23  Active"
      ]
     },
     "execution_count": 5,
     "metadata": {},
     "output_type": "execute_result"
    }
   ],
   "source": [
    "#convert to datetime so that we can manipulate the dates\n",
    "sta[\"Go_live_date\"] = pd.to_datetime(sta[\"Go_live_date\"])\n",
    "sta.head()"
   ]
  },
  {
   "cell_type": "code",
   "execution_count": null,
   "metadata": {},
   "outputs": [],
   "source": [
    "#we are looking for nan values \n",
    "sta.isna().sum()"
   ]
  },
  {
   "cell_type": "code",
   "execution_count": 6,
   "metadata": {},
   "outputs": [
    {
     "data": {
      "text/html": [
       "<div>\n",
       "<style scoped>\n",
       "    .dataframe tbody tr th:only-of-type {\n",
       "        vertical-align: middle;\n",
       "    }\n",
       "\n",
       "    .dataframe tbody tr th {\n",
       "        vertical-align: top;\n",
       "    }\n",
       "\n",
       "    .dataframe thead th {\n",
       "        text-align: right;\n",
       "    }\n",
       "</style>\n",
       "<table border=\"1\" class=\"dataframe\">\n",
       "  <thead>\n",
       "    <tr style=\"text-align: right;\">\n",
       "      <th></th>\n",
       "      <th>Station_ID</th>\n",
       "      <th>Station_Name</th>\n",
       "      <th>Go_live_date</th>\n",
       "      <th>Status</th>\n",
       "    </tr>\n",
       "  </thead>\n",
       "  <tbody>\n",
       "    <tr>\n",
       "      <th>105</th>\n",
       "      <td>3124</td>\n",
       "      <td>Race Street Pier</td>\n",
       "      <td>2016-03-31</td>\n",
       "      <td>Active</td>\n",
       "    </tr>\n",
       "    <tr>\n",
       "      <th>106</th>\n",
       "      <td>3125</td>\n",
       "      <td>15th &amp; South</td>\n",
       "      <td>2016-04-08</td>\n",
       "      <td>Active</td>\n",
       "    </tr>\n",
       "    <tr>\n",
       "      <th>98</th>\n",
       "      <td>3117</td>\n",
       "      <td>ParkWest Town Center</td>\n",
       "      <td>2016-04-15</td>\n",
       "      <td>Active</td>\n",
       "    </tr>\n",
       "    <tr>\n",
       "      <th>100</th>\n",
       "      <td>3119</td>\n",
       "      <td>42nd &amp; Lancaster</td>\n",
       "      <td>2016-04-25</td>\n",
       "      <td>Active</td>\n",
       "    </tr>\n",
       "    <tr>\n",
       "      <th>99</th>\n",
       "      <td>3118</td>\n",
       "      <td>46th Street Station, MFL</td>\n",
       "      <td>2016-04-25</td>\n",
       "      <td>Active</td>\n",
       "    </tr>\n",
       "    <tr>\n",
       "      <th>102</th>\n",
       "      <td>3121</td>\n",
       "      <td>27th &amp; Girard</td>\n",
       "      <td>2016-04-26</td>\n",
       "      <td>Active</td>\n",
       "    </tr>\n",
       "    <tr>\n",
       "      <th>101</th>\n",
       "      <td>3120</td>\n",
       "      <td>31st &amp; Girard</td>\n",
       "      <td>2016-04-26</td>\n",
       "      <td>Active</td>\n",
       "    </tr>\n",
       "    <tr>\n",
       "      <th>104</th>\n",
       "      <td>3123</td>\n",
       "      <td>22nd &amp; Cecil B. Moore</td>\n",
       "      <td>2016-04-27</td>\n",
       "      <td>Active</td>\n",
       "    </tr>\n",
       "    <tr>\n",
       "      <th>103</th>\n",
       "      <td>3122</td>\n",
       "      <td>24th &amp; Cecil B. Moore, Cecil B. Moore Library</td>\n",
       "      <td>2016-04-27</td>\n",
       "      <td>Inactive</td>\n",
       "    </tr>\n",
       "    <tr>\n",
       "      <th>75</th>\n",
       "      <td>3093</td>\n",
       "      <td>33rd &amp; Diamond</td>\n",
       "      <td>2016-04-28</td>\n",
       "      <td>Active</td>\n",
       "    </tr>\n",
       "    <tr>\n",
       "      <th>76</th>\n",
       "      <td>3095</td>\n",
       "      <td>29th &amp; Diamond</td>\n",
       "      <td>2016-04-28</td>\n",
       "      <td>Inactive</td>\n",
       "    </tr>\n",
       "    <tr>\n",
       "      <th>77</th>\n",
       "      <td>3096</td>\n",
       "      <td>29th &amp; Dauphin</td>\n",
       "      <td>2016-04-29</td>\n",
       "      <td>Active</td>\n",
       "    </tr>\n",
       "    <tr>\n",
       "      <th>78</th>\n",
       "      <td>3097</td>\n",
       "      <td>Berks Station, MFL</td>\n",
       "      <td>2016-04-29</td>\n",
       "      <td>Active</td>\n",
       "    </tr>\n",
       "    <tr>\n",
       "      <th>81</th>\n",
       "      <td>3100</td>\n",
       "      <td>Moyamensing &amp; Tasker</td>\n",
       "      <td>2016-05-02</td>\n",
       "      <td>Active</td>\n",
       "    </tr>\n",
       "    <tr>\n",
       "      <th>79</th>\n",
       "      <td>3098</td>\n",
       "      <td>10th &amp; Federal</td>\n",
       "      <td>2016-05-02</td>\n",
       "      <td>Active</td>\n",
       "    </tr>\n",
       "    <tr>\n",
       "      <th>82</th>\n",
       "      <td>3101</td>\n",
       "      <td>11th &amp; South</td>\n",
       "      <td>2016-05-02</td>\n",
       "      <td>Active</td>\n",
       "    </tr>\n",
       "    <tr>\n",
       "      <th>80</th>\n",
       "      <td>3099</td>\n",
       "      <td>4th &amp; Washington</td>\n",
       "      <td>2016-05-02</td>\n",
       "      <td>Active</td>\n",
       "    </tr>\n",
       "    <tr>\n",
       "      <th>84</th>\n",
       "      <td>3103</td>\n",
       "      <td>27th &amp; Master, Athletic Recreation Center</td>\n",
       "      <td>2016-05-03</td>\n",
       "      <td>Inactive</td>\n",
       "    </tr>\n",
       "    <tr>\n",
       "      <th>85</th>\n",
       "      <td>3104</td>\n",
       "      <td>34th &amp; Mantua</td>\n",
       "      <td>2016-05-03</td>\n",
       "      <td>Active</td>\n",
       "    </tr>\n",
       "    <tr>\n",
       "      <th>83</th>\n",
       "      <td>3102</td>\n",
       "      <td>Pennsylvania &amp; Fairmount Perelman Building</td>\n",
       "      <td>2016-05-03</td>\n",
       "      <td>Active</td>\n",
       "    </tr>\n",
       "    <tr>\n",
       "      <th>86</th>\n",
       "      <td>3105</td>\n",
       "      <td>Penn Treaty Park</td>\n",
       "      <td>2016-05-03</td>\n",
       "      <td>Inactive</td>\n",
       "    </tr>\n",
       "    <tr>\n",
       "      <th>96</th>\n",
       "      <td>3115</td>\n",
       "      <td>19th &amp; Girard, PTTI</td>\n",
       "      <td>2016-05-04</td>\n",
       "      <td>Active</td>\n",
       "    </tr>\n",
       "    <tr>\n",
       "      <th>91</th>\n",
       "      <td>3110</td>\n",
       "      <td>Del. River Trail &amp; Penn St.</td>\n",
       "      <td>2016-05-04</td>\n",
       "      <td>Active</td>\n",
       "    </tr>\n",
       "    <tr>\n",
       "      <th>88</th>\n",
       "      <td>3107</td>\n",
       "      <td>33rd &amp; Reservoir</td>\n",
       "      <td>2016-05-04</td>\n",
       "      <td>Active</td>\n",
       "    </tr>\n",
       "    <tr>\n",
       "      <th>89</th>\n",
       "      <td>3108</td>\n",
       "      <td>15th &amp; Market</td>\n",
       "      <td>2016-05-04</td>\n",
       "      <td>Active</td>\n",
       "    </tr>\n",
       "    <tr>\n",
       "      <th>92</th>\n",
       "      <td>3111</td>\n",
       "      <td>Parkside &amp; Belmont, Case Building</td>\n",
       "      <td>2016-05-05</td>\n",
       "      <td>Active</td>\n",
       "    </tr>\n",
       "    <tr>\n",
       "      <th>95</th>\n",
       "      <td>3114</td>\n",
       "      <td>22nd &amp; Federal</td>\n",
       "      <td>2016-05-05</td>\n",
       "      <td>Active</td>\n",
       "    </tr>\n",
       "    <tr>\n",
       "      <th>87</th>\n",
       "      <td>3106</td>\n",
       "      <td>33rd &amp; Dauphin</td>\n",
       "      <td>2016-05-05</td>\n",
       "      <td>Active</td>\n",
       "    </tr>\n",
       "    <tr>\n",
       "      <th>93</th>\n",
       "      <td>3112</td>\n",
       "      <td>48th &amp; Spruce</td>\n",
       "      <td>2016-05-05</td>\n",
       "      <td>Active</td>\n",
       "    </tr>\n",
       "    <tr>\n",
       "      <th>90</th>\n",
       "      <td>3109</td>\n",
       "      <td>Parkside &amp; Girard</td>\n",
       "      <td>2016-05-06</td>\n",
       "      <td>Inactive</td>\n",
       "    </tr>\n",
       "    <tr>\n",
       "      <th>94</th>\n",
       "      <td>3113</td>\n",
       "      <td>Philadelphia Zoo</td>\n",
       "      <td>2016-05-06</td>\n",
       "      <td>Active</td>\n",
       "    </tr>\n",
       "    <tr>\n",
       "      <th>107</th>\n",
       "      <td>3129</td>\n",
       "      <td>The Children's Hospital of Philadelphia, Osler...</td>\n",
       "      <td>2016-05-24</td>\n",
       "      <td>Inactive</td>\n",
       "    </tr>\n",
       "  </tbody>\n",
       "</table>\n",
       "</div>"
      ],
      "text/plain": [
       "     Station_ID                                       Station_Name  \\\n",
       "105        3124                                   Race Street Pier   \n",
       "106        3125                                       15th & South   \n",
       "98         3117                               ParkWest Town Center   \n",
       "100        3119                                   42nd & Lancaster   \n",
       "99         3118                           46th Street Station, MFL   \n",
       "102        3121                                      27th & Girard   \n",
       "101        3120                                      31st & Girard   \n",
       "104        3123                              22nd & Cecil B. Moore   \n",
       "103        3122      24th & Cecil B. Moore, Cecil B. Moore Library   \n",
       "75         3093                                     33rd & Diamond   \n",
       "76         3095                                     29th & Diamond   \n",
       "77         3096                                     29th & Dauphin   \n",
       "78         3097                                 Berks Station, MFL   \n",
       "81         3100                               Moyamensing & Tasker   \n",
       "79         3098                                     10th & Federal   \n",
       "82         3101                                       11th & South   \n",
       "80         3099                                   4th & Washington   \n",
       "84         3103          27th & Master, Athletic Recreation Center   \n",
       "85         3104                                      34th & Mantua   \n",
       "83         3102         Pennsylvania & Fairmount Perelman Building   \n",
       "86         3105                                   Penn Treaty Park   \n",
       "96         3115                                19th & Girard, PTTI   \n",
       "91         3110                        Del. River Trail & Penn St.   \n",
       "88         3107                                   33rd & Reservoir   \n",
       "89         3108                                      15th & Market   \n",
       "92         3111                  Parkside & Belmont, Case Building   \n",
       "95         3114                                     22nd & Federal   \n",
       "87         3106                                     33rd & Dauphin   \n",
       "93         3112                                      48th & Spruce   \n",
       "90         3109                                  Parkside & Girard   \n",
       "94         3113                                   Philadelphia Zoo   \n",
       "107        3129  The Children's Hospital of Philadelphia, Osler...   \n",
       "\n",
       "    Go_live_date    Status  \n",
       "105   2016-03-31    Active  \n",
       "106   2016-04-08    Active  \n",
       "98    2016-04-15    Active  \n",
       "100   2016-04-25    Active  \n",
       "99    2016-04-25    Active  \n",
       "102   2016-04-26    Active  \n",
       "101   2016-04-26    Active  \n",
       "104   2016-04-27    Active  \n",
       "103   2016-04-27  Inactive  \n",
       "75    2016-04-28    Active  \n",
       "76    2016-04-28  Inactive  \n",
       "77    2016-04-29    Active  \n",
       "78    2016-04-29    Active  \n",
       "81    2016-05-02    Active  \n",
       "79    2016-05-02    Active  \n",
       "82    2016-05-02    Active  \n",
       "80    2016-05-02    Active  \n",
       "84    2016-05-03  Inactive  \n",
       "85    2016-05-03    Active  \n",
       "83    2016-05-03    Active  \n",
       "86    2016-05-03  Inactive  \n",
       "96    2016-05-04    Active  \n",
       "91    2016-05-04    Active  \n",
       "88    2016-05-04    Active  \n",
       "89    2016-05-04    Active  \n",
       "92    2016-05-05    Active  \n",
       "95    2016-05-05    Active  \n",
       "87    2016-05-05    Active  \n",
       "93    2016-05-05    Active  \n",
       "90    2016-05-06  Inactive  \n",
       "94    2016-05-06    Active  \n",
       "107   2016-05-24  Inactive  "
      ]
     },
     "execution_count": 6,
     "metadata": {},
     "output_type": "execute_result"
    }
   ],
   "source": [
    "#picking out the information for 2016\n",
    "Station_2016 = sta[sta[\"Go_live_date\"].isin(pd.date_range(\"2016-01-01\", \"2016-12-31\"))]\n",
    "#sorting the data ascending\n",
    "Station_2016.sort_values(by='Go_live_date')"
   ]
  },
  {
   "cell_type": "code",
   "execution_count": 7,
   "metadata": {},
   "outputs": [
    {
     "data": {
      "image/png": "[encoded data removed]",
      "text/plain": [
       "<Figure size 720x288 with 1 Axes>"
      ]
     },
     "metadata": {
      "needs_background": "light"
     },
     "output_type": "display_data"
    }
   ],
   "source": [
    "f, ax = plt.subplots(1, sharey=True, figsize=(10, 4))\n",
    "#countplots\n",
    "sns.countplot(x=\"Status\",data= Station_2016,palette=\"OrRd\")\n",
    "\n",
    "plt.show()"
   ]
  },
  {
   "cell_type": "code",
   "execution_count": 8,
   "metadata": {},
   "outputs": [
    {
     "name": "stderr",
     "output_type": "stream",
     "text": [
      "<ipython-input-8-214fe45029b8>:1: SettingWithCopyWarning: \n",
      "A value is trying to be set on a copy of a slice from a DataFrame.\n",
      "Try using .loc[row_indexer,col_indexer] = value instead\n",
      "\n",
      "See the caveats in the documentation: https://pandas.pydata.org/pandas-docs/stable/user_guide/indexing.html#returning-a-view-versus-a-copy\n",
      "  Station_2016[\"month\"] = Station_2016[\"Go_live_date\"].apply(lambda dt: dt.month)\n",
      "<ipython-input-8-214fe45029b8>:2: SettingWithCopyWarning: \n",
      "A value is trying to be set on a copy of a slice from a DataFrame.\n",
      "Try using .loc[row_indexer,col_indexer] = value instead\n",
      "\n",
      "See the caveats in the documentation: https://pandas.pydata.org/pandas-docs/stable/user_guide/indexing.html#returning-a-view-versus-a-copy\n",
      "  Station_2016[\"weekday\"] = Station_2016[\"Go_live_date\"].apply(lambda dt: dt.dayofweek)\n"
     ]
    },
    {
     "data": {
      "text/html": [
       "<div>\n",
       "<style scoped>\n",
       "    .dataframe tbody tr th:only-of-type {\n",
       "        vertical-align: middle;\n",
       "    }\n",
       "\n",
       "    .dataframe tbody tr th {\n",
       "        vertical-align: top;\n",
       "    }\n",
       "\n",
       "    .dataframe thead th {\n",
       "        text-align: right;\n",
       "    }\n",
       "</style>\n",
       "<table border=\"1\" class=\"dataframe\">\n",
       "  <thead>\n",
       "    <tr style=\"text-align: right;\">\n",
       "      <th></th>\n",
       "      <th>Station_ID</th>\n",
       "      <th>Station_Name</th>\n",
       "      <th>Go_live_date</th>\n",
       "      <th>Status</th>\n",
       "      <th>month</th>\n",
       "      <th>weekday</th>\n",
       "    </tr>\n",
       "  </thead>\n",
       "  <tbody>\n",
       "    <tr>\n",
       "      <th>75</th>\n",
       "      <td>3093</td>\n",
       "      <td>33rd &amp; Diamond</td>\n",
       "      <td>2016-04-28</td>\n",
       "      <td>Active</td>\n",
       "      <td>4</td>\n",
       "      <td>3</td>\n",
       "    </tr>\n",
       "    <tr>\n",
       "      <th>76</th>\n",
       "      <td>3095</td>\n",
       "      <td>29th &amp; Diamond</td>\n",
       "      <td>2016-04-28</td>\n",
       "      <td>Inactive</td>\n",
       "      <td>4</td>\n",
       "      <td>3</td>\n",
       "    </tr>\n",
       "    <tr>\n",
       "      <th>77</th>\n",
       "      <td>3096</td>\n",
       "      <td>29th &amp; Dauphin</td>\n",
       "      <td>2016-04-29</td>\n",
       "      <td>Active</td>\n",
       "      <td>4</td>\n",
       "      <td>4</td>\n",
       "    </tr>\n",
       "    <tr>\n",
       "      <th>78</th>\n",
       "      <td>3097</td>\n",
       "      <td>Berks Station, MFL</td>\n",
       "      <td>2016-04-29</td>\n",
       "      <td>Active</td>\n",
       "      <td>4</td>\n",
       "      <td>4</td>\n",
       "    </tr>\n",
       "    <tr>\n",
       "      <th>79</th>\n",
       "      <td>3098</td>\n",
       "      <td>10th &amp; Federal</td>\n",
       "      <td>2016-05-02</td>\n",
       "      <td>Active</td>\n",
       "      <td>5</td>\n",
       "      <td>0</td>\n",
       "    </tr>\n",
       "  </tbody>\n",
       "</table>\n",
       "</div>"
      ],
      "text/plain": [
       "    Station_ID        Station_Name Go_live_date    Status  month  weekday\n",
       "75        3093      33rd & Diamond   2016-04-28    Active      4        3\n",
       "76        3095      29th & Diamond   2016-04-28  Inactive      4        3\n",
       "77        3096      29th & Dauphin   2016-04-29    Active      4        4\n",
       "78        3097  Berks Station, MFL   2016-04-29    Active      4        4\n",
       "79        3098      10th & Federal   2016-05-02    Active      5        0"
      ]
     },
     "execution_count": 8,
     "metadata": {},
     "output_type": "execute_result"
    }
   ],
   "source": [
    "Station_2016[\"month\"] = Station_2016[\"Go_live_date\"].apply(lambda dt: dt.month)\n",
    "Station_2016[\"weekday\"] = Station_2016[\"Go_live_date\"].apply(lambda dt: dt.dayofweek)\n",
    "Station_2016.head()"
   ]
  },
  {
   "cell_type": "code",
   "execution_count": 9,
   "metadata": {},
   "outputs": [
    {
     "data": {
      "image/png": "[encoded data removed]",
      "text/plain": [
       "<Figure size 432x288 with 1 Axes>"
      ]
     },
     "metadata": {
      "needs_background": "light"
     },
     "output_type": "display_data"
    },
    {
     "data": {
      "image/png": "[encoded data removed]",
      "text/plain": [
       "<Figure size 432x288 with 1 Axes>"
      ]
     },
     "metadata": {
      "needs_background": "light"
     },
     "output_type": "display_data"
    }
   ],
   "source": [
    "sns.boxplot(x=\"month\",y=\"Station_ID\", data= Station_2016 ,palette=\"rainbow\", hue=\"Status\")\n",
    "plt.show()\n",
    "sns.boxplot(x=\"weekday\",y=\"Station_ID\", data= Station_2016 ,palette=\"rainbow\", hue=\"Status\")\n",
    "plt.show()"
   ]
  },
  {
   "cell_type": "code",
   "execution_count": 10,
   "metadata": {},
   "outputs": [
    {
     "data": {
      "text/html": [
       "<div>\n",
       "<style scoped>\n",
       "    .dataframe tbody tr th:only-of-type {\n",
       "        vertical-align: middle;\n",
       "    }\n",
       "\n",
       "    .dataframe tbody tr th {\n",
       "        vertical-align: top;\n",
       "    }\n",
       "\n",
       "    .dataframe thead th {\n",
       "        text-align: right;\n",
       "    }\n",
       "</style>\n",
       "<table border=\"1\" class=\"dataframe\">\n",
       "  <thead>\n",
       "    <tr style=\"text-align: right;\">\n",
       "      <th></th>\n",
       "      <th>Station_ID</th>\n",
       "      <th>Station_Name</th>\n",
       "      <th>Go_live_date</th>\n",
       "      <th>Status</th>\n",
       "      <th>month</th>\n",
       "      <th>weekday</th>\n",
       "    </tr>\n",
       "  </thead>\n",
       "  <tbody>\n",
       "    <tr>\n",
       "      <th>76</th>\n",
       "      <td>3095</td>\n",
       "      <td>29th &amp; Diamond</td>\n",
       "      <td>2016-04-28</td>\n",
       "      <td>Inactive</td>\n",
       "      <td>4</td>\n",
       "      <td>3</td>\n",
       "    </tr>\n",
       "    <tr>\n",
       "      <th>84</th>\n",
       "      <td>3103</td>\n",
       "      <td>27th &amp; Master, Athletic Recreation Center</td>\n",
       "      <td>2016-05-03</td>\n",
       "      <td>Inactive</td>\n",
       "      <td>5</td>\n",
       "      <td>1</td>\n",
       "    </tr>\n",
       "    <tr>\n",
       "      <th>86</th>\n",
       "      <td>3105</td>\n",
       "      <td>Penn Treaty Park</td>\n",
       "      <td>2016-05-03</td>\n",
       "      <td>Inactive</td>\n",
       "      <td>5</td>\n",
       "      <td>1</td>\n",
       "    </tr>\n",
       "    <tr>\n",
       "      <th>90</th>\n",
       "      <td>3109</td>\n",
       "      <td>Parkside &amp; Girard</td>\n",
       "      <td>2016-05-06</td>\n",
       "      <td>Inactive</td>\n",
       "      <td>5</td>\n",
       "      <td>4</td>\n",
       "    </tr>\n",
       "    <tr>\n",
       "      <th>103</th>\n",
       "      <td>3122</td>\n",
       "      <td>24th &amp; Cecil B. Moore, Cecil B. Moore Library</td>\n",
       "      <td>2016-04-27</td>\n",
       "      <td>Inactive</td>\n",
       "      <td>4</td>\n",
       "      <td>2</td>\n",
       "    </tr>\n",
       "    <tr>\n",
       "      <th>107</th>\n",
       "      <td>3129</td>\n",
       "      <td>The Children's Hospital of Philadelphia, Osler...</td>\n",
       "      <td>2016-05-24</td>\n",
       "      <td>Inactive</td>\n",
       "      <td>5</td>\n",
       "      <td>1</td>\n",
       "    </tr>\n",
       "  </tbody>\n",
       "</table>\n",
       "</div>"
      ],
      "text/plain": [
       "     Station_ID                                       Station_Name  \\\n",
       "76         3095                                     29th & Diamond   \n",
       "84         3103          27th & Master, Athletic Recreation Center   \n",
       "86         3105                                   Penn Treaty Park   \n",
       "90         3109                                  Parkside & Girard   \n",
       "103        3122      24th & Cecil B. Moore, Cecil B. Moore Library   \n",
       "107        3129  The Children's Hospital of Philadelphia, Osler...   \n",
       "\n",
       "    Go_live_date    Status  month  weekday  \n",
       "76    2016-04-28  Inactive      4        3  \n",
       "84    2016-05-03  Inactive      5        1  \n",
       "86    2016-05-03  Inactive      5        1  \n",
       "90    2016-05-06  Inactive      5        4  \n",
       "103   2016-04-27  Inactive      4        2  \n",
       "107   2016-05-24  Inactive      5        1  "
      ]
     },
     "execution_count": 10,
     "metadata": {},
     "output_type": "execute_result"
    }
   ],
   "source": [
    "#picking out the unavaible stations\n",
    "Station_2016.loc[Station_2016['Status'] == \"Inactive\"]"
   ]
  },
  {
   "cell_type": "markdown",
   "metadata": {},
   "source": [
    "### Visualize unavailable stations "
   ]
  },
  {
   "cell_type": "code",
   "execution_count": null,
   "metadata": {},
   "outputs": [],
   "source": [
    "#df2 = pd.concat([df, Station_2016])\n",
    "#df2.loc[df2[\"start_station_id\"]== 3095]\n",
    "#df2.loc[df2[\"start_station_id\"]== 3103]\n",
    "#df2.loc[df2[\"start_station_id\"]== 3105]\n",
    "#df2.loc[df2[\"start_station_id\"]== 3109]\n",
    "#df2.loc[df2[\"start_station_id\"]== 3122]\n",
    "#df2.loc[df2[\"start_station_id\"]== 3129]"
   ]
  },
  {
   "cell_type": "code",
   "execution_count": 11,
   "metadata": {},
   "outputs": [
    {
     "data": {
      "text/html": [
       "<div style=\"width:100%;\"><div style=\"position:relative;width:100%;height:0;padding-bottom:60%;\"><span style=\"color:#565656\">Make this Notebook Trusted to load map: File -> Trust Notebook</span><iframe src=\"about:blank\" style=\"position:absolute;width:100%;height:100%;left:0;top:0;border:none !important;\" data-html=%3C%21DOCTYPE%20html%3E%0A%3Chead%3E%20%20%20%20%0A%20%20%20%20%3Cmeta%20http-equiv%3D%22content-type%22%20content%3D%22text/html%3B%20charset%3DUTF-8%22%20/%3E%0A%20%20%20%20%0A%20%20%20%20%20%20%20%20%3Cscript%3E%0A%20%20%20%20%20%20%20%20%20%20%20%20L_NO_TOUCH%20%3D%20false%3B%0A%20%20%20%20%20%20%20%20%20%20%20%20L_DISABLE_3D%20%3D%20false%3B%0A%20%20%20%20%20%20%20%20%3C/script%3E%0A%20%20%20%20%0A%20%20%20%20%3Cstyle%3Ehtml%2C%20body%20%7Bwidth%3A%20100%25%3Bheight%3A%20100%25%3Bmargin%3A%200%3Bpadding%3A%200%3B%7D%3C/style%3E%0A%20%20%20%20%3Cstyle%3E%23map%20%7Bposition%3Aabsolute%3Btop%3A0%3Bbottom%3A0%3Bright%3A0%3Bleft%3A0%3B%7D%3C/style%3E%0A%20%20%20%20%3Cscript%20src%3D%22https%3A//cdn.jsdelivr.net/npm/leaflet%401.6.0/dist/leaflet.js%22%3E%3C/script%3E%0A%20%20%20%20%3Cscript%20src%3D%22https%3A//code.jquery.com/jquery-1.12.4.min.js%22%3E%3C/script%3E%0A%20%20%20%20%3Cscript%20src%3D%22https%3A//maxcdn.bootstrapcdn.com/bootstrap/3.2.0/js/bootstrap.min.js%22%3E%3C/script%3E%0A%20%20%20%20%3Cscript%20src%3D%22https%3A//cdnjs.cloudflare.com/ajax/libs/Leaflet.awesome-markers/2.0.2/leaflet.awesome-markers.js%22%3E%3C/script%3E%0A%20%20%20%20%3Clink%20rel%3D%22stylesheet%22%20href%3D%22https%3A//cdn.jsdelivr.net/npm/leaflet%401.6.0/dist/leaflet.css%22/%3E%0A%20%20%20%20%3Clink%20rel%3D%22stylesheet%22%20href%3D%22https%3A//maxcdn.bootstrapcdn.com/bootstrap/3.2.0/css/bootstrap.min.css%22/%3E%0A%20%20%20%20%3Clink%20rel%3D%22stylesheet%22%20href%3D%22https%3A//maxcdn.bootstrapcdn.com/bootstrap/3.2.0/css/bootstrap-theme.min.css%22/%3E%0A%20%20%20%20%3Clink%20rel%3D%22stylesheet%22%20href%3D%22https%3A//maxcdn.bootstrapcdn.com/font-awesome/4.6.3/css/font-awesome.min.css%22/%3E%0A%20%20%20%20%3Clink%20rel%3D%22stylesheet%22%20href%3D%22https%3A//cdnjs.cloudflare.com/ajax/libs/Leaflet.awesome-markers/2.0.2/leaflet.awesome-markers.css%22/%3E%0A%20%20%20%20%3Clink%20rel%3D%22stylesheet%22%20href%3D%22https%3A//cdn.jsdelivr.net/gh/python-visualization/folium/folium/templates/leaflet.awesome.rotate.min.css%22/%3E%0A%20%20%20%20%0A%20%20%20%20%20%20%20%20%20%20%20%20%3Cmeta%20name%3D%22viewport%22%20content%3D%22width%3Ddevice-width%2C%0A%20%20%20%20%20%20%20%20%20%20%20%20%20%20%20%20initial-scale%3D1.0%2C%20maximum-scale%3D1.0%2C%20user-scalable%3Dno%22%20/%3E%0A%20%20%20%20%20%20%20%20%20%20%20%20%3Cstyle%3E%0A%20%20%20%20%20%20%20%20%20%20%20%20%20%20%20%20%23map_1796ef72036e482ca8bb12a994aae954%20%7B%0A%20%20%20%20%20%20%20%20%20%20%20%20%20%20%20%20%20%20%20%20position%3A%20relative%3B%0A%20%20%20%20%20%20%20%20%20%20%20%20%20%20%20%20%20%20%20%20width%3A%20100.0%25%3B%0A%20%20%20%20%20%20%20%20%20%20%20%20%20%20%20%20%20%20%20%20height%3A%20100.0%25%3B%0A%20%20%20%20%20%20%20%20%20%20%20%20%20%20%20%20%20%20%20%20left%3A%200.0%25%3B%0A%20%20%20%20%20%20%20%20%20%20%20%20%20%20%20%20%20%20%20%20top%3A%200.0%25%3B%0A%20%20%20%20%20%20%20%20%20%20%20%20%20%20%20%20%7D%0A%20%20%20%20%20%20%20%20%20%20%20%20%3C/style%3E%0A%20%20%20%20%20%20%20%20%0A%3C/head%3E%0A%3Cbody%3E%20%20%20%20%0A%20%20%20%20%0A%20%20%20%20%20%20%20%20%20%20%20%20%3Cdiv%20class%3D%22folium-map%22%20id%3D%22map_1796ef72036e482ca8bb12a994aae954%22%20%3E%3C/div%3E%0A%20%20%20%20%20%20%20%20%0A%3C/body%3E%0A%3Cscript%3E%20%20%20%20%0A%20%20%20%20%0A%20%20%20%20%20%20%20%20%20%20%20%20var%20map_1796ef72036e482ca8bb12a994aae954%20%3D%20L.map%28%0A%20%20%20%20%20%20%20%20%20%20%20%20%20%20%20%20%22map_1796ef72036e482ca8bb12a994aae954%22%2C%0A%20%20%20%20%20%20%20%20%20%20%20%20%20%20%20%20%7B%0A%20%20%20%20%20%20%20%20%20%20%20%20%20%20%20%20%20%20%20%20center%3A%20%5B39.952583%2C%20-75.165222%5D%2C%0A%20%20%20%20%20%20%20%20%20%20%20%20%20%20%20%20%20%20%20%20crs%3A%20L.CRS.EPSG3857%2C%0A%20%20%20%20%20%20%20%20%20%20%20%20%20%20%20%20%20%20%20%20zoom%3A%2013%2C%0A%20%20%20%20%20%20%20%20%20%20%20%20%20%20%20%20%20%20%20%20zoomControl%3A%20true%2C%0A%20%20%20%20%20%20%20%20%20%20%20%20%20%20%20%20%20%20%20%20preferCanvas%3A%20false%2C%0A%20%20%20%20%20%20%20%20%20%20%20%20%20%20%20%20%7D%0A%20%20%20%20%20%20%20%20%20%20%20%20%29%3B%0A%0A%20%20%20%20%20%20%20%20%20%20%20%20%0A%0A%20%20%20%20%20%20%20%20%0A%20%20%20%20%0A%20%20%20%20%20%20%20%20%20%20%20%20var%20tile_layer_8422ca796af144609da886bee11e9dce%20%3D%20L.tileLayer%28%0A%20%20%20%20%20%20%20%20%20%20%20%20%20%20%20%20%22https%3A//%7Bs%7D.tile.openstreetmap.org/%7Bz%7D/%7Bx%7D/%7By%7D.png%22%2C%0A%20%20%20%20%20%20%20%20%20%20%20%20%20%20%20%20%7B%22attribution%22%3A%20%22Data%20by%20%5Cu0026copy%3B%20%5Cu003ca%20href%3D%5C%22http%3A//openstreetmap.org%5C%22%5Cu003eOpenStreetMap%5Cu003c/a%5Cu003e%2C%20under%20%5Cu003ca%20href%3D%5C%22http%3A//www.openstreetmap.org/copyright%5C%22%5Cu003eODbL%5Cu003c/a%5Cu003e.%22%2C%20%22detectRetina%22%3A%20false%2C%20%22maxNativeZoom%22%3A%2018%2C%20%22maxZoom%22%3A%2018%2C%20%22minZoom%22%3A%200%2C%20%22noWrap%22%3A%20false%2C%20%22opacity%22%3A%201%2C%20%22subdomains%22%3A%20%22abc%22%2C%20%22tms%22%3A%20false%7D%0A%20%20%20%20%20%20%20%20%20%20%20%20%29.addTo%28map_1796ef72036e482ca8bb12a994aae954%29%3B%0A%20%20%20%20%20%20%20%20%0A%20%20%20%20%0A%20%20%20%20%20%20%20%20%20%20%20%20var%20marker_93b9a255004d45b0a2c6915cc4069c50%20%3D%20L.marker%28%0A%20%20%20%20%20%20%20%20%20%20%20%20%20%20%20%20%5B39.987709%2C%20-75.1805%5D%2C%0A%20%20%20%20%20%20%20%20%20%20%20%20%20%20%20%20%7B%7D%0A%20%20%20%20%20%20%20%20%20%20%20%20%29.addTo%28map_1796ef72036e482ca8bb12a994aae954%29%3B%0A%20%20%20%20%20%20%20%20%0A%20%20%20%20%0A%20%20%20%20%20%20%20%20var%20popup_b3b4d252d9a64c5c801609ba48aa7538%20%3D%20L.popup%28%7B%22maxWidth%22%3A%20%22100%25%22%7D%29%3B%0A%0A%20%20%20%20%20%20%20%20%0A%20%20%20%20%20%20%20%20%20%20%20%20var%20html_1c2f7e6cc89e424fa740744a4dae7ac3%20%3D%20%24%28%60%3Cdiv%20id%3D%22html_1c2f7e6cc89e424fa740744a4dae7ac3%22%20style%3D%22width%3A%20100.0%25%3B%20height%3A%20100.0%25%3B%22%3EUNAVAIBLE%3C/div%3E%60%29%5B0%5D%3B%0A%20%20%20%20%20%20%20%20%20%20%20%20popup_b3b4d252d9a64c5c801609ba48aa7538.setContent%28html_1c2f7e6cc89e424fa740744a4dae7ac3%29%3B%0A%20%20%20%20%20%20%20%20%0A%0A%20%20%20%20%20%20%20%20marker_93b9a255004d45b0a2c6915cc4069c50.bindPopup%28popup_b3b4d252d9a64c5c801609ba48aa7538%29%0A%20%20%20%20%20%20%20%20%3B%0A%0A%20%20%20%20%20%20%20%20%0A%20%20%20%20%0A%20%20%20%20%0A%20%20%20%20%20%20%20%20%20%20%20%20marker_93b9a255004d45b0a2c6915cc4069c50.bindTooltip%28%0A%20%20%20%20%20%20%20%20%20%20%20%20%20%20%20%20%60%3Cdiv%3E%0A%20%20%20%20%20%20%20%20%20%20%20%20%20%20%20%20%20%20%20%20%2029th%20%26%20Diamond%0A%20%20%20%20%20%20%20%20%20%20%20%20%20%20%20%20%20%3C/div%3E%60%2C%0A%20%20%20%20%20%20%20%20%20%20%20%20%20%20%20%20%7B%22sticky%22%3A%20true%7D%0A%20%20%20%20%20%20%20%20%20%20%20%20%29%3B%0A%20%20%20%20%20%20%20%20%0A%20%20%20%20%0A%20%20%20%20%20%20%20%20%20%20%20%20var%20marker_0b863eda48a54795a838bc1d3384d59a%20%3D%20L.marker%28%0A%20%20%20%20%20%20%20%20%20%20%20%20%20%20%20%20%5B39.977139%2C%20-75.179398%5D%2C%0A%20%20%20%20%20%20%20%20%20%20%20%20%20%20%20%20%7B%7D%0A%20%20%20%20%20%20%20%20%20%20%20%20%29.addTo%28map_1796ef72036e482ca8bb12a994aae954%29%3B%0A%20%20%20%20%20%20%20%20%0A%20%20%20%20%0A%20%20%20%20%20%20%20%20var%20popup_2a1dbaab27dc4f5da3012e31fb1475db%20%3D%20L.popup%28%7B%22maxWidth%22%3A%20%22100%25%22%7D%29%3B%0A%0A%20%20%20%20%20%20%20%20%0A%20%20%20%20%20%20%20%20%20%20%20%20var%20html_696747e2a8ed44c693a452dd605c99d5%20%3D%20%24%28%60%3Cdiv%20id%3D%22html_696747e2a8ed44c693a452dd605c99d5%22%20style%3D%22width%3A%20100.0%25%3B%20height%3A%20100.0%25%3B%22%3EUNAVAIBLE%3C/div%3E%60%29%5B0%5D%3B%0A%20%20%20%20%20%20%20%20%20%20%20%20popup_2a1dbaab27dc4f5da3012e31fb1475db.setContent%28html_696747e2a8ed44c693a452dd605c99d5%29%3B%0A%20%20%20%20%20%20%20%20%0A%0A%20%20%20%20%20%20%20%20marker_0b863eda48a54795a838bc1d3384d59a.bindPopup%28popup_2a1dbaab27dc4f5da3012e31fb1475db%29%0A%20%20%20%20%20%20%20%20%3B%0A%0A%20%20%20%20%20%20%20%20%0A%20%20%20%20%0A%20%20%20%20%0A%20%20%20%20%20%20%20%20%20%20%20%20marker_0b863eda48a54795a838bc1d3384d59a.bindTooltip%28%0A%20%20%20%20%20%20%20%20%20%20%20%20%20%20%20%20%60%3Cdiv%3E%0A%20%20%20%20%20%20%20%20%20%20%20%20%20%20%20%20%20%20%20%20%2027th%20%26%20Master%2C%20Athletic%20Recreation%20Center%0A%20%20%20%20%20%20%20%20%20%20%20%20%20%20%20%20%20%3C/div%3E%60%2C%0A%20%20%20%20%20%20%20%20%20%20%20%20%20%20%20%20%7B%22sticky%22%3A%20true%7D%0A%20%20%20%20%20%20%20%20%20%20%20%20%29%3B%0A%20%20%20%20%20%20%20%20%0A%20%20%20%20%0A%20%20%20%20%20%20%20%20%20%20%20%20var%20marker_4cc94a0a108d4b9aa55ee0e61295364b%20%3D%20L.marker%28%0A%20%20%20%20%20%20%20%20%20%20%20%20%20%20%20%20%5B39.966518%2C%20-75.129959%5D%2C%0A%20%20%20%20%20%20%20%20%20%20%20%20%20%20%20%20%7B%7D%0A%20%20%20%20%20%20%20%20%20%20%20%20%29.addTo%28map_1796ef72036e482ca8bb12a994aae954%29%3B%0A%20%20%20%20%20%20%20%20%0A%20%20%20%20%0A%20%20%20%20%20%20%20%20var%20popup_d29f00a4ab884c35bc873330b64399f4%20%3D%20L.popup%28%7B%22maxWidth%22%3A%20%22100%25%22%7D%29%3B%0A%0A%20%20%20%20%20%20%20%20%0A%20%20%20%20%20%20%20%20%20%20%20%20var%20html_3b958cf6f9f14d628adcab7dc4ac445d%20%3D%20%24%28%60%3Cdiv%20id%3D%22html_3b958cf6f9f14d628adcab7dc4ac445d%22%20style%3D%22width%3A%20100.0%25%3B%20height%3A%20100.0%25%3B%22%3EUNAVAIBLE%3C/div%3E%60%29%5B0%5D%3B%0A%20%20%20%20%20%20%20%20%20%20%20%20popup_d29f00a4ab884c35bc873330b64399f4.setContent%28html_3b958cf6f9f14d628adcab7dc4ac445d%29%3B%0A%20%20%20%20%20%20%20%20%0A%0A%20%20%20%20%20%20%20%20marker_4cc94a0a108d4b9aa55ee0e61295364b.bindPopup%28popup_d29f00a4ab884c35bc873330b64399f4%29%0A%20%20%20%20%20%20%20%20%3B%0A%0A%20%20%20%20%20%20%20%20%0A%20%20%20%20%0A%20%20%20%20%0A%20%20%20%20%20%20%20%20%20%20%20%20marker_4cc94a0a108d4b9aa55ee0e61295364b.bindTooltip%28%0A%20%20%20%20%20%20%20%20%20%20%20%20%20%20%20%20%60%3Cdiv%3E%0A%20%20%20%20%20%20%20%20%20%20%20%20%20%20%20%20%20%20%20%20%20Penn%20Treaty%20Park%0A%20%20%20%20%20%20%20%20%20%20%20%20%20%20%20%20%20%3C/div%3E%60%2C%0A%20%20%20%20%20%20%20%20%20%20%20%20%20%20%20%20%7B%22sticky%22%3A%20true%7D%0A%20%20%20%20%20%20%20%20%20%20%20%20%29%3B%0A%20%20%20%20%20%20%20%20%0A%20%20%20%20%0A%20%20%20%20%20%20%20%20%20%20%20%20var%20marker_ca9ab23b1bb442aeb86a4be7120a5255%20%3D%20L.marker%28%0A%20%20%20%20%20%20%20%20%20%20%20%20%20%20%20%20%5B39.974861%2C%20-75.205238%5D%2C%0A%20%20%20%20%20%20%20%20%20%20%20%20%20%20%20%20%7B%7D%0A%20%20%20%20%20%20%20%20%20%20%20%20%29.addTo%28map_1796ef72036e482ca8bb12a994aae954%29%3B%0A%20%20%20%20%20%20%20%20%0A%20%20%20%20%0A%20%20%20%20%20%20%20%20var%20popup_1237b1c5d7384750a89808f99db3a04e%20%3D%20L.popup%28%7B%22maxWidth%22%3A%20%22100%25%22%7D%29%3B%0A%0A%20%20%20%20%20%20%20%20%0A%20%20%20%20%20%20%20%20%20%20%20%20var%20html_399dbe4105a04b31b2589b4709c3fc69%20%3D%20%24%28%60%3Cdiv%20id%3D%22html_399dbe4105a04b31b2589b4709c3fc69%22%20style%3D%22width%3A%20100.0%25%3B%20height%3A%20100.0%25%3B%22%3EUNAVAIBLE%3C/div%3E%60%29%5B0%5D%3B%0A%20%20%20%20%20%20%20%20%20%20%20%20popup_1237b1c5d7384750a89808f99db3a04e.setContent%28html_399dbe4105a04b31b2589b4709c3fc69%29%3B%0A%20%20%20%20%20%20%20%20%0A%0A%20%20%20%20%20%20%20%20marker_ca9ab23b1bb442aeb86a4be7120a5255.bindPopup%28popup_1237b1c5d7384750a89808f99db3a04e%29%0A%20%20%20%20%20%20%20%20%3B%0A%0A%20%20%20%20%20%20%20%20%0A%20%20%20%20%0A%20%20%20%20%0A%20%20%20%20%20%20%20%20%20%20%20%20marker_ca9ab23b1bb442aeb86a4be7120a5255.bindTooltip%28%0A%20%20%20%20%20%20%20%20%20%20%20%20%20%20%20%20%60%3Cdiv%3E%0A%20%20%20%20%20%20%20%20%20%20%20%20%20%20%20%20%20%20%20%20%20Parkside%20%26%20Girard%0A%20%20%20%20%20%20%20%20%20%20%20%20%20%20%20%20%20%3C/div%3E%60%2C%0A%20%20%20%20%20%20%20%20%20%20%20%20%20%20%20%20%7B%22sticky%22%3A%20true%7D%0A%20%20%20%20%20%20%20%20%20%20%20%20%29%3B%0A%20%20%20%20%20%20%20%20%0A%20%20%20%20%0A%20%20%20%20%20%20%20%20%20%20%20%20var%20marker_5750cdeccc4a46e29f065008576872d4%20%3D%20L.marker%28%0A%20%20%20%20%20%20%20%20%20%20%20%20%20%20%20%20%5B39.980621%2C%20-75.1735%5D%2C%0A%20%20%20%20%20%20%20%20%20%20%20%20%20%20%20%20%7B%7D%0A%20%20%20%20%20%20%20%20%20%20%20%20%29.addTo%28map_1796ef72036e482ca8bb12a994aae954%29%3B%0A%20%20%20%20%20%20%20%20%0A%20%20%20%20%0A%20%20%20%20%20%20%20%20var%20popup_7ab6937d5dcc4d53ae6b7ee01f6fdc5c%20%3D%20L.popup%28%7B%22maxWidth%22%3A%20%22100%25%22%7D%29%3B%0A%0A%20%20%20%20%20%20%20%20%0A%20%20%20%20%20%20%20%20%20%20%20%20var%20html_8c3af10deca046ccb51996fa8f186784%20%3D%20%24%28%60%3Cdiv%20id%3D%22html_8c3af10deca046ccb51996fa8f186784%22%20style%3D%22width%3A%20100.0%25%3B%20height%3A%20100.0%25%3B%22%3EUNAVAIBLE%3C/div%3E%60%29%5B0%5D%3B%0A%20%20%20%20%20%20%20%20%20%20%20%20popup_7ab6937d5dcc4d53ae6b7ee01f6fdc5c.setContent%28html_8c3af10deca046ccb51996fa8f186784%29%3B%0A%20%20%20%20%20%20%20%20%0A%0A%20%20%20%20%20%20%20%20marker_5750cdeccc4a46e29f065008576872d4.bindPopup%28popup_7ab6937d5dcc4d53ae6b7ee01f6fdc5c%29%0A%20%20%20%20%20%20%20%20%3B%0A%0A%20%20%20%20%20%20%20%20%0A%20%20%20%20%0A%20%20%20%20%0A%20%20%20%20%20%20%20%20%20%20%20%20marker_5750cdeccc4a46e29f065008576872d4.bindTooltip%28%0A%20%20%20%20%20%20%20%20%20%20%20%20%20%20%20%20%60%3Cdiv%3E%0A%20%20%20%20%20%20%20%20%20%20%20%20%20%20%20%20%20%20%20%20%2024th%20%26%20Cecil%20B.%20Moore%2C%20Cecil%20B.%20Moore%20Library%0A%20%20%20%20%20%20%20%20%20%20%20%20%20%20%20%20%20%3C/div%3E%60%2C%0A%20%20%20%20%20%20%20%20%20%20%20%20%20%20%20%20%7B%22sticky%22%3A%20true%7D%0A%20%20%20%20%20%20%20%20%20%20%20%20%29%3B%0A%20%20%20%20%20%20%20%20%0A%20%20%20%20%0A%20%20%20%20%20%20%20%20%20%20%20%20var%20marker_386b71baa9784f64a929b2dac48b5e51%20%3D%20L.marker%28%0A%20%20%20%20%20%20%20%20%20%20%20%20%20%20%20%20%5B39.946812%2C%20-75.193108%5D%2C%0A%20%20%20%20%20%20%20%20%20%20%20%20%20%20%20%20%7B%7D%0A%20%20%20%20%20%20%20%20%20%20%20%20%29.addTo%28map_1796ef72036e482ca8bb12a994aae954%29%3B%0A%20%20%20%20%20%20%20%20%0A%20%20%20%20%0A%20%20%20%20%20%20%20%20var%20popup_a52a13605ba54043b969cf6ea1d5b58a%20%3D%20L.popup%28%7B%22maxWidth%22%3A%20%22100%25%22%7D%29%3B%0A%0A%20%20%20%20%20%20%20%20%0A%20%20%20%20%20%20%20%20%20%20%20%20var%20html_b1621c11a0064d5bab16803f86c2f004%20%3D%20%24%28%60%3Cdiv%20id%3D%22html_b1621c11a0064d5bab16803f86c2f004%22%20style%3D%22width%3A%20100.0%25%3B%20height%3A%20100.0%25%3B%22%3EUNAVAIBLE%3C/div%3E%60%29%5B0%5D%3B%0A%20%20%20%20%20%20%20%20%20%20%20%20popup_a52a13605ba54043b969cf6ea1d5b58a.setContent%28html_b1621c11a0064d5bab16803f86c2f004%29%3B%0A%20%20%20%20%20%20%20%20%0A%0A%20%20%20%20%20%20%20%20marker_386b71baa9784f64a929b2dac48b5e51.bindPopup%28popup_a52a13605ba54043b969cf6ea1d5b58a%29%0A%20%20%20%20%20%20%20%20%3B%0A%0A%20%20%20%20%20%20%20%20%0A%20%20%20%20%0A%20%20%20%20%0A%20%20%20%20%20%20%20%20%20%20%20%20marker_386b71baa9784f64a929b2dac48b5e51.bindTooltip%28%0A%20%20%20%20%20%20%20%20%20%20%20%20%20%20%20%20%60%3Cdiv%3E%0A%20%20%20%20%20%20%20%20%20%20%20%20%20%20%20%20%20%20%20%20%20The%20Children%27s%20Hospital%20of%20Philadelphia%2C%20Osler...%0A%20%20%20%20%20%20%20%20%20%20%20%20%20%20%20%20%20%3C/div%3E%60%2C%0A%20%20%20%20%20%20%20%20%20%20%20%20%20%20%20%20%7B%22sticky%22%3A%20true%7D%0A%20%20%20%20%20%20%20%20%20%20%20%20%29%3B%0A%20%20%20%20%20%20%20%20%0A%3C/script%3E onload=\"this.contentDocument.open();this.contentDocument.write(    decodeURIComponent(this.getAttribute('data-html')));this.contentDocument.close();\" allowfullscreen webkitallowfullscreen mozallowfullscreen></iframe></div></div>"
      ],
      "text/plain": [
       "<folium.folium.Map at 0x205f67f2ca0>"
      ]
     },
     "execution_count": 11,
     "metadata": {},
     "output_type": "execute_result"
    }
   ],
   "source": [
    "m = folium.Map(location=[39.952583,-75.165222], zoom_start = 13) \n",
    "tooltip = \"29th & Diamond\"\n",
    "tooltip1 = \"27th & Master, Athletic Recreation Center\"\n",
    "tooltip2 = \"Penn Treaty Park\"\n",
    "tooltip3 = \"Parkside & Girard\"\n",
    "tooltip4 = \"24th & Cecil B. Moore, Cecil B. Moore Library\"\n",
    "tooltip5 = \"The Children's Hospital of Philadelphia, Osler...\"\n",
    "folium.Marker(\n",
    "    [39.987709, -75.1805], popup=\"UNAVAIBLE\", tooltip=tooltip\n",
    "    \n",
    ").add_to(m)\n",
    "folium.Marker(\n",
    "    [39.977139, -75.179398], popup=\"UNAVAIBLE\", tooltip=tooltip1\n",
    "    \n",
    ").add_to(m)\n",
    "\n",
    "folium.Marker(\n",
    "    [39.966518, -75.129959], popup=\"UNAVAIBLE\", tooltip=tooltip2\n",
    "    \n",
    ").add_to(m)\n",
    "folium.Marker(\n",
    "    [39.974861, -75.205238], popup=\"UNAVAIBLE\", tooltip=tooltip3\n",
    "    \n",
    ").add_to(m)\n",
    "folium.Marker(\n",
    "    [39.980621, -75.1735], popup=\"UNAVAIBLE\", tooltip=tooltip4\n",
    "    \n",
    ").add_to(m)\n",
    "folium.Marker(\n",
    "    [39.946812, -75.193108], popup=\"UNAVAIBLE\", tooltip=tooltip5\n",
    "    \n",
    ").add_to(m)\n",
    "m"
   ]
  },
  {
   "cell_type": "code",
   "execution_count": null,
   "metadata": {},
   "outputs": [],
   "source": []
  }
 ],
 "metadata": {
  "kernelspec": {
   "display_name": "Python 3",
   "language": "python",
   "name": "python3"
  },
  "language_info": {
   "codemirror_mode": {
    "name": "ipython",
    "version": 3
   },
   "file_extension": ".py",
   "mimetype": "text/x-python",
   "name": "python",
   "nbconvert_exporter": "python",
   "pygments_lexer": "ipython3",
   "version": "3.8.5"
  }
 },
 "nbformat": 4,
 "nbformat_minor": 4
}
