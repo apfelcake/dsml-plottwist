{
 "cells": [
  {
   "cell_type": "markdown",
   "metadata": {},
   "source": [
    "# Descriptive analytics by team Plottwist\n",
    "\n",
    "## Task 1 \n",
    "- Cleaning our data \n"
   ]
  },
  {
   "cell_type": "code",
   "execution_count": 101,
   "metadata": {
    "scrolled": true
   },
   "outputs": [],
   "source": [
    "import numpy as np\n",
    "import pandas as pd\n",
    "\n",
    "import warnings\n",
    "warnings.filterwarnings(\"ignore\")\n",
    "\n",
    "import matplotlib\n",
    "import matplotlib.pyplot as pp\n",
    "import matplotlib.image as img\n",
    "from matplotlib.gridspec import GridSpec\n",
    "from six.moves import urllib\n",
    "import seaborn as sns\n",
    "\n",
    "from sklearn.linear_model import LinearRegression\n",
    "from sklearn.metrics import mean_squared_error, mean_absolute_error, r2_score\n",
    "from sklearn.preprocessing import PolynomialFeatures\n",
    "from sklearn.model_selection import train_test_split\n",
    "from sklearn.preprocessing import PolynomialFeatures\n",
    "import calendar\n",
    "import glob\n",
    "# import folium\n",
    "import statistics\n",
    "\n",
    "%matplotlib inline"
   ]
  },
  {
   "cell_type": "markdown",
   "metadata": {},
   "source": [
    "## preparing & cleaning data\n",
    "\n"
   ]
  },
  {
   "cell_type": "code",
   "execution_count": 102,
   "metadata": {},
   "outputs": [],
   "source": [
    "csv_files = glob.glob('Datasets/RideIndego 2016/*.csv')\n",
    "df = pd.concat([pd.read_csv(f) for f  in csv_files], ignore_index = True)"
   ]
  },
  {
   "cell_type": "markdown",
   "metadata": {},
   "source": [
    "### Find out NaN Values"
   ]
  },
  {
   "cell_type": "code",
   "execution_count": 103,
   "metadata": {},
   "outputs": [
    {
     "data": {
      "text/plain": [
       "trip_id                   0\n",
       "duration                  0\n",
       "start_time                0\n",
       "end_time                  0\n",
       "start_station_id         10\n",
       "start_lat                17\n",
       "start_lon                17\n",
       "end_station_id            0\n",
       "end_lat                1591\n",
       "end_lon                1591\n",
       "bike_id                   0\n",
       "plan_duration             0\n",
       "trip_route_category       0\n",
       "passholder_type           0\n",
       "dtype: int64"
      ]
     },
     "execution_count": 103,
     "metadata": {},
     "output_type": "execute_result"
    }
   ],
   "source": [
    "df.isna().sum()"
   ]
  },
  {
   "cell_type": "markdown",
   "metadata": {},
   "source": [
    "### Drop any Row with NaN 0 in end_lat end_lon\n",
    "\n"
   ]
  },
  {
   "cell_type": "code",
   "execution_count": 104,
   "metadata": {
    "scrolled": false
   },
   "outputs": [],
   "source": [
    "df['start_lat'] = pd.to_numeric(df['start_lat'], errors='coerce')\n",
    "df['start_lon'] = pd.to_numeric(df['start_lon'], errors='coerce')\n",
    "df['start_station_id'] = pd.to_numeric(df['start_station_id'], errors='coerce')\n",
    "df['end_station_id'] = pd.to_numeric(df['end_station_id'], errors='coerce')\n",
    "df['end_lat'] = pd.to_numeric(df['end_lat'], errors='coerce')\n",
    "df['end_lon'] = pd.to_numeric(df['end_lon'], errors='coerce')\n",
    "df['bike_id'] = pd.to_numeric(df['bike_id'], errors='coerce')\n",
    "df['plan_duration'] = pd.to_numeric(df['plan_duration'], errors='coerce')"
   ]
  },
  {
   "cell_type": "code",
   "execution_count": 105,
   "metadata": {},
   "outputs": [
    {
     "data": {
      "text/plain": [
       "trip_id                   0\n",
       "duration                  0\n",
       "start_time                0\n",
       "end_time                  0\n",
       "start_station_id         10\n",
       "start_lat                69\n",
       "start_lon                69\n",
       "end_station_id            0\n",
       "end_lat                3023\n",
       "end_lon                3023\n",
       "bike_id                   0\n",
       "plan_duration             0\n",
       "trip_route_category       0\n",
       "passholder_type           0\n",
       "dtype: int64"
      ]
     },
     "execution_count": 105,
     "metadata": {},
     "output_type": "execute_result"
    }
   ],
   "source": [
    "df.isna().sum()"
   ]
  },
  {
   "cell_type": "code",
   "execution_count": 106,
   "metadata": {
    "scrolled": false
   },
   "outputs": [
    {
     "data": {
      "text/html": [
       "<div>\n",
       "<style scoped>\n",
       "    .dataframe tbody tr th:only-of-type {\n",
       "        vertical-align: middle;\n",
       "    }\n",
       "\n",
       "    .dataframe tbody tr th {\n",
       "        vertical-align: top;\n",
       "    }\n",
       "\n",
       "    .dataframe thead th {\n",
       "        text-align: right;\n",
       "    }\n",
       "</style>\n",
       "<table border=\"1\" class=\"dataframe\">\n",
       "  <thead>\n",
       "    <tr style=\"text-align: right;\">\n",
       "      <th></th>\n",
       "      <th>trip_id</th>\n",
       "      <th>duration</th>\n",
       "      <th>start_time</th>\n",
       "      <th>end_time</th>\n",
       "      <th>start_station_id</th>\n",
       "      <th>start_lat</th>\n",
       "      <th>start_lon</th>\n",
       "      <th>end_station_id</th>\n",
       "      <th>end_lat</th>\n",
       "      <th>end_lon</th>\n",
       "      <th>bike_id</th>\n",
       "      <th>plan_duration</th>\n",
       "      <th>trip_route_category</th>\n",
       "      <th>passholder_type</th>\n",
       "    </tr>\n",
       "  </thead>\n",
       "  <tbody>\n",
       "    <tr>\n",
       "      <th>0</th>\n",
       "      <td>4516691</td>\n",
       "      <td>600</td>\n",
       "      <td>1/1/2016 0:04</td>\n",
       "      <td>1/1/2016 0:14</td>\n",
       "      <td>3046.0</td>\n",
       "      <td>39.950120</td>\n",
       "      <td>-75.144720</td>\n",
       "      <td>3041</td>\n",
       "      <td>39.968490</td>\n",
       "      <td>-75.135460</td>\n",
       "      <td>3564</td>\n",
       "      <td>30</td>\n",
       "      <td>One Way</td>\n",
       "      <td>Indego30</td>\n",
       "    </tr>\n",
       "    <tr>\n",
       "      <th>1</th>\n",
       "      <td>4516692</td>\n",
       "      <td>1320</td>\n",
       "      <td>1/1/2016 0:07</td>\n",
       "      <td>1/1/2016 0:29</td>\n",
       "      <td>3028.0</td>\n",
       "      <td>39.940610</td>\n",
       "      <td>-75.149580</td>\n",
       "      <td>3019</td>\n",
       "      <td>39.954030</td>\n",
       "      <td>-75.149830</td>\n",
       "      <td>2629</td>\n",
       "      <td>30</td>\n",
       "      <td>One Way</td>\n",
       "      <td>Indego30</td>\n",
       "    </tr>\n",
       "    <tr>\n",
       "      <th>2</th>\n",
       "      <td>4516693</td>\n",
       "      <td>780</td>\n",
       "      <td>1/1/2016 0:14</td>\n",
       "      <td>1/1/2016 0:27</td>\n",
       "      <td>3007.0</td>\n",
       "      <td>39.945170</td>\n",
       "      <td>-75.159930</td>\n",
       "      <td>3066</td>\n",
       "      <td>39.945610</td>\n",
       "      <td>-75.173480</td>\n",
       "      <td>3430</td>\n",
       "      <td>30</td>\n",
       "      <td>One Way</td>\n",
       "      <td>Indego30</td>\n",
       "    </tr>\n",
       "    <tr>\n",
       "      <th>3</th>\n",
       "      <td>4516694</td>\n",
       "      <td>1320</td>\n",
       "      <td>1/1/2016 0:20</td>\n",
       "      <td>1/1/2016 0:42</td>\n",
       "      <td>3005.0</td>\n",
       "      <td>39.947330</td>\n",
       "      <td>-75.144030</td>\n",
       "      <td>3064</td>\n",
       "      <td>39.938400</td>\n",
       "      <td>-75.173270</td>\n",
       "      <td>3351</td>\n",
       "      <td>0</td>\n",
       "      <td>One Way</td>\n",
       "      <td>Walk-up</td>\n",
       "    </tr>\n",
       "    <tr>\n",
       "      <th>4</th>\n",
       "      <td>4516695</td>\n",
       "      <td>600</td>\n",
       "      <td>1/1/2016 0:20</td>\n",
       "      <td>1/1/2016 0:30</td>\n",
       "      <td>3045.0</td>\n",
       "      <td>39.947920</td>\n",
       "      <td>-75.162370</td>\n",
       "      <td>3028</td>\n",
       "      <td>39.940610</td>\n",
       "      <td>-75.149580</td>\n",
       "      <td>3715</td>\n",
       "      <td>30</td>\n",
       "      <td>One Way</td>\n",
       "      <td>Indego30</td>\n",
       "    </tr>\n",
       "    <tr>\n",
       "      <th>...</th>\n",
       "      <td>...</td>\n",
       "      <td>...</td>\n",
       "      <td>...</td>\n",
       "      <td>...</td>\n",
       "      <td>...</td>\n",
       "      <td>...</td>\n",
       "      <td>...</td>\n",
       "      <td>...</td>\n",
       "      <td>...</td>\n",
       "      <td>...</td>\n",
       "      <td>...</td>\n",
       "      <td>...</td>\n",
       "      <td>...</td>\n",
       "      <td>...</td>\n",
       "    </tr>\n",
       "    <tr>\n",
       "      <th>651966</th>\n",
       "      <td>55223960</td>\n",
       "      <td>660</td>\n",
       "      <td>9/30/2016 23:51</td>\n",
       "      <td>10/1/2016 0:02</td>\n",
       "      <td>3023.0</td>\n",
       "      <td>39.950481</td>\n",
       "      <td>-75.172859</td>\n",
       "      <td>3114</td>\n",
       "      <td>39.937752</td>\n",
       "      <td>-75.180122</td>\n",
       "      <td>6725</td>\n",
       "      <td>30</td>\n",
       "      <td>One Way</td>\n",
       "      <td>Indego30</td>\n",
       "    </tr>\n",
       "    <tr>\n",
       "      <th>651967</th>\n",
       "      <td>55223958</td>\n",
       "      <td>900</td>\n",
       "      <td>9/30/2016 23:53</td>\n",
       "      <td>10/1/2016 0:08</td>\n",
       "      <td>3032.0</td>\n",
       "      <td>39.945271</td>\n",
       "      <td>-75.179710</td>\n",
       "      <td>3011</td>\n",
       "      <td>39.960461</td>\n",
       "      <td>-75.197006</td>\n",
       "      <td>11031</td>\n",
       "      <td>30</td>\n",
       "      <td>One Way</td>\n",
       "      <td>Indego30</td>\n",
       "    </tr>\n",
       "    <tr>\n",
       "      <th>651968</th>\n",
       "      <td>55223957</td>\n",
       "      <td>540</td>\n",
       "      <td>9/30/2016 23:55</td>\n",
       "      <td>10/1/2016 0:04</td>\n",
       "      <td>3007.0</td>\n",
       "      <td>39.945171</td>\n",
       "      <td>-75.159927</td>\n",
       "      <td>3025</td>\n",
       "      <td>39.937241</td>\n",
       "      <td>-75.161201</td>\n",
       "      <td>2706</td>\n",
       "      <td>30</td>\n",
       "      <td>One Way</td>\n",
       "      <td>Indego30</td>\n",
       "    </tr>\n",
       "    <tr>\n",
       "      <th>651969</th>\n",
       "      <td>55223956</td>\n",
       "      <td>480</td>\n",
       "      <td>9/30/2016 23:56</td>\n",
       "      <td>10/1/2016 0:04</td>\n",
       "      <td>3007.0</td>\n",
       "      <td>39.945171</td>\n",
       "      <td>-75.159927</td>\n",
       "      <td>3025</td>\n",
       "      <td>39.937241</td>\n",
       "      <td>-75.161201</td>\n",
       "      <td>2497</td>\n",
       "      <td>30</td>\n",
       "      <td>One Way</td>\n",
       "      <td>Indego30</td>\n",
       "    </tr>\n",
       "    <tr>\n",
       "      <th>651970</th>\n",
       "      <td>55223955</td>\n",
       "      <td>480</td>\n",
       "      <td>9/30/2016 23:56</td>\n",
       "      <td>10/1/2016 0:04</td>\n",
       "      <td>3068.0</td>\n",
       "      <td>39.935490</td>\n",
       "      <td>-75.167107</td>\n",
       "      <td>3053</td>\n",
       "      <td>39.932308</td>\n",
       "      <td>-75.181541</td>\n",
       "      <td>5339</td>\n",
       "      <td>30</td>\n",
       "      <td>One Way</td>\n",
       "      <td>Indego30</td>\n",
       "    </tr>\n",
       "  </tbody>\n",
       "</table>\n",
       "<p>651971 rows × 14 columns</p>\n",
       "</div>"
      ],
      "text/plain": [
       "         trip_id  duration       start_time        end_time  start_station_id  \\\n",
       "0        4516691       600    1/1/2016 0:04   1/1/2016 0:14            3046.0   \n",
       "1        4516692      1320    1/1/2016 0:07   1/1/2016 0:29            3028.0   \n",
       "2        4516693       780    1/1/2016 0:14   1/1/2016 0:27            3007.0   \n",
       "3        4516694      1320    1/1/2016 0:20   1/1/2016 0:42            3005.0   \n",
       "4        4516695       600    1/1/2016 0:20   1/1/2016 0:30            3045.0   \n",
       "...          ...       ...              ...             ...               ...   \n",
       "651966  55223960       660  9/30/2016 23:51  10/1/2016 0:02            3023.0   \n",
       "651967  55223958       900  9/30/2016 23:53  10/1/2016 0:08            3032.0   \n",
       "651968  55223957       540  9/30/2016 23:55  10/1/2016 0:04            3007.0   \n",
       "651969  55223956       480  9/30/2016 23:56  10/1/2016 0:04            3007.0   \n",
       "651970  55223955       480  9/30/2016 23:56  10/1/2016 0:04            3068.0   \n",
       "\n",
       "        start_lat  start_lon  end_station_id    end_lat    end_lon  bike_id  \\\n",
       "0       39.950120 -75.144720            3041  39.968490 -75.135460     3564   \n",
       "1       39.940610 -75.149580            3019  39.954030 -75.149830     2629   \n",
       "2       39.945170 -75.159930            3066  39.945610 -75.173480     3430   \n",
       "3       39.947330 -75.144030            3064  39.938400 -75.173270     3351   \n",
       "4       39.947920 -75.162370            3028  39.940610 -75.149580     3715   \n",
       "...           ...        ...             ...        ...        ...      ...   \n",
       "651966  39.950481 -75.172859            3114  39.937752 -75.180122     6725   \n",
       "651967  39.945271 -75.179710            3011  39.960461 -75.197006    11031   \n",
       "651968  39.945171 -75.159927            3025  39.937241 -75.161201     2706   \n",
       "651969  39.945171 -75.159927            3025  39.937241 -75.161201     2497   \n",
       "651970  39.935490 -75.167107            3053  39.932308 -75.181541     5339   \n",
       "\n",
       "        plan_duration trip_route_category passholder_type  \n",
       "0                  30             One Way        Indego30  \n",
       "1                  30             One Way        Indego30  \n",
       "2                  30             One Way        Indego30  \n",
       "3                   0             One Way         Walk-up  \n",
       "4                  30             One Way        Indego30  \n",
       "...               ...                 ...             ...  \n",
       "651966             30             One Way        Indego30  \n",
       "651967             30             One Way        Indego30  \n",
       "651968             30             One Way        Indego30  \n",
       "651969             30             One Way        Indego30  \n",
       "651970             30             One Way        Indego30  \n",
       "\n",
       "[651971 rows x 14 columns]"
      ]
     },
     "execution_count": 106,
     "metadata": {},
     "output_type": "execute_result"
    }
   ],
   "source": [
    "df = df.dropna(how='any').reset_index(drop=True)\n",
    "df"
   ]
  },
  {
   "cell_type": "markdown",
   "metadata": {},
   "source": [
    "### Further Inspectation of data to prepare descriptive analysis (Marc)\n"
   ]
  },
  {
   "cell_type": "code",
   "execution_count": 107,
   "metadata": {},
   "outputs": [
    {
     "data": {
      "text/html": [
       "<div>\n",
       "<style scoped>\n",
       "    .dataframe tbody tr th:only-of-type {\n",
       "        vertical-align: middle;\n",
       "    }\n",
       "\n",
       "    .dataframe tbody tr th {\n",
       "        vertical-align: top;\n",
       "    }\n",
       "\n",
       "    .dataframe thead th {\n",
       "        text-align: right;\n",
       "    }\n",
       "</style>\n",
       "<table border=\"1\" class=\"dataframe\">\n",
       "  <thead>\n",
       "    <tr style=\"text-align: right;\">\n",
       "      <th></th>\n",
       "      <th>trip_id</th>\n",
       "      <th>duration</th>\n",
       "      <th>start_station_id</th>\n",
       "      <th>start_lat</th>\n",
       "      <th>start_lon</th>\n",
       "      <th>end_station_id</th>\n",
       "      <th>end_lat</th>\n",
       "      <th>end_lon</th>\n",
       "      <th>bike_id</th>\n",
       "      <th>plan_duration</th>\n",
       "    </tr>\n",
       "  </thead>\n",
       "  <tbody>\n",
       "    <tr>\n",
       "      <th>count</th>\n",
       "      <td>6.519710e+05</td>\n",
       "      <td>651971.000000</td>\n",
       "      <td>651971.000000</td>\n",
       "      <td>651971.000000</td>\n",
       "      <td>651971.000000</td>\n",
       "      <td>651971.000000</td>\n",
       "      <td>651971.000000</td>\n",
       "      <td>651971.000000</td>\n",
       "      <td>651971.000000</td>\n",
       "      <td>651971.000000</td>\n",
       "    </tr>\n",
       "    <tr>\n",
       "      <th>mean</th>\n",
       "      <td>3.510074e+07</td>\n",
       "      <td>1304.646955</td>\n",
       "      <td>3047.424994</td>\n",
       "      <td>39.952599</td>\n",
       "      <td>-75.168769</td>\n",
       "      <td>3046.760276</td>\n",
       "      <td>39.846196</td>\n",
       "      <td>-74.968480</td>\n",
       "      <td>4017.813906</td>\n",
       "      <td>29.610144</td>\n",
       "    </tr>\n",
       "    <tr>\n",
       "      <th>std</th>\n",
       "      <td>2.720246e+07</td>\n",
       "      <td>3656.709547</td>\n",
       "      <td>31.559946</td>\n",
       "      <td>0.070884</td>\n",
       "      <td>0.132684</td>\n",
       "      <td>31.432813</td>\n",
       "      <td>2.056511</td>\n",
       "      <td>3.869193</td>\n",
       "      <td>1735.005923</td>\n",
       "      <td>40.916349</td>\n",
       "    </tr>\n",
       "    <tr>\n",
       "      <th>min</th>\n",
       "      <td>4.516691e+06</td>\n",
       "      <td>60.000000</td>\n",
       "      <td>3000.000000</td>\n",
       "      <td>0.000000</td>\n",
       "      <td>-75.223991</td>\n",
       "      <td>3000.000000</td>\n",
       "      <td>0.000000</td>\n",
       "      <td>-75.223991</td>\n",
       "      <td>2472.000000</td>\n",
       "      <td>0.000000</td>\n",
       "    </tr>\n",
       "    <tr>\n",
       "      <th>25%</th>\n",
       "      <td>4.725896e+06</td>\n",
       "      <td>480.000000</td>\n",
       "      <td>3023.000000</td>\n",
       "      <td>39.945610</td>\n",
       "      <td>-75.179710</td>\n",
       "      <td>3022.000000</td>\n",
       "      <td>39.945271</td>\n",
       "      <td>-75.179390</td>\n",
       "      <td>3280.000000</td>\n",
       "      <td>30.000000</td>\n",
       "    </tr>\n",
       "    <tr>\n",
       "      <th>50%</th>\n",
       "      <td>3.870654e+07</td>\n",
       "      <td>720.000000</td>\n",
       "      <td>3043.000000</td>\n",
       "      <td>39.951120</td>\n",
       "      <td>-75.167351</td>\n",
       "      <td>3041.000000</td>\n",
       "      <td>39.950710</td>\n",
       "      <td>-75.167107</td>\n",
       "      <td>3536.000000</td>\n",
       "      <td>30.000000</td>\n",
       "    </tr>\n",
       "    <tr>\n",
       "      <th>75%</th>\n",
       "      <td>5.701548e+07</td>\n",
       "      <td>1200.000000</td>\n",
       "      <td>3063.000000</td>\n",
       "      <td>39.959229</td>\n",
       "      <td>-75.158127</td>\n",
       "      <td>3063.000000</td>\n",
       "      <td>39.957081</td>\n",
       "      <td>-75.156952</td>\n",
       "      <td>5190.000000</td>\n",
       "      <td>30.000000</td>\n",
       "    </tr>\n",
       "    <tr>\n",
       "      <th>max</th>\n",
       "      <td>8.758284e+07</td>\n",
       "      <td>86400.000000</td>\n",
       "      <td>3129.000000</td>\n",
       "      <td>39.991791</td>\n",
       "      <td>0.000000</td>\n",
       "      <td>3129.000000</td>\n",
       "      <td>39.991791</td>\n",
       "      <td>0.000000</td>\n",
       "      <td>55195.000000</td>\n",
       "      <td>365.000000</td>\n",
       "    </tr>\n",
       "  </tbody>\n",
       "</table>\n",
       "</div>"
      ],
      "text/plain": [
       "            trip_id       duration  start_station_id      start_lat  \\\n",
       "count  6.519710e+05  651971.000000     651971.000000  651971.000000   \n",
       "mean   3.510074e+07    1304.646955       3047.424994      39.952599   \n",
       "std    2.720246e+07    3656.709547         31.559946       0.070884   \n",
       "min    4.516691e+06      60.000000       3000.000000       0.000000   \n",
       "25%    4.725896e+06     480.000000       3023.000000      39.945610   \n",
       "50%    3.870654e+07     720.000000       3043.000000      39.951120   \n",
       "75%    5.701548e+07    1200.000000       3063.000000      39.959229   \n",
       "max    8.758284e+07   86400.000000       3129.000000      39.991791   \n",
       "\n",
       "           start_lon  end_station_id        end_lat        end_lon  \\\n",
       "count  651971.000000   651971.000000  651971.000000  651971.000000   \n",
       "mean      -75.168769     3046.760276      39.846196     -74.968480   \n",
       "std         0.132684       31.432813       2.056511       3.869193   \n",
       "min       -75.223991     3000.000000       0.000000     -75.223991   \n",
       "25%       -75.179710     3022.000000      39.945271     -75.179390   \n",
       "50%       -75.167351     3041.000000      39.950710     -75.167107   \n",
       "75%       -75.158127     3063.000000      39.957081     -75.156952   \n",
       "max         0.000000     3129.000000      39.991791       0.000000   \n",
       "\n",
       "             bike_id  plan_duration  \n",
       "count  651971.000000  651971.000000  \n",
       "mean     4017.813906      29.610144  \n",
       "std      1735.005923      40.916349  \n",
       "min      2472.000000       0.000000  \n",
       "25%      3280.000000      30.000000  \n",
       "50%      3536.000000      30.000000  \n",
       "75%      5190.000000      30.000000  \n",
       "max     55195.000000     365.000000  "
      ]
     },
     "execution_count": 107,
     "metadata": {},
     "output_type": "execute_result"
    }
   ],
   "source": [
    "df.describe()"
   ]
  },
  {
   "cell_type": "code",
   "execution_count": 108,
   "metadata": {},
   "outputs": [
    {
     "name": "stdout",
     "output_type": "stream",
     "text": [
      "<class 'pandas.core.frame.DataFrame'>\n",
      "RangeIndex: 651971 entries, 0 to 651970\n",
      "Data columns (total 14 columns):\n",
      " #   Column               Non-Null Count   Dtype  \n",
      "---  ------               --------------   -----  \n",
      " 0   trip_id              651971 non-null  int64  \n",
      " 1   duration             651971 non-null  int64  \n",
      " 2   start_time           651971 non-null  object \n",
      " 3   end_time             651971 non-null  object \n",
      " 4   start_station_id     651971 non-null  float64\n",
      " 5   start_lat            651971 non-null  float64\n",
      " 6   start_lon            651971 non-null  float64\n",
      " 7   end_station_id       651971 non-null  int64  \n",
      " 8   end_lat              651971 non-null  float64\n",
      " 9   end_lon              651971 non-null  float64\n",
      " 10  bike_id              651971 non-null  int64  \n",
      " 11  plan_duration        651971 non-null  int64  \n",
      " 12  trip_route_category  651971 non-null  object \n",
      " 13  passholder_type      651971 non-null  object \n",
      "dtypes: float64(5), int64(5), object(4)\n",
      "memory usage: 69.6+ MB\n"
     ]
    }
   ],
   "source": [
    "df.info()"
   ]
  },
  {
   "cell_type": "markdown",
   "metadata": {},
   "source": [
    "Alteration of the Dtype from Columns start_station_id and end_station_id to integer"
   ]
  },
  {
   "cell_type": "code",
   "execution_count": 109,
   "metadata": {},
   "outputs": [],
   "source": [
    "df['start_station_id'] = df['start_station_id'].astype('int64')\n",
    "df['end_station_id'] = df['end_station_id'].astype('int64')"
   ]
  },
  {
   "cell_type": "markdown",
   "metadata": {},
   "source": [
    "Alteration of start_time and end_time to datetime type"
   ]
  },
  {
   "cell_type": "code",
   "execution_count": 110,
   "metadata": {},
   "outputs": [],
   "source": [
    "df['start_time'] = pd.to_datetime(df['start_time'])"
   ]
  },
  {
   "cell_type": "code",
   "execution_count": 111,
   "metadata": {},
   "outputs": [],
   "source": [
    "df['end_time'] = pd.to_datetime(df['end_time'])"
   ]
  },
  {
   "cell_type": "markdown",
   "metadata": {},
   "source": [
    "Calculate the length of a trip"
   ]
  },
  {
   "cell_type": "code",
   "execution_count": 112,
   "metadata": {},
   "outputs": [],
   "source": [
    "df[\"duration_trip\"] = df[\"end_time\"] - df[\"start_time\"]"
   ]
  },
  {
   "cell_type": "markdown",
   "metadata": {},
   "source": [
    "Now we are breaking the **datetime of start_time into smaller parts(days, time, hour)** to make it possible to visualize the usage over different periods. <p>\n",
    "We are taking the start_time, not the end_time since it shows the demand."
   ]
  },
  {
   "cell_type": "code",
   "execution_count": 113,
   "metadata": {},
   "outputs": [],
   "source": [
    "df['date'] = df['start_time'].dt.strftime('%m-%d')\n"
   ]
  },
  {
   "cell_type": "code",
   "execution_count": 114,
   "metadata": {},
   "outputs": [],
   "source": [
    "df[\"time\"] = df[\"start_time\"].apply(lambda dt: dt.time)"
   ]
  },
  {
   "cell_type": "code",
   "execution_count": 115,
   "metadata": {},
   "outputs": [],
   "source": [
    "df[\"hour\"] = df[\"start_time\"].apply(lambda dt: dt.hour)"
   ]
  },
  {
   "cell_type": "code",
   "execution_count": 116,
   "metadata": {},
   "outputs": [],
   "source": [
    "df[\"weekday\"] = df[\"start_time\"].apply(lambda dt: dt.dayofweek)"
   ]
  },
  {
   "cell_type": "code",
   "execution_count": 117,
   "metadata": {},
   "outputs": [],
   "source": [
    "df[\"month\"] = df[\"start_time\"].apply(lambda dt: dt.month)"
   ]
  },
  {
   "cell_type": "code",
   "execution_count": 118,
   "metadata": {},
   "outputs": [],
   "source": [
    "df[\"full_date\"] = [d.date() for d in df[\"start_time\"]]\n"
   ]
  },
  {
   "cell_type": "code",
   "execution_count": 119,
   "metadata": {},
   "outputs": [],
   "source": [
    "df['date_hour'] = df['start_time'].dt.strftime('%m-%d-%H')\n"
   ]
  },
  {
   "cell_type": "code",
   "execution_count": 120,
   "metadata": {},
   "outputs": [],
   "source": [
    "#for a later purpose we will convert the duration from seconds to minutes, dividing it by 60:\n",
    "df[\"duration\"] = df[\"duration\"] / 60"
   ]
  },
  {
   "cell_type": "markdown",
   "metadata": {},
   "source": [
    "We are inspecting the new changes in the df:"
   ]
  },
  {
   "cell_type": "code",
   "execution_count": 121,
   "metadata": {},
   "outputs": [
    {
     "data": {
      "text/html": [
       "<div>\n",
       "<style scoped>\n",
       "    .dataframe tbody tr th:only-of-type {\n",
       "        vertical-align: middle;\n",
       "    }\n",
       "\n",
       "    .dataframe tbody tr th {\n",
       "        vertical-align: top;\n",
       "    }\n",
       "\n",
       "    .dataframe thead th {\n",
       "        text-align: right;\n",
       "    }\n",
       "</style>\n",
       "<table border=\"1\" class=\"dataframe\">\n",
       "  <thead>\n",
       "    <tr style=\"text-align: right;\">\n",
       "      <th></th>\n",
       "      <th>trip_id</th>\n",
       "      <th>duration</th>\n",
       "      <th>start_time</th>\n",
       "      <th>end_time</th>\n",
       "      <th>start_station_id</th>\n",
       "      <th>start_lat</th>\n",
       "      <th>start_lon</th>\n",
       "      <th>end_station_id</th>\n",
       "      <th>end_lat</th>\n",
       "      <th>end_lon</th>\n",
       "      <th>...</th>\n",
       "      <th>trip_route_category</th>\n",
       "      <th>passholder_type</th>\n",
       "      <th>duration_trip</th>\n",
       "      <th>date</th>\n",
       "      <th>time</th>\n",
       "      <th>hour</th>\n",
       "      <th>weekday</th>\n",
       "      <th>month</th>\n",
       "      <th>full_date</th>\n",
       "      <th>date_hour</th>\n",
       "    </tr>\n",
       "  </thead>\n",
       "  <tbody>\n",
       "    <tr>\n",
       "      <th>0</th>\n",
       "      <td>4516691</td>\n",
       "      <td>10.0</td>\n",
       "      <td>2016-01-01 00:04:00</td>\n",
       "      <td>2016-01-01 00:14:00</td>\n",
       "      <td>3046</td>\n",
       "      <td>39.95012</td>\n",
       "      <td>-75.14472</td>\n",
       "      <td>3041</td>\n",
       "      <td>39.96849</td>\n",
       "      <td>-75.13546</td>\n",
       "      <td>...</td>\n",
       "      <td>One Way</td>\n",
       "      <td>Indego30</td>\n",
       "      <td>0 days 00:10:00</td>\n",
       "      <td>01-01</td>\n",
       "      <td>&lt;built-in method time of Timestamp object at 0...</td>\n",
       "      <td>0</td>\n",
       "      <td>4</td>\n",
       "      <td>1</td>\n",
       "      <td>2016-01-01</td>\n",
       "      <td>01-01-00</td>\n",
       "    </tr>\n",
       "    <tr>\n",
       "      <th>1</th>\n",
       "      <td>4516692</td>\n",
       "      <td>22.0</td>\n",
       "      <td>2016-01-01 00:07:00</td>\n",
       "      <td>2016-01-01 00:29:00</td>\n",
       "      <td>3028</td>\n",
       "      <td>39.94061</td>\n",
       "      <td>-75.14958</td>\n",
       "      <td>3019</td>\n",
       "      <td>39.95403</td>\n",
       "      <td>-75.14983</td>\n",
       "      <td>...</td>\n",
       "      <td>One Way</td>\n",
       "      <td>Indego30</td>\n",
       "      <td>0 days 00:22:00</td>\n",
       "      <td>01-01</td>\n",
       "      <td>&lt;built-in method time of Timestamp object at 0...</td>\n",
       "      <td>0</td>\n",
       "      <td>4</td>\n",
       "      <td>1</td>\n",
       "      <td>2016-01-01</td>\n",
       "      <td>01-01-00</td>\n",
       "    </tr>\n",
       "    <tr>\n",
       "      <th>2</th>\n",
       "      <td>4516693</td>\n",
       "      <td>13.0</td>\n",
       "      <td>2016-01-01 00:14:00</td>\n",
       "      <td>2016-01-01 00:27:00</td>\n",
       "      <td>3007</td>\n",
       "      <td>39.94517</td>\n",
       "      <td>-75.15993</td>\n",
       "      <td>3066</td>\n",
       "      <td>39.94561</td>\n",
       "      <td>-75.17348</td>\n",
       "      <td>...</td>\n",
       "      <td>One Way</td>\n",
       "      <td>Indego30</td>\n",
       "      <td>0 days 00:13:00</td>\n",
       "      <td>01-01</td>\n",
       "      <td>&lt;built-in method time of Timestamp object at 0...</td>\n",
       "      <td>0</td>\n",
       "      <td>4</td>\n",
       "      <td>1</td>\n",
       "      <td>2016-01-01</td>\n",
       "      <td>01-01-00</td>\n",
       "    </tr>\n",
       "    <tr>\n",
       "      <th>3</th>\n",
       "      <td>4516694</td>\n",
       "      <td>22.0</td>\n",
       "      <td>2016-01-01 00:20:00</td>\n",
       "      <td>2016-01-01 00:42:00</td>\n",
       "      <td>3005</td>\n",
       "      <td>39.94733</td>\n",
       "      <td>-75.14403</td>\n",
       "      <td>3064</td>\n",
       "      <td>39.93840</td>\n",
       "      <td>-75.17327</td>\n",
       "      <td>...</td>\n",
       "      <td>One Way</td>\n",
       "      <td>Walk-up</td>\n",
       "      <td>0 days 00:22:00</td>\n",
       "      <td>01-01</td>\n",
       "      <td>&lt;built-in method time of Timestamp object at 0...</td>\n",
       "      <td>0</td>\n",
       "      <td>4</td>\n",
       "      <td>1</td>\n",
       "      <td>2016-01-01</td>\n",
       "      <td>01-01-00</td>\n",
       "    </tr>\n",
       "    <tr>\n",
       "      <th>4</th>\n",
       "      <td>4516695</td>\n",
       "      <td>10.0</td>\n",
       "      <td>2016-01-01 00:20:00</td>\n",
       "      <td>2016-01-01 00:30:00</td>\n",
       "      <td>3045</td>\n",
       "      <td>39.94792</td>\n",
       "      <td>-75.16237</td>\n",
       "      <td>3028</td>\n",
       "      <td>39.94061</td>\n",
       "      <td>-75.14958</td>\n",
       "      <td>...</td>\n",
       "      <td>One Way</td>\n",
       "      <td>Indego30</td>\n",
       "      <td>0 days 00:10:00</td>\n",
       "      <td>01-01</td>\n",
       "      <td>&lt;built-in method time of Timestamp object at 0...</td>\n",
       "      <td>0</td>\n",
       "      <td>4</td>\n",
       "      <td>1</td>\n",
       "      <td>2016-01-01</td>\n",
       "      <td>01-01-00</td>\n",
       "    </tr>\n",
       "  </tbody>\n",
       "</table>\n",
       "<p>5 rows × 22 columns</p>\n",
       "</div>"
      ],
      "text/plain": [
       "   trip_id  duration          start_time            end_time  \\\n",
       "0  4516691      10.0 2016-01-01 00:04:00 2016-01-01 00:14:00   \n",
       "1  4516692      22.0 2016-01-01 00:07:00 2016-01-01 00:29:00   \n",
       "2  4516693      13.0 2016-01-01 00:14:00 2016-01-01 00:27:00   \n",
       "3  4516694      22.0 2016-01-01 00:20:00 2016-01-01 00:42:00   \n",
       "4  4516695      10.0 2016-01-01 00:20:00 2016-01-01 00:30:00   \n",
       "\n",
       "   start_station_id  start_lat  start_lon  end_station_id   end_lat   end_lon  \\\n",
       "0              3046   39.95012  -75.14472            3041  39.96849 -75.13546   \n",
       "1              3028   39.94061  -75.14958            3019  39.95403 -75.14983   \n",
       "2              3007   39.94517  -75.15993            3066  39.94561 -75.17348   \n",
       "3              3005   39.94733  -75.14403            3064  39.93840 -75.17327   \n",
       "4              3045   39.94792  -75.16237            3028  39.94061 -75.14958   \n",
       "\n",
       "   ...  trip_route_category  passholder_type   duration_trip   date  \\\n",
       "0  ...              One Way         Indego30 0 days 00:10:00  01-01   \n",
       "1  ...              One Way         Indego30 0 days 00:22:00  01-01   \n",
       "2  ...              One Way         Indego30 0 days 00:13:00  01-01   \n",
       "3  ...              One Way          Walk-up 0 days 00:22:00  01-01   \n",
       "4  ...              One Way         Indego30 0 days 00:10:00  01-01   \n",
       "\n",
       "                                                time hour weekday  month  \\\n",
       "0  <built-in method time of Timestamp object at 0...    0       4      1   \n",
       "1  <built-in method time of Timestamp object at 0...    0       4      1   \n",
       "2  <built-in method time of Timestamp object at 0...    0       4      1   \n",
       "3  <built-in method time of Timestamp object at 0...    0       4      1   \n",
       "4  <built-in method time of Timestamp object at 0...    0       4      1   \n",
       "\n",
       "    full_date  date_hour  \n",
       "0  2016-01-01   01-01-00  \n",
       "1  2016-01-01   01-01-00  \n",
       "2  2016-01-01   01-01-00  \n",
       "3  2016-01-01   01-01-00  \n",
       "4  2016-01-01   01-01-00  \n",
       "\n",
       "[5 rows x 22 columns]"
      ]
     },
     "execution_count": 121,
     "metadata": {},
     "output_type": "execute_result"
    }
   ],
   "source": [
    "df.head()"
   ]
  },
  {
   "cell_type": "code",
   "execution_count": 122,
   "metadata": {},
   "outputs": [
    {
     "data": {
      "text/html": [
       "<div>\n",
       "<style scoped>\n",
       "    .dataframe tbody tr th:only-of-type {\n",
       "        vertical-align: middle;\n",
       "    }\n",
       "\n",
       "    .dataframe tbody tr th {\n",
       "        vertical-align: top;\n",
       "    }\n",
       "\n",
       "    .dataframe thead th {\n",
       "        text-align: right;\n",
       "    }\n",
       "</style>\n",
       "<table border=\"1\" class=\"dataframe\">\n",
       "  <thead>\n",
       "    <tr style=\"text-align: right;\">\n",
       "      <th></th>\n",
       "      <th>trip_id</th>\n",
       "      <th>duration</th>\n",
       "      <th>start_station_id</th>\n",
       "      <th>start_lat</th>\n",
       "      <th>start_lon</th>\n",
       "      <th>end_station_id</th>\n",
       "      <th>end_lat</th>\n",
       "      <th>end_lon</th>\n",
       "      <th>bike_id</th>\n",
       "      <th>plan_duration</th>\n",
       "      <th>duration_trip</th>\n",
       "      <th>hour</th>\n",
       "      <th>weekday</th>\n",
       "      <th>month</th>\n",
       "    </tr>\n",
       "  </thead>\n",
       "  <tbody>\n",
       "    <tr>\n",
       "      <th>count</th>\n",
       "      <td>6.519710e+05</td>\n",
       "      <td>651971.000000</td>\n",
       "      <td>651971.000000</td>\n",
       "      <td>651971.000000</td>\n",
       "      <td>651971.000000</td>\n",
       "      <td>651971.000000</td>\n",
       "      <td>651971.000000</td>\n",
       "      <td>651971.000000</td>\n",
       "      <td>651971.000000</td>\n",
       "      <td>651971.000000</td>\n",
       "      <td>651971</td>\n",
       "      <td>651971.000000</td>\n",
       "      <td>651971.000000</td>\n",
       "      <td>651971.000000</td>\n",
       "    </tr>\n",
       "    <tr>\n",
       "      <th>mean</th>\n",
       "      <td>3.510074e+07</td>\n",
       "      <td>21.744116</td>\n",
       "      <td>3047.424994</td>\n",
       "      <td>39.952599</td>\n",
       "      <td>-75.168769</td>\n",
       "      <td>3046.760276</td>\n",
       "      <td>39.846196</td>\n",
       "      <td>-74.968480</td>\n",
       "      <td>4017.813906</td>\n",
       "      <td>29.610144</td>\n",
       "      <td>0 days 00:22:29.216606260</td>\n",
       "      <td>13.867882</td>\n",
       "      <td>2.849348</td>\n",
       "      <td>7.364406</td>\n",
       "    </tr>\n",
       "    <tr>\n",
       "      <th>std</th>\n",
       "      <td>2.720246e+07</td>\n",
       "      <td>60.945159</td>\n",
       "      <td>31.559946</td>\n",
       "      <td>0.070884</td>\n",
       "      <td>0.132684</td>\n",
       "      <td>31.432813</td>\n",
       "      <td>2.056511</td>\n",
       "      <td>3.869193</td>\n",
       "      <td>1735.005923</td>\n",
       "      <td>40.916349</td>\n",
       "      <td>0 days 01:33:32.666900885</td>\n",
       "      <td>5.023578</td>\n",
       "      <td>1.925705</td>\n",
       "      <td>2.844950</td>\n",
       "    </tr>\n",
       "    <tr>\n",
       "      <th>min</th>\n",
       "      <td>4.516691e+06</td>\n",
       "      <td>1.000000</td>\n",
       "      <td>3000.000000</td>\n",
       "      <td>0.000000</td>\n",
       "      <td>-75.223991</td>\n",
       "      <td>3000.000000</td>\n",
       "      <td>0.000000</td>\n",
       "      <td>-75.223991</td>\n",
       "      <td>2472.000000</td>\n",
       "      <td>0.000000</td>\n",
       "      <td>-1 days +23:04:00</td>\n",
       "      <td>0.000000</td>\n",
       "      <td>0.000000</td>\n",
       "      <td>1.000000</td>\n",
       "    </tr>\n",
       "    <tr>\n",
       "      <th>25%</th>\n",
       "      <td>4.725896e+06</td>\n",
       "      <td>8.000000</td>\n",
       "      <td>3023.000000</td>\n",
       "      <td>39.945610</td>\n",
       "      <td>-75.179710</td>\n",
       "      <td>3022.000000</td>\n",
       "      <td>39.945271</td>\n",
       "      <td>-75.179390</td>\n",
       "      <td>3280.000000</td>\n",
       "      <td>30.000000</td>\n",
       "      <td>0 days 00:08:00</td>\n",
       "      <td>10.000000</td>\n",
       "      <td>1.000000</td>\n",
       "      <td>5.000000</td>\n",
       "    </tr>\n",
       "    <tr>\n",
       "      <th>50%</th>\n",
       "      <td>3.870654e+07</td>\n",
       "      <td>12.000000</td>\n",
       "      <td>3043.000000</td>\n",
       "      <td>39.951120</td>\n",
       "      <td>-75.167351</td>\n",
       "      <td>3041.000000</td>\n",
       "      <td>39.950710</td>\n",
       "      <td>-75.167107</td>\n",
       "      <td>3536.000000</td>\n",
       "      <td>30.000000</td>\n",
       "      <td>0 days 00:12:00</td>\n",
       "      <td>15.000000</td>\n",
       "      <td>3.000000</td>\n",
       "      <td>8.000000</td>\n",
       "    </tr>\n",
       "    <tr>\n",
       "      <th>75%</th>\n",
       "      <td>5.701548e+07</td>\n",
       "      <td>20.000000</td>\n",
       "      <td>3063.000000</td>\n",
       "      <td>39.959229</td>\n",
       "      <td>-75.158127</td>\n",
       "      <td>3063.000000</td>\n",
       "      <td>39.957081</td>\n",
       "      <td>-75.156952</td>\n",
       "      <td>5190.000000</td>\n",
       "      <td>30.000000</td>\n",
       "      <td>0 days 00:20:00</td>\n",
       "      <td>18.000000</td>\n",
       "      <td>4.000000</td>\n",
       "      <td>10.000000</td>\n",
       "    </tr>\n",
       "    <tr>\n",
       "      <th>max</th>\n",
       "      <td>8.758284e+07</td>\n",
       "      <td>1440.000000</td>\n",
       "      <td>3129.000000</td>\n",
       "      <td>39.991791</td>\n",
       "      <td>0.000000</td>\n",
       "      <td>3129.000000</td>\n",
       "      <td>39.991791</td>\n",
       "      <td>0.000000</td>\n",
       "      <td>55195.000000</td>\n",
       "      <td>365.000000</td>\n",
       "      <td>19 days 00:59:00</td>\n",
       "      <td>23.000000</td>\n",
       "      <td>6.000000</td>\n",
       "      <td>12.000000</td>\n",
       "    </tr>\n",
       "  </tbody>\n",
       "</table>\n",
       "</div>"
      ],
      "text/plain": [
       "            trip_id       duration  start_station_id      start_lat  \\\n",
       "count  6.519710e+05  651971.000000     651971.000000  651971.000000   \n",
       "mean   3.510074e+07      21.744116       3047.424994      39.952599   \n",
       "std    2.720246e+07      60.945159         31.559946       0.070884   \n",
       "min    4.516691e+06       1.000000       3000.000000       0.000000   \n",
       "25%    4.725896e+06       8.000000       3023.000000      39.945610   \n",
       "50%    3.870654e+07      12.000000       3043.000000      39.951120   \n",
       "75%    5.701548e+07      20.000000       3063.000000      39.959229   \n",
       "max    8.758284e+07    1440.000000       3129.000000      39.991791   \n",
       "\n",
       "           start_lon  end_station_id        end_lat        end_lon  \\\n",
       "count  651971.000000   651971.000000  651971.000000  651971.000000   \n",
       "mean      -75.168769     3046.760276      39.846196     -74.968480   \n",
       "std         0.132684       31.432813       2.056511       3.869193   \n",
       "min       -75.223991     3000.000000       0.000000     -75.223991   \n",
       "25%       -75.179710     3022.000000      39.945271     -75.179390   \n",
       "50%       -75.167351     3041.000000      39.950710     -75.167107   \n",
       "75%       -75.158127     3063.000000      39.957081     -75.156952   \n",
       "max         0.000000     3129.000000      39.991791       0.000000   \n",
       "\n",
       "             bike_id  plan_duration              duration_trip           hour  \\\n",
       "count  651971.000000  651971.000000                     651971  651971.000000   \n",
       "mean     4017.813906      29.610144  0 days 00:22:29.216606260      13.867882   \n",
       "std      1735.005923      40.916349  0 days 01:33:32.666900885       5.023578   \n",
       "min      2472.000000       0.000000          -1 days +23:04:00       0.000000   \n",
       "25%      3280.000000      30.000000            0 days 00:08:00      10.000000   \n",
       "50%      3536.000000      30.000000            0 days 00:12:00      15.000000   \n",
       "75%      5190.000000      30.000000            0 days 00:20:00      18.000000   \n",
       "max     55195.000000     365.000000           19 days 00:59:00      23.000000   \n",
       "\n",
       "             weekday          month  \n",
       "count  651971.000000  651971.000000  \n",
       "mean        2.849348       7.364406  \n",
       "std         1.925705       2.844950  \n",
       "min         0.000000       1.000000  \n",
       "25%         1.000000       5.000000  \n",
       "50%         3.000000       8.000000  \n",
       "75%         4.000000      10.000000  \n",
       "max         6.000000      12.000000  "
      ]
     },
     "execution_count": 122,
     "metadata": {},
     "output_type": "execute_result"
    }
   ],
   "source": [
    "df.describe()"
   ]
  },
  {
   "cell_type": "markdown",
   "metadata": {},
   "source": [
    "### Including the weather data "
   ]
  },
  {
   "cell_type": "code",
   "execution_count": 123,
   "metadata": {},
   "outputs": [],
   "source": [
    "#import weather data\n",
    "#STR_Nov = pd.read_csv(\"Car2Go_STR_SampleData.csv\", encoding = \"ISO-8859-1\")\n",
    "weather = pd.read_csv('weather_hourly_philadelphia.csv')"
   ]
  },
  {
   "cell_type": "code",
   "execution_count": 124,
   "metadata": {},
   "outputs": [
    {
     "data": {
      "text/html": [
       "<div>\n",
       "<style scoped>\n",
       "    .dataframe tbody tr th:only-of-type {\n",
       "        vertical-align: middle;\n",
       "    }\n",
       "\n",
       "    .dataframe tbody tr th {\n",
       "        vertical-align: top;\n",
       "    }\n",
       "\n",
       "    .dataframe thead th {\n",
       "        text-align: right;\n",
       "    }\n",
       "</style>\n",
       "<table border=\"1\" class=\"dataframe\">\n",
       "  <thead>\n",
       "    <tr style=\"text-align: right;\">\n",
       "      <th></th>\n",
       "      <th>date_time</th>\n",
       "      <th>max_temp</th>\n",
       "      <th>min_temp</th>\n",
       "      <th>precip</th>\n",
       "    </tr>\n",
       "  </thead>\n",
       "  <tbody>\n",
       "    <tr>\n",
       "      <th>0</th>\n",
       "      <td>2015-01-02 01:00:00</td>\n",
       "      <td>3.3</td>\n",
       "      <td>3.3</td>\n",
       "      <td>0.0</td>\n",
       "    </tr>\n",
       "    <tr>\n",
       "      <th>1</th>\n",
       "      <td>2015-01-02 02:00:00</td>\n",
       "      <td>2.8</td>\n",
       "      <td>2.8</td>\n",
       "      <td>0.0</td>\n",
       "    </tr>\n",
       "    <tr>\n",
       "      <th>2</th>\n",
       "      <td>2015-01-02 03:00:00</td>\n",
       "      <td>2.2</td>\n",
       "      <td>2.2</td>\n",
       "      <td>0.0</td>\n",
       "    </tr>\n",
       "    <tr>\n",
       "      <th>3</th>\n",
       "      <td>2015-01-02 04:00:00</td>\n",
       "      <td>0.6</td>\n",
       "      <td>0.6</td>\n",
       "      <td>0.0</td>\n",
       "    </tr>\n",
       "    <tr>\n",
       "      <th>4</th>\n",
       "      <td>2015-01-02 05:00:00</td>\n",
       "      <td>1.1</td>\n",
       "      <td>1.1</td>\n",
       "      <td>0.0</td>\n",
       "    </tr>\n",
       "  </tbody>\n",
       "</table>\n",
       "</div>"
      ],
      "text/plain": [
       "             date_time  max_temp  min_temp  precip\n",
       "0  2015-01-02 01:00:00       3.3       3.3     0.0\n",
       "1  2015-01-02 02:00:00       2.8       2.8     0.0\n",
       "2  2015-01-02 03:00:00       2.2       2.2     0.0\n",
       "3  2015-01-02 04:00:00       0.6       0.6     0.0\n",
       "4  2015-01-02 05:00:00       1.1       1.1     0.0"
      ]
     },
     "execution_count": 124,
     "metadata": {},
     "output_type": "execute_result"
    }
   ],
   "source": [
    "weather.head()"
   ]
  },
  {
   "cell_type": "code",
   "execution_count": 125,
   "metadata": {},
   "outputs": [
    {
     "name": "stdout",
     "output_type": "stream",
     "text": [
      "<class 'pandas.core.frame.DataFrame'>\n",
      "RangeIndex: 43848 entries, 0 to 43847\n",
      "Data columns (total 4 columns):\n",
      " #   Column     Non-Null Count  Dtype  \n",
      "---  ------     --------------  -----  \n",
      " 0   date_time  43785 non-null  object \n",
      " 1   max_temp   43785 non-null  float64\n",
      " 2   min_temp   43785 non-null  float64\n",
      " 3   precip     43785 non-null  float64\n",
      "dtypes: float64(3), object(1)\n",
      "memory usage: 1.3+ MB\n"
     ]
    }
   ],
   "source": [
    "weather.info()"
   ]
  },
  {
   "cell_type": "code",
   "execution_count": 126,
   "metadata": {},
   "outputs": [],
   "source": [
    "weather['date_time'] = pd.to_datetime(weather['date_time'])\n",
    "weather['date'] = weather['date_time'].dt.strftime('%m-%d')\n",
    "weather['hour'] = weather[\"date_time\"].apply(lambda dt: dt.hour)"
   ]
  },
  {
   "cell_type": "code",
   "execution_count": 127,
   "metadata": {},
   "outputs": [
    {
     "data": {
      "text/html": [
       "<div>\n",
       "<style scoped>\n",
       "    .dataframe tbody tr th:only-of-type {\n",
       "        vertical-align: middle;\n",
       "    }\n",
       "\n",
       "    .dataframe tbody tr th {\n",
       "        vertical-align: top;\n",
       "    }\n",
       "\n",
       "    .dataframe thead th {\n",
       "        text-align: right;\n",
       "    }\n",
       "</style>\n",
       "<table border=\"1\" class=\"dataframe\">\n",
       "  <thead>\n",
       "    <tr style=\"text-align: right;\">\n",
       "      <th></th>\n",
       "      <th>date_time</th>\n",
       "      <th>max_temp</th>\n",
       "      <th>min_temp</th>\n",
       "      <th>precip</th>\n",
       "      <th>date</th>\n",
       "      <th>hour</th>\n",
       "      <th>date_hour</th>\n",
       "      <th>year</th>\n",
       "    </tr>\n",
       "  </thead>\n",
       "  <tbody>\n",
       "    <tr>\n",
       "      <th>8736</th>\n",
       "      <td>2016-01-01 01:00:00</td>\n",
       "      <td>7.2</td>\n",
       "      <td>7.2</td>\n",
       "      <td>0.0</td>\n",
       "      <td>01-01</td>\n",
       "      <td>1.0</td>\n",
       "      <td>01-01-01</td>\n",
       "      <td>2016.0</td>\n",
       "    </tr>\n",
       "    <tr>\n",
       "      <th>8737</th>\n",
       "      <td>2016-01-01 02:00:00</td>\n",
       "      <td>6.7</td>\n",
       "      <td>6.7</td>\n",
       "      <td>0.0</td>\n",
       "      <td>01-01</td>\n",
       "      <td>2.0</td>\n",
       "      <td>01-01-02</td>\n",
       "      <td>2016.0</td>\n",
       "    </tr>\n",
       "    <tr>\n",
       "      <th>8738</th>\n",
       "      <td>2016-01-01 03:00:00</td>\n",
       "      <td>6.7</td>\n",
       "      <td>6.7</td>\n",
       "      <td>0.0</td>\n",
       "      <td>01-01</td>\n",
       "      <td>3.0</td>\n",
       "      <td>01-01-03</td>\n",
       "      <td>2016.0</td>\n",
       "    </tr>\n",
       "    <tr>\n",
       "      <th>8739</th>\n",
       "      <td>2016-01-01 04:00:00</td>\n",
       "      <td>6.1</td>\n",
       "      <td>6.1</td>\n",
       "      <td>0.0</td>\n",
       "      <td>01-01</td>\n",
       "      <td>4.0</td>\n",
       "      <td>01-01-04</td>\n",
       "      <td>2016.0</td>\n",
       "    </tr>\n",
       "    <tr>\n",
       "      <th>8740</th>\n",
       "      <td>2016-01-01 05:00:00</td>\n",
       "      <td>6.1</td>\n",
       "      <td>6.1</td>\n",
       "      <td>0.0</td>\n",
       "      <td>01-01</td>\n",
       "      <td>5.0</td>\n",
       "      <td>01-01-05</td>\n",
       "      <td>2016.0</td>\n",
       "    </tr>\n",
       "  </tbody>\n",
       "</table>\n",
       "</div>"
      ],
      "text/plain": [
       "               date_time  max_temp  min_temp  precip   date  hour date_hour  \\\n",
       "8736 2016-01-01 01:00:00       7.2       7.2     0.0  01-01   1.0  01-01-01   \n",
       "8737 2016-01-01 02:00:00       6.7       6.7     0.0  01-01   2.0  01-01-02   \n",
       "8738 2016-01-01 03:00:00       6.7       6.7     0.0  01-01   3.0  01-01-03   \n",
       "8739 2016-01-01 04:00:00       6.1       6.1     0.0  01-01   4.0  01-01-04   \n",
       "8740 2016-01-01 05:00:00       6.1       6.1     0.0  01-01   5.0  01-01-05   \n",
       "\n",
       "        year  \n",
       "8736  2016.0  \n",
       "8737  2016.0  \n",
       "8738  2016.0  \n",
       "8739  2016.0  \n",
       "8740  2016.0  "
      ]
     },
     "execution_count": 127,
     "metadata": {},
     "output_type": "execute_result"
    }
   ],
   "source": [
    "weather['date_hour'] = weather['date_time'].dt.strftime('%m-%d-%H')\n",
    "weather['year'] = pd.DatetimeIndex(weather['date_time']).year\n",
    "weather = weather[weather['year'] == 2016]\n",
    "\n",
    "#pd. DatetimeIndex(df['date']). year.\n",
    "weather.head()"
   ]
  },
  {
   "cell_type": "markdown",
   "metadata": {},
   "source": [
    "**Combine both dataframes into one using mapping:**\n"
   ]
  },
  {
   "cell_type": "code",
   "execution_count": 128,
   "metadata": {},
   "outputs": [
    {
     "data": {
      "text/html": [
       "<div>\n",
       "<style scoped>\n",
       "    .dataframe tbody tr th:only-of-type {\n",
       "        vertical-align: middle;\n",
       "    }\n",
       "\n",
       "    .dataframe tbody tr th {\n",
       "        vertical-align: top;\n",
       "    }\n",
       "\n",
       "    .dataframe thead th {\n",
       "        text-align: right;\n",
       "    }\n",
       "</style>\n",
       "<table border=\"1\" class=\"dataframe\">\n",
       "  <thead>\n",
       "    <tr style=\"text-align: right;\">\n",
       "      <th></th>\n",
       "      <th>trip_id</th>\n",
       "      <th>duration</th>\n",
       "      <th>start_time</th>\n",
       "      <th>end_time</th>\n",
       "      <th>start_station_id</th>\n",
       "      <th>start_lat</th>\n",
       "      <th>start_lon</th>\n",
       "      <th>end_station_id</th>\n",
       "      <th>end_lat</th>\n",
       "      <th>end_lon</th>\n",
       "      <th>...</th>\n",
       "      <th>month</th>\n",
       "      <th>full_date</th>\n",
       "      <th>date_hour</th>\n",
       "      <th>date_time</th>\n",
       "      <th>max_temp</th>\n",
       "      <th>min_temp</th>\n",
       "      <th>precip</th>\n",
       "      <th>date_y</th>\n",
       "      <th>hour_y</th>\n",
       "      <th>year</th>\n",
       "    </tr>\n",
       "  </thead>\n",
       "  <tbody>\n",
       "    <tr>\n",
       "      <th>0</th>\n",
       "      <td>4516691</td>\n",
       "      <td>10.0</td>\n",
       "      <td>2016-01-01 00:04:00</td>\n",
       "      <td>2016-01-01 00:14:00</td>\n",
       "      <td>3046</td>\n",
       "      <td>39.95012</td>\n",
       "      <td>-75.14472</td>\n",
       "      <td>3041</td>\n",
       "      <td>39.96849</td>\n",
       "      <td>-75.13546</td>\n",
       "      <td>...</td>\n",
       "      <td>1</td>\n",
       "      <td>2016-01-01</td>\n",
       "      <td>01-01-00</td>\n",
       "      <td>2016-01-01</td>\n",
       "      <td>6.7</td>\n",
       "      <td>6.7</td>\n",
       "      <td>0.0</td>\n",
       "      <td>01-01</td>\n",
       "      <td>0.0</td>\n",
       "      <td>2016.0</td>\n",
       "    </tr>\n",
       "    <tr>\n",
       "      <th>1</th>\n",
       "      <td>4516692</td>\n",
       "      <td>22.0</td>\n",
       "      <td>2016-01-01 00:07:00</td>\n",
       "      <td>2016-01-01 00:29:00</td>\n",
       "      <td>3028</td>\n",
       "      <td>39.94061</td>\n",
       "      <td>-75.14958</td>\n",
       "      <td>3019</td>\n",
       "      <td>39.95403</td>\n",
       "      <td>-75.14983</td>\n",
       "      <td>...</td>\n",
       "      <td>1</td>\n",
       "      <td>2016-01-01</td>\n",
       "      <td>01-01-00</td>\n",
       "      <td>2016-01-01</td>\n",
       "      <td>6.7</td>\n",
       "      <td>6.7</td>\n",
       "      <td>0.0</td>\n",
       "      <td>01-01</td>\n",
       "      <td>0.0</td>\n",
       "      <td>2016.0</td>\n",
       "    </tr>\n",
       "    <tr>\n",
       "      <th>2</th>\n",
       "      <td>4516693</td>\n",
       "      <td>13.0</td>\n",
       "      <td>2016-01-01 00:14:00</td>\n",
       "      <td>2016-01-01 00:27:00</td>\n",
       "      <td>3007</td>\n",
       "      <td>39.94517</td>\n",
       "      <td>-75.15993</td>\n",
       "      <td>3066</td>\n",
       "      <td>39.94561</td>\n",
       "      <td>-75.17348</td>\n",
       "      <td>...</td>\n",
       "      <td>1</td>\n",
       "      <td>2016-01-01</td>\n",
       "      <td>01-01-00</td>\n",
       "      <td>2016-01-01</td>\n",
       "      <td>6.7</td>\n",
       "      <td>6.7</td>\n",
       "      <td>0.0</td>\n",
       "      <td>01-01</td>\n",
       "      <td>0.0</td>\n",
       "      <td>2016.0</td>\n",
       "    </tr>\n",
       "    <tr>\n",
       "      <th>3</th>\n",
       "      <td>4516694</td>\n",
       "      <td>22.0</td>\n",
       "      <td>2016-01-01 00:20:00</td>\n",
       "      <td>2016-01-01 00:42:00</td>\n",
       "      <td>3005</td>\n",
       "      <td>39.94733</td>\n",
       "      <td>-75.14403</td>\n",
       "      <td>3064</td>\n",
       "      <td>39.93840</td>\n",
       "      <td>-75.17327</td>\n",
       "      <td>...</td>\n",
       "      <td>1</td>\n",
       "      <td>2016-01-01</td>\n",
       "      <td>01-01-00</td>\n",
       "      <td>2016-01-01</td>\n",
       "      <td>6.7</td>\n",
       "      <td>6.7</td>\n",
       "      <td>0.0</td>\n",
       "      <td>01-01</td>\n",
       "      <td>0.0</td>\n",
       "      <td>2016.0</td>\n",
       "    </tr>\n",
       "    <tr>\n",
       "      <th>4</th>\n",
       "      <td>4516695</td>\n",
       "      <td>10.0</td>\n",
       "      <td>2016-01-01 00:20:00</td>\n",
       "      <td>2016-01-01 00:30:00</td>\n",
       "      <td>3045</td>\n",
       "      <td>39.94792</td>\n",
       "      <td>-75.16237</td>\n",
       "      <td>3028</td>\n",
       "      <td>39.94061</td>\n",
       "      <td>-75.14958</td>\n",
       "      <td>...</td>\n",
       "      <td>1</td>\n",
       "      <td>2016-01-01</td>\n",
       "      <td>01-01-00</td>\n",
       "      <td>2016-01-01</td>\n",
       "      <td>6.7</td>\n",
       "      <td>6.7</td>\n",
       "      <td>0.0</td>\n",
       "      <td>01-01</td>\n",
       "      <td>0.0</td>\n",
       "      <td>2016.0</td>\n",
       "    </tr>\n",
       "  </tbody>\n",
       "</table>\n",
       "<p>5 rows × 29 columns</p>\n",
       "</div>"
      ],
      "text/plain": [
       "   trip_id  duration          start_time            end_time  \\\n",
       "0  4516691      10.0 2016-01-01 00:04:00 2016-01-01 00:14:00   \n",
       "1  4516692      22.0 2016-01-01 00:07:00 2016-01-01 00:29:00   \n",
       "2  4516693      13.0 2016-01-01 00:14:00 2016-01-01 00:27:00   \n",
       "3  4516694      22.0 2016-01-01 00:20:00 2016-01-01 00:42:00   \n",
       "4  4516695      10.0 2016-01-01 00:20:00 2016-01-01 00:30:00   \n",
       "\n",
       "   start_station_id  start_lat  start_lon  end_station_id   end_lat   end_lon  \\\n",
       "0              3046   39.95012  -75.14472            3041  39.96849 -75.13546   \n",
       "1              3028   39.94061  -75.14958            3019  39.95403 -75.14983   \n",
       "2              3007   39.94517  -75.15993            3066  39.94561 -75.17348   \n",
       "3              3005   39.94733  -75.14403            3064  39.93840 -75.17327   \n",
       "4              3045   39.94792  -75.16237            3028  39.94061 -75.14958   \n",
       "\n",
       "   ...  month   full_date date_hour  date_time max_temp min_temp precip  \\\n",
       "0  ...      1  2016-01-01  01-01-00 2016-01-01      6.7      6.7    0.0   \n",
       "1  ...      1  2016-01-01  01-01-00 2016-01-01      6.7      6.7    0.0   \n",
       "2  ...      1  2016-01-01  01-01-00 2016-01-01      6.7      6.7    0.0   \n",
       "3  ...      1  2016-01-01  01-01-00 2016-01-01      6.7      6.7    0.0   \n",
       "4  ...      1  2016-01-01  01-01-00 2016-01-01      6.7      6.7    0.0   \n",
       "\n",
       "   date_y  hour_y    year  \n",
       "0   01-01     0.0  2016.0  \n",
       "1   01-01     0.0  2016.0  \n",
       "2   01-01     0.0  2016.0  \n",
       "3   01-01     0.0  2016.0  \n",
       "4   01-01     0.0  2016.0  \n",
       "\n",
       "[5 rows x 29 columns]"
      ]
     },
     "execution_count": 128,
     "metadata": {},
     "output_type": "execute_result"
    }
   ],
   "source": [
    "df_weather = pd.merge(df, weather, on=\"date_hour\", how=\"left\")\n",
    "df_weather.head()\n"
   ]
  },
  {
   "cell_type": "markdown",
   "metadata": {},
   "source": [
    "# Task 2: Descriptive analytics"
   ]
  },
  {
   "cell_type": "markdown",
   "metadata": {},
   "source": [
    "### a) Temporal Demand Patterns and Seasonality (Lina, Marc)"
   ]
  },
  {
   "cell_type": "markdown",
   "metadata": {},
   "source": [
    "**Hourly demand:**"
   ]
  },
  {
   "cell_type": "code",
   "execution_count": 129,
   "metadata": {},
   "outputs": [
    {
     "data": {
      "text/html": [
       "<div>\n",
       "<style scoped>\n",
       "    .dataframe tbody tr th:only-of-type {\n",
       "        vertical-align: middle;\n",
       "    }\n",
       "\n",
       "    .dataframe tbody tr th {\n",
       "        vertical-align: top;\n",
       "    }\n",
       "\n",
       "    .dataframe thead th {\n",
       "        text-align: right;\n",
       "    }\n",
       "</style>\n",
       "<table border=\"1\" class=\"dataframe\">\n",
       "  <thead>\n",
       "    <tr style=\"text-align: right;\">\n",
       "      <th></th>\n",
       "      <th></th>\n",
       "      <th>trip_id</th>\n",
       "    </tr>\n",
       "    <tr>\n",
       "      <th>date</th>\n",
       "      <th>hour</th>\n",
       "      <th></th>\n",
       "    </tr>\n",
       "  </thead>\n",
       "  <tbody>\n",
       "    <tr>\n",
       "      <th rowspan=\"5\" valign=\"top\">01-01</th>\n",
       "      <th>0</th>\n",
       "      <td>26</td>\n",
       "    </tr>\n",
       "    <tr>\n",
       "      <th>1</th>\n",
       "      <td>40</td>\n",
       "    </tr>\n",
       "    <tr>\n",
       "      <th>2</th>\n",
       "      <td>33</td>\n",
       "    </tr>\n",
       "    <tr>\n",
       "      <th>3</th>\n",
       "      <td>6</td>\n",
       "    </tr>\n",
       "    <tr>\n",
       "      <th>4</th>\n",
       "      <td>1</td>\n",
       "    </tr>\n",
       "    <tr>\n",
       "      <th>...</th>\n",
       "      <th>...</th>\n",
       "      <td>...</td>\n",
       "    </tr>\n",
       "    <tr>\n",
       "      <th rowspan=\"5\" valign=\"top\">12-31</th>\n",
       "      <th>19</th>\n",
       "      <td>28</td>\n",
       "    </tr>\n",
       "    <tr>\n",
       "      <th>20</th>\n",
       "      <td>29</td>\n",
       "    </tr>\n",
       "    <tr>\n",
       "      <th>21</th>\n",
       "      <td>18</td>\n",
       "    </tr>\n",
       "    <tr>\n",
       "      <th>22</th>\n",
       "      <td>21</td>\n",
       "    </tr>\n",
       "    <tr>\n",
       "      <th>23</th>\n",
       "      <td>12</td>\n",
       "    </tr>\n",
       "  </tbody>\n",
       "</table>\n",
       "<p>8535 rows × 1 columns</p>\n",
       "</div>"
      ],
      "text/plain": [
       "            trip_id\n",
       "date  hour         \n",
       "01-01 0          26\n",
       "      1          40\n",
       "      2          33\n",
       "      3           6\n",
       "      4           1\n",
       "...             ...\n",
       "12-31 19         28\n",
       "      20         29\n",
       "      21         18\n",
       "      22         21\n",
       "      23         12\n",
       "\n",
       "[8535 rows x 1 columns]"
      ]
     },
     "execution_count": 129,
     "metadata": {},
     "output_type": "execute_result"
    }
   ],
   "source": [
    "hourly_demand = df.groupby([\"date\",\"hour\"])[\"trip_id\"].nunique()\n",
    "hourly_demand = pd.DataFrame(hourly_demand)\n",
    "hourly_demand\n"
   ]
  },
  {
   "cell_type": "code",
   "execution_count": 130,
   "metadata": {},
   "outputs": [
    {
     "data": {
      "image/png": "[encoded data removed]",
      "text/plain": [
       "<Figure size 720x288 with 1 Axes>"
      ]
     },
     "metadata": {
      "needs_background": "light"
     },
     "output_type": "display_data"
    }
   ],
   "source": [
    "fig, ax = pp.subplots(figsize=(10,4))\n",
    "\n",
    "sns.barplot(x=hourly_demand.index.get_level_values(1), y=hourly_demand[\"trip_id\"],ax=ax)\n",
    "pp.xlabel('Hour', fontdict={'size':11})\n",
    "pp.ylabel(\"Demand\", fontdict={\"size\":11})\n",
    "pp.title(\"Overview of hourly demand\", fontsize=14.0, fontweight='bold')\n",
    "\n",
    "pp.show()"
   ]
  },
  {
   "cell_type": "markdown",
   "metadata": {},
   "source": [
    "**Daily demand**"
   ]
  },
  {
   "cell_type": "code",
   "execution_count": 131,
   "metadata": {},
   "outputs": [
    {
     "data": {
      "text/html": [
       "<div>\n",
       "<style scoped>\n",
       "    .dataframe tbody tr th:only-of-type {\n",
       "        vertical-align: middle;\n",
       "    }\n",
       "\n",
       "    .dataframe tbody tr th {\n",
       "        vertical-align: top;\n",
       "    }\n",
       "\n",
       "    .dataframe thead th {\n",
       "        text-align: right;\n",
       "    }\n",
       "</style>\n",
       "<table border=\"1\" class=\"dataframe\">\n",
       "  <thead>\n",
       "    <tr style=\"text-align: right;\">\n",
       "      <th></th>\n",
       "      <th></th>\n",
       "      <th>trip_id</th>\n",
       "    </tr>\n",
       "    <tr>\n",
       "      <th>month</th>\n",
       "      <th>weekday</th>\n",
       "      <th></th>\n",
       "    </tr>\n",
       "  </thead>\n",
       "  <tbody>\n",
       "    <tr>\n",
       "      <th rowspan=\"5\" valign=\"top\">1</th>\n",
       "      <th>0</th>\n",
       "      <td>1836</td>\n",
       "    </tr>\n",
       "    <tr>\n",
       "      <th>1</th>\n",
       "      <td>2023</td>\n",
       "    </tr>\n",
       "    <tr>\n",
       "      <th>2</th>\n",
       "      <td>2538</td>\n",
       "    </tr>\n",
       "    <tr>\n",
       "      <th>3</th>\n",
       "      <td>3083</td>\n",
       "    </tr>\n",
       "    <tr>\n",
       "      <th>4</th>\n",
       "      <td>3790</td>\n",
       "    </tr>\n",
       "    <tr>\n",
       "      <th>...</th>\n",
       "      <th>...</th>\n",
       "      <td>...</td>\n",
       "    </tr>\n",
       "    <tr>\n",
       "      <th rowspan=\"5\" valign=\"top\">12</th>\n",
       "      <th>2</th>\n",
       "      <td>5366</td>\n",
       "    </tr>\n",
       "    <tr>\n",
       "      <th>3</th>\n",
       "      <td>6780</td>\n",
       "    </tr>\n",
       "    <tr>\n",
       "      <th>4</th>\n",
       "      <td>6164</td>\n",
       "    </tr>\n",
       "    <tr>\n",
       "      <th>5</th>\n",
       "      <td>3453</td>\n",
       "    </tr>\n",
       "    <tr>\n",
       "      <th>6</th>\n",
       "      <td>2860</td>\n",
       "    </tr>\n",
       "  </tbody>\n",
       "</table>\n",
       "<p>84 rows × 1 columns</p>\n",
       "</div>"
      ],
      "text/plain": [
       "               trip_id\n",
       "month weekday         \n",
       "1     0           1836\n",
       "      1           2023\n",
       "      2           2538\n",
       "      3           3083\n",
       "      4           3790\n",
       "...                ...\n",
       "12    2           5366\n",
       "      3           6780\n",
       "      4           6164\n",
       "      5           3453\n",
       "      6           2860\n",
       "\n",
       "[84 rows x 1 columns]"
      ]
     },
     "execution_count": 131,
     "metadata": {},
     "output_type": "execute_result"
    }
   ],
   "source": [
    "\n",
    "weekdays = [\"Monday\", \"Tuesday\", \"Wednesday\", \"Thursday\", \"Friday\", \"Saturday\", \"Sunday\"]\n",
    "\n",
    "daily_demand = df.groupby([\"month\",\"weekday\"])[\"trip_id\"].nunique()\n",
    "daily_demand = pd.DataFrame(daily_demand)\n",
    "daily_demand"
   ]
  },
  {
   "cell_type": "code",
   "execution_count": 132,
   "metadata": {},
   "outputs": [
    {
     "data": {
      "text/plain": [
       "array(['trip_id'], dtype=object)"
      ]
     },
     "execution_count": 132,
     "metadata": {},
     "output_type": "execute_result"
    }
   ],
   "source": [
    "daily_demand.columns.values"
   ]
  },
  {
   "cell_type": "code",
   "execution_count": 133,
   "metadata": {},
   "outputs": [
    {
     "data": {
      "image/png": "[encoded data removed]",
      "text/plain": [
       "<Figure size 720x288 with 1 Axes>"
      ]
     },
     "metadata": {
      "needs_background": "light"
     },
     "output_type": "display_data"
    }
   ],
   "source": [
    "fig, ax = pp.subplots(figsize=(10,4))\n",
    "\n",
    "sns.boxplot(x=daily_demand.index.get_level_values(1),y=daily_demand[\"trip_id\"],palette = 'Blues_d')\n",
    "\n",
    "pp.ylabel(\"Demand\", fontsize=11)\n",
    "pp.title(\"Use of bicycles in one week\", fontsize=14, fontweight=\"bold\", color=\"k\")\n",
    "pp.tight_layout()\n",
    "pp.gca().set_xticklabels(\\\n",
    "    ['Monday','Tuesday','Wednesday','Thursday','Friday','Saturday','Sunday']);\n",
    "\n",
    "pp.show()"
   ]
  },
  {
   "cell_type": "markdown",
   "metadata": {},
   "source": [
    "**Monthly demand**"
   ]
  },
  {
   "cell_type": "code",
   "execution_count": 134,
   "metadata": {},
   "outputs": [
    {
     "data": {
      "text/html": [
       "<div>\n",
       "<style scoped>\n",
       "    .dataframe tbody tr th:only-of-type {\n",
       "        vertical-align: middle;\n",
       "    }\n",
       "\n",
       "    .dataframe tbody tr th {\n",
       "        vertical-align: top;\n",
       "    }\n",
       "\n",
       "    .dataframe thead th {\n",
       "        text-align: right;\n",
       "    }\n",
       "</style>\n",
       "<table border=\"1\" class=\"dataframe\">\n",
       "  <thead>\n",
       "    <tr style=\"text-align: right;\">\n",
       "      <th></th>\n",
       "      <th>trip_id</th>\n",
       "    </tr>\n",
       "    <tr>\n",
       "      <th>month</th>\n",
       "      <th></th>\n",
       "    </tr>\n",
       "  </thead>\n",
       "  <tbody>\n",
       "    <tr>\n",
       "      <th>1</th>\n",
       "      <td>17773</td>\n",
       "    </tr>\n",
       "    <tr>\n",
       "      <th>2</th>\n",
       "      <td>19284</td>\n",
       "    </tr>\n",
       "    <tr>\n",
       "      <th>3</th>\n",
       "      <td>36102</td>\n",
       "    </tr>\n",
       "    <tr>\n",
       "      <th>4</th>\n",
       "      <td>42324</td>\n",
       "    </tr>\n",
       "    <tr>\n",
       "      <th>5</th>\n",
       "      <td>55922</td>\n",
       "    </tr>\n",
       "    <tr>\n",
       "      <th>6</th>\n",
       "      <td>72578</td>\n",
       "    </tr>\n",
       "    <tr>\n",
       "      <th>7</th>\n",
       "      <td>76215</td>\n",
       "    </tr>\n",
       "    <tr>\n",
       "      <th>8</th>\n",
       "      <td>77673</td>\n",
       "    </tr>\n",
       "    <tr>\n",
       "      <th>9</th>\n",
       "      <td>79578</td>\n",
       "    </tr>\n",
       "    <tr>\n",
       "      <th>10</th>\n",
       "      <td>72324</td>\n",
       "    </tr>\n",
       "    <tr>\n",
       "      <th>11</th>\n",
       "      <td>68349</td>\n",
       "    </tr>\n",
       "    <tr>\n",
       "      <th>12</th>\n",
       "      <td>33849</td>\n",
       "    </tr>\n",
       "  </tbody>\n",
       "</table>\n",
       "</div>"
      ],
      "text/plain": [
       "       trip_id\n",
       "month         \n",
       "1        17773\n",
       "2        19284\n",
       "3        36102\n",
       "4        42324\n",
       "5        55922\n",
       "6        72578\n",
       "7        76215\n",
       "8        77673\n",
       "9        79578\n",
       "10       72324\n",
       "11       68349\n",
       "12       33849"
      ]
     },
     "execution_count": 134,
     "metadata": {},
     "output_type": "execute_result"
    }
   ],
   "source": [
    "monthly_demand = df.groupby([\"month\"])[\"trip_id\"].nunique()\n",
    "\n",
    "monthly_demand = pd.DataFrame(monthly_demand)\n",
    "monthly_demand"
   ]
  },
  {
   "cell_type": "code",
   "execution_count": 135,
   "metadata": {
    "scrolled": true
   },
   "outputs": [
    {
     "data": {
      "image/png": "[encoded data removed]",
      "text/plain": [
       "<Figure size 720x288 with 1 Axes>"
      ]
     },
     "metadata": {
      "needs_background": "light"
     },
     "output_type": "display_data"
    }
   ],
   "source": [
    "fig, ax = pp.subplots(figsize=(10,4))\n",
    "\n",
    "sns.barplot(x=monthly_demand.index.get_level_values(0), y=monthly_demand[\"trip_id\"],ax=ax)\n",
    "pp.xlabel(\"Month\", fontsize=11)\n",
    "pp.ylabel(\"Demand\", fontsize=11)\n",
    "sns.set_color_codes(\"dark\")\n",
    "pp.title(\"The monthly use of bicycles \", fontsize=16, fontweight=\"bold\", color=\"m\")\n",
    "pp.show()"
   ]
  },
  {
   "cell_type": "markdown",
   "metadata": {},
   "source": [
    "## b) Geographical Demand Patterns"
   ]
  },
  {
   "cell_type": "code",
   "execution_count": 136,
   "metadata": {},
   "outputs": [
    {
     "data": {
      "text/html": [
       "<div>\n",
       "<style scoped>\n",
       "    .dataframe tbody tr th:only-of-type {\n",
       "        vertical-align: middle;\n",
       "    }\n",
       "\n",
       "    .dataframe tbody tr th {\n",
       "        vertical-align: top;\n",
       "    }\n",
       "\n",
       "    .dataframe thead th {\n",
       "        text-align: right;\n",
       "    }\n",
       "</style>\n",
       "<table border=\"1\" class=\"dataframe\">\n",
       "  <thead>\n",
       "    <tr style=\"text-align: right;\">\n",
       "      <th></th>\n",
       "      <th>start_lat</th>\n",
       "      <th>start_lon</th>\n",
       "    </tr>\n",
       "    <tr>\n",
       "      <th>start_station_id</th>\n",
       "      <th></th>\n",
       "      <th></th>\n",
       "    </tr>\n",
       "  </thead>\n",
       "  <tbody>\n",
       "    <tr>\n",
       "      <th>3000</th>\n",
       "      <td>0.000000</td>\n",
       "      <td>0.000000</td>\n",
       "    </tr>\n",
       "    <tr>\n",
       "      <th>3004</th>\n",
       "      <td>39.953781</td>\n",
       "      <td>-75.163741</td>\n",
       "    </tr>\n",
       "    <tr>\n",
       "      <th>3005</th>\n",
       "      <td>39.947330</td>\n",
       "      <td>-75.144029</td>\n",
       "    </tr>\n",
       "    <tr>\n",
       "      <th>3006</th>\n",
       "      <td>39.952201</td>\n",
       "      <td>-75.203110</td>\n",
       "    </tr>\n",
       "    <tr>\n",
       "      <th>3007</th>\n",
       "      <td>39.945171</td>\n",
       "      <td>-75.159928</td>\n",
       "    </tr>\n",
       "    <tr>\n",
       "      <th>...</th>\n",
       "      <td>...</td>\n",
       "      <td>...</td>\n",
       "    </tr>\n",
       "    <tr>\n",
       "      <th>3122</th>\n",
       "      <td>39.980621</td>\n",
       "      <td>-75.173500</td>\n",
       "    </tr>\n",
       "    <tr>\n",
       "      <th>3123</th>\n",
       "      <td>39.980042</td>\n",
       "      <td>-75.170882</td>\n",
       "    </tr>\n",
       "    <tr>\n",
       "      <th>3124</th>\n",
       "      <td>39.952950</td>\n",
       "      <td>-75.139792</td>\n",
       "    </tr>\n",
       "    <tr>\n",
       "      <th>3125</th>\n",
       "      <td>39.943909</td>\n",
       "      <td>-75.167351</td>\n",
       "    </tr>\n",
       "    <tr>\n",
       "      <th>3129</th>\n",
       "      <td>39.946812</td>\n",
       "      <td>-75.193108</td>\n",
       "    </tr>\n",
       "  </tbody>\n",
       "</table>\n",
       "<p>106 rows × 2 columns</p>\n",
       "</div>"
      ],
      "text/plain": [
       "                  start_lat  start_lon\n",
       "start_station_id                      \n",
       "3000               0.000000   0.000000\n",
       "3004              39.953781 -75.163741\n",
       "3005              39.947330 -75.144029\n",
       "3006              39.952201 -75.203110\n",
       "3007              39.945171 -75.159928\n",
       "...                     ...        ...\n",
       "3122              39.980621 -75.173500\n",
       "3123              39.980042 -75.170882\n",
       "3124              39.952950 -75.139792\n",
       "3125              39.943909 -75.167351\n",
       "3129              39.946812 -75.193108\n",
       "\n",
       "[106 rows x 2 columns]"
      ]
     },
     "execution_count": 136,
     "metadata": {},
     "output_type": "execute_result"
    }
   ],
   "source": [
    "#start_stations and their location\n",
    "start_stations = df.groupby([\"start_station_id\"])[\"start_lat\",\"start_lon\"].mean()\n",
    "start_stations = pd.DataFrame(start_stations)\n",
    "\n",
    "start_stations"
   ]
  },
  {
   "cell_type": "code",
   "execution_count": 137,
   "metadata": {},
   "outputs": [
    {
     "data": {
      "text/html": [
       "<div>\n",
       "<style scoped>\n",
       "    .dataframe tbody tr th:only-of-type {\n",
       "        vertical-align: middle;\n",
       "    }\n",
       "\n",
       "    .dataframe tbody tr th {\n",
       "        vertical-align: top;\n",
       "    }\n",
       "\n",
       "    .dataframe thead th {\n",
       "        text-align: right;\n",
       "    }\n",
       "</style>\n",
       "<table border=\"1\" class=\"dataframe\">\n",
       "  <thead>\n",
       "    <tr style=\"text-align: right;\">\n",
       "      <th></th>\n",
       "      <th>trip_id</th>\n",
       "    </tr>\n",
       "    <tr>\n",
       "      <th>start_station_id</th>\n",
       "      <th></th>\n",
       "    </tr>\n",
       "  </thead>\n",
       "  <tbody>\n",
       "    <tr>\n",
       "      <th>3000</th>\n",
       "      <td>2</td>\n",
       "    </tr>\n",
       "    <tr>\n",
       "      <th>3004</th>\n",
       "      <td>9679</td>\n",
       "    </tr>\n",
       "    <tr>\n",
       "      <th>3005</th>\n",
       "      <td>4275</td>\n",
       "    </tr>\n",
       "    <tr>\n",
       "      <th>3006</th>\n",
       "      <td>8314</td>\n",
       "    </tr>\n",
       "    <tr>\n",
       "      <th>3007</th>\n",
       "      <td>12387</td>\n",
       "    </tr>\n",
       "    <tr>\n",
       "      <th>...</th>\n",
       "      <td>...</td>\n",
       "    </tr>\n",
       "    <tr>\n",
       "      <th>3122</th>\n",
       "      <td>667</td>\n",
       "    </tr>\n",
       "    <tr>\n",
       "      <th>3123</th>\n",
       "      <td>1028</td>\n",
       "    </tr>\n",
       "    <tr>\n",
       "      <th>3124</th>\n",
       "      <td>3751</td>\n",
       "    </tr>\n",
       "    <tr>\n",
       "      <th>3125</th>\n",
       "      <td>7018</td>\n",
       "    </tr>\n",
       "    <tr>\n",
       "      <th>3129</th>\n",
       "      <td>3150</td>\n",
       "    </tr>\n",
       "  </tbody>\n",
       "</table>\n",
       "<p>106 rows × 1 columns</p>\n",
       "</div>"
      ],
      "text/plain": [
       "                  trip_id\n",
       "start_station_id         \n",
       "3000                    2\n",
       "3004                 9679\n",
       "3005                 4275\n",
       "3006                 8314\n",
       "3007                12387\n",
       "...                   ...\n",
       "3122                  667\n",
       "3123                 1028\n",
       "3124                 3751\n",
       "3125                 7018\n",
       "3129                 3150\n",
       "\n",
       "[106 rows x 1 columns]"
      ]
     },
     "execution_count": 137,
     "metadata": {},
     "output_type": "execute_result"
    }
   ],
   "source": [
    "#popularity of start_stations\n",
    "start_pop = df.groupby([\"start_station_id\"])[\"trip_id\"].nunique()\n",
    "start_pop = pd.DataFrame(start_pop)\n",
    "start_pop"
   ]
  },
  {
   "cell_type": "code",
   "execution_count": 138,
   "metadata": {},
   "outputs": [
    {
     "data": {
      "text/html": [
       "<div>\n",
       "<style scoped>\n",
       "    .dataframe tbody tr th:only-of-type {\n",
       "        vertical-align: middle;\n",
       "    }\n",
       "\n",
       "    .dataframe tbody tr th {\n",
       "        vertical-align: top;\n",
       "    }\n",
       "\n",
       "    .dataframe thead th {\n",
       "        text-align: right;\n",
       "    }\n",
       "</style>\n",
       "<table border=\"1\" class=\"dataframe\">\n",
       "  <thead>\n",
       "    <tr style=\"text-align: right;\">\n",
       "      <th></th>\n",
       "      <th>start_lat</th>\n",
       "      <th>start_lon</th>\n",
       "      <th>trip_id</th>\n",
       "    </tr>\n",
       "    <tr>\n",
       "      <th>start_station_id</th>\n",
       "      <th></th>\n",
       "      <th></th>\n",
       "      <th></th>\n",
       "    </tr>\n",
       "  </thead>\n",
       "  <tbody>\n",
       "    <tr>\n",
       "      <th>3000</th>\n",
       "      <td>0.000000</td>\n",
       "      <td>0.000000</td>\n",
       "      <td>2</td>\n",
       "    </tr>\n",
       "    <tr>\n",
       "      <th>3004</th>\n",
       "      <td>39.953781</td>\n",
       "      <td>-75.163741</td>\n",
       "      <td>9679</td>\n",
       "    </tr>\n",
       "    <tr>\n",
       "      <th>3005</th>\n",
       "      <td>39.947330</td>\n",
       "      <td>-75.144029</td>\n",
       "      <td>4275</td>\n",
       "    </tr>\n",
       "    <tr>\n",
       "      <th>3006</th>\n",
       "      <td>39.952201</td>\n",
       "      <td>-75.203110</td>\n",
       "      <td>8314</td>\n",
       "    </tr>\n",
       "    <tr>\n",
       "      <th>3007</th>\n",
       "      <td>39.945171</td>\n",
       "      <td>-75.159928</td>\n",
       "      <td>12387</td>\n",
       "    </tr>\n",
       "    <tr>\n",
       "      <th>...</th>\n",
       "      <td>...</td>\n",
       "      <td>...</td>\n",
       "      <td>...</td>\n",
       "    </tr>\n",
       "    <tr>\n",
       "      <th>3122</th>\n",
       "      <td>39.980621</td>\n",
       "      <td>-75.173500</td>\n",
       "      <td>667</td>\n",
       "    </tr>\n",
       "    <tr>\n",
       "      <th>3123</th>\n",
       "      <td>39.980042</td>\n",
       "      <td>-75.170882</td>\n",
       "      <td>1028</td>\n",
       "    </tr>\n",
       "    <tr>\n",
       "      <th>3124</th>\n",
       "      <td>39.952950</td>\n",
       "      <td>-75.139792</td>\n",
       "      <td>3751</td>\n",
       "    </tr>\n",
       "    <tr>\n",
       "      <th>3125</th>\n",
       "      <td>39.943909</td>\n",
       "      <td>-75.167351</td>\n",
       "      <td>7018</td>\n",
       "    </tr>\n",
       "    <tr>\n",
       "      <th>3129</th>\n",
       "      <td>39.946812</td>\n",
       "      <td>-75.193108</td>\n",
       "      <td>3150</td>\n",
       "    </tr>\n",
       "  </tbody>\n",
       "</table>\n",
       "<p>106 rows × 3 columns</p>\n",
       "</div>"
      ],
      "text/plain": [
       "                  start_lat  start_lon  trip_id\n",
       "start_station_id                               \n",
       "3000               0.000000   0.000000        2\n",
       "3004              39.953781 -75.163741     9679\n",
       "3005              39.947330 -75.144029     4275\n",
       "3006              39.952201 -75.203110     8314\n",
       "3007              39.945171 -75.159928    12387\n",
       "...                     ...        ...      ...\n",
       "3122              39.980621 -75.173500      667\n",
       "3123              39.980042 -75.170882     1028\n",
       "3124              39.952950 -75.139792     3751\n",
       "3125              39.943909 -75.167351     7018\n",
       "3129              39.946812 -75.193108     3150\n",
       "\n",
       "[106 rows x 3 columns]"
      ]
     },
     "execution_count": 138,
     "metadata": {},
     "output_type": "execute_result"
    }
   ],
   "source": [
    "start_stations_sample = start_stations.join(start_pop)\n",
    "start_stations_sample"
   ]
  },
  {
   "cell_type": "code",
   "execution_count": 139,
   "metadata": {},
   "outputs": [],
   "source": [
    "#the station with index 3000 is a \"virtual test station\" so we drop it from our df\n",
    "start_stations_sample.drop([3000], inplace=True)"
   ]
  },
  {
   "cell_type": "code",
   "execution_count": 140,
   "metadata": {},
   "outputs": [
    {
     "data": {
      "image/png": "[encoded data removed]",
      "text/plain": [
       "<Figure size 432x288 with 1 Axes>"
      ]
     },
     "metadata": {
      "needs_background": "light"
     },
     "output_type": "display_data"
    }
   ],
   "source": [
    "start_stations_sample.plot(kind=\"scatter\", x=\"start_lon\", y=\"start_lat\", alpha=0.4)\n",
    "pp.show()"
   ]
  },
  {
   "cell_type": "code",
   "execution_count": 141,
   "metadata": {},
   "outputs": [
    {
     "data": {
      "image/png": "[encoded data removed]",
      "text/plain": [
       "<Figure size 1080x720 with 2 Axes>"
      ]
     },
     "metadata": {
      "needs_background": "light"
     },
     "output_type": "display_data"
    }
   ],
   "source": [
    "start_stations_sample.plot(kind=\"scatter\", x=\"start_lon\", y=\"start_lat\",\n",
    "                          s=start_stations_sample[\"trip_id\"]/50, label=\"start_stations\", c=\"trip_id\",\n",
    "                          cmap=pp.get_cmap(\"jet\"), colorbar=True, alpha=0.4, figsize=(15,10))\n",
    "pp.legend()\n",
    "pp.show()"
   ]
  },
  {
   "cell_type": "code",
   "execution_count": 142,
   "metadata": {},
   "outputs": [
    {
     "ename": "FileNotFoundError",
     "evalue": "[Errno 2] No such file or directory: 'Datasets/Map_Philadelphia_20210720.png'",
     "output_type": "error",
     "traceback": [
      "\u001b[1;31m---------------------------------------------------------------------------\u001b[0m",
      "\u001b[1;31mFileNotFoundError\u001b[0m                         Traceback (most recent call last)",
      "\u001b[1;32m<ipython-input-142-993be2585c86>\u001b[0m in \u001b[0;36m<module>\u001b[1;34m\u001b[0m\n\u001b[1;32m----> 1\u001b[1;33m \u001b[0mphiladelphia_map\u001b[0m\u001b[1;33m=\u001b[0m\u001b[0mimg\u001b[0m\u001b[1;33m.\u001b[0m\u001b[0mimread\u001b[0m\u001b[1;33m(\u001b[0m\u001b[1;34m\"Datasets/Map_Philadelphia_20210720.png\"\u001b[0m\u001b[1;33m)\u001b[0m\u001b[1;33m\u001b[0m\u001b[1;33m\u001b[0m\u001b[0m\n\u001b[0m\u001b[0;32m      2\u001b[0m ax = start_stations_sample.plot(kind=\"scatter\", x=\"start_lon\", y=\"start_lat\",\n\u001b[0;32m      3\u001b[0m                           \u001b[0ms\u001b[0m\u001b[1;33m=\u001b[0m\u001b[0mstart_stations_sample\u001b[0m\u001b[1;33m[\u001b[0m\u001b[1;34m\"trip_id\"\u001b[0m\u001b[1;33m]\u001b[0m\u001b[1;33m/\u001b[0m\u001b[1;36m50\u001b[0m\u001b[1;33m,\u001b[0m \u001b[0mlabel\u001b[0m\u001b[1;33m=\u001b[0m\u001b[1;34m\"start_stations\"\u001b[0m\u001b[1;33m,\u001b[0m \u001b[0mc\u001b[0m\u001b[1;33m=\u001b[0m\u001b[1;34m\"trip_id\"\u001b[0m\u001b[1;33m,\u001b[0m\u001b[1;33m\u001b[0m\u001b[1;33m\u001b[0m\u001b[0m\n\u001b[0;32m      4\u001b[0m                           cmap=pp.get_cmap(\"jet\"), colorbar=True, alpha=0.4, figsize=(15,10))\n\u001b[0;32m      5\u001b[0m \u001b[0mpp\u001b[0m\u001b[1;33m.\u001b[0m\u001b[0mimshow\u001b[0m\u001b[1;33m(\u001b[0m\u001b[0mphiladelphia_map\u001b[0m\u001b[1;33m,\u001b[0m \u001b[0mextent\u001b[0m\u001b[1;33m=\u001b[0m\u001b[1;33m[\u001b[0m\u001b[1;33m-\u001b[0m\u001b[1;36m75.24\u001b[0m\u001b[1;33m,\u001b[0m\u001b[1;33m-\u001b[0m\u001b[1;36m75.115\u001b[0m\u001b[1;33m,\u001b[0m\u001b[1;36m39.91\u001b[0m\u001b[1;33m,\u001b[0m\u001b[1;36m40\u001b[0m\u001b[1;33m]\u001b[0m\u001b[1;33m,\u001b[0m \u001b[0malpha\u001b[0m\u001b[1;33m=\u001b[0m\u001b[1;36m0.5\u001b[0m\u001b[1;33m)\u001b[0m\u001b[1;33m\u001b[0m\u001b[1;33m\u001b[0m\u001b[0m\n",
      "\u001b[1;32m~\\anaconda3\\lib\\site-packages\\matplotlib\\image.py\u001b[0m in \u001b[0;36mimread\u001b[1;34m(fname, format)\u001b[0m\n\u001b[0;32m   1488\u001b[0m                     \u001b[0mresponse\u001b[0m \u001b[1;33m=\u001b[0m \u001b[0mio\u001b[0m\u001b[1;33m.\u001b[0m\u001b[0mBytesIO\u001b[0m\u001b[1;33m(\u001b[0m\u001b[0mresponse\u001b[0m\u001b[1;33m.\u001b[0m\u001b[0mread\u001b[0m\u001b[1;33m(\u001b[0m\u001b[1;33m)\u001b[0m\u001b[1;33m)\u001b[0m\u001b[1;33m\u001b[0m\u001b[1;33m\u001b[0m\u001b[0m\n\u001b[0;32m   1489\u001b[0m                 \u001b[1;32mreturn\u001b[0m \u001b[0mimread\u001b[0m\u001b[1;33m(\u001b[0m\u001b[0mresponse\u001b[0m\u001b[1;33m,\u001b[0m \u001b[0mformat\u001b[0m\u001b[1;33m=\u001b[0m\u001b[0mext\u001b[0m\u001b[1;33m)\u001b[0m\u001b[1;33m\u001b[0m\u001b[1;33m\u001b[0m\u001b[0m\n\u001b[1;32m-> 1490\u001b[1;33m     \u001b[1;32mwith\u001b[0m \u001b[0mimg_open\u001b[0m\u001b[1;33m(\u001b[0m\u001b[0mfname\u001b[0m\u001b[1;33m)\u001b[0m \u001b[1;32mas\u001b[0m \u001b[0mimage\u001b[0m\u001b[1;33m:\u001b[0m\u001b[1;33m\u001b[0m\u001b[1;33m\u001b[0m\u001b[0m\n\u001b[0m\u001b[0;32m   1491\u001b[0m         return (_pil_png_to_float_array(image)\n\u001b[0;32m   1492\u001b[0m                 \u001b[1;32mif\u001b[0m \u001b[0misinstance\u001b[0m\u001b[1;33m(\u001b[0m\u001b[0mimage\u001b[0m\u001b[1;33m,\u001b[0m \u001b[0mPIL\u001b[0m\u001b[1;33m.\u001b[0m\u001b[0mPngImagePlugin\u001b[0m\u001b[1;33m.\u001b[0m\u001b[0mPngImageFile\u001b[0m\u001b[1;33m)\u001b[0m \u001b[1;32melse\u001b[0m\u001b[1;33m\u001b[0m\u001b[1;33m\u001b[0m\u001b[0m\n",
      "\u001b[1;32m~\\anaconda3\\lib\\site-packages\\PIL\\ImageFile.py\u001b[0m in \u001b[0;36m__init__\u001b[1;34m(self, fp, filename)\u001b[0m\n\u001b[0;32m    107\u001b[0m         \u001b[1;32mif\u001b[0m \u001b[0misPath\u001b[0m\u001b[1;33m(\u001b[0m\u001b[0mfp\u001b[0m\u001b[1;33m)\u001b[0m\u001b[1;33m:\u001b[0m\u001b[1;33m\u001b[0m\u001b[1;33m\u001b[0m\u001b[0m\n\u001b[0;32m    108\u001b[0m             \u001b[1;31m# filename\u001b[0m\u001b[1;33m\u001b[0m\u001b[1;33m\u001b[0m\u001b[1;33m\u001b[0m\u001b[0m\n\u001b[1;32m--> 109\u001b[1;33m             \u001b[0mself\u001b[0m\u001b[1;33m.\u001b[0m\u001b[0mfp\u001b[0m \u001b[1;33m=\u001b[0m \u001b[0mopen\u001b[0m\u001b[1;33m(\u001b[0m\u001b[0mfp\u001b[0m\u001b[1;33m,\u001b[0m \u001b[1;34m\"rb\"\u001b[0m\u001b[1;33m)\u001b[0m\u001b[1;33m\u001b[0m\u001b[1;33m\u001b[0m\u001b[0m\n\u001b[0m\u001b[0;32m    110\u001b[0m             \u001b[0mself\u001b[0m\u001b[1;33m.\u001b[0m\u001b[0mfilename\u001b[0m \u001b[1;33m=\u001b[0m \u001b[0mfp\u001b[0m\u001b[1;33m\u001b[0m\u001b[1;33m\u001b[0m\u001b[0m\n\u001b[0;32m    111\u001b[0m             \u001b[0mself\u001b[0m\u001b[1;33m.\u001b[0m\u001b[0m_exclusive_fp\u001b[0m \u001b[1;33m=\u001b[0m \u001b[1;32mTrue\u001b[0m\u001b[1;33m\u001b[0m\u001b[1;33m\u001b[0m\u001b[0m\n",
      "\u001b[1;31mFileNotFoundError\u001b[0m: [Errno 2] No such file or directory: 'Datasets/Map_Philadelphia_20210720.png'"
     ]
    }
   ],
   "source": [
    "philadelphia_map=img.imread(\"Datasets/Map_Philadelphia_20210720.png\")\n",
    "ax = start_stations_sample.plot(kind=\"scatter\", x=\"start_lon\", y=\"start_lat\",\n",
    "                          s=start_stations_sample[\"trip_id\"]/50, label=\"start_stations\", c=\"trip_id\",\n",
    "                          cmap=pp.get_cmap(\"jet\"), colorbar=True, alpha=0.4, figsize=(15,10))\n",
    "pp.imshow(philadelphia_map, extent=[-75.24,-75.115,39.91,40], alpha=0.5)\n",
    "pp.ylabel(\"Latitude\", fontsize=14)\n",
    "pp.xlabel(\"Longitude\", fontsize=14)\n",
    "\n",
    "pp.legend(fontsize=12)\n",
    "pp.show()"
   ]
  },
  {
   "cell_type": "code",
   "execution_count": null,
   "metadata": {},
   "outputs": [],
   "source": [
    "#end_stations and their location\n",
    "end_stations = df.groupby([\"end_station_id\"])[\"end_lat\",\"end_lon\"].mean()\n",
    "end_stations = pd.DataFrame(end_stations)\n",
    "\n",
    "end_stations"
   ]
  },
  {
   "cell_type": "code",
   "execution_count": null,
   "metadata": {},
   "outputs": [],
   "source": [
    "#popularity of end_station\n",
    "end_pop = df.groupby([\"end_station_id\"])[\"trip_id\"].nunique()\n",
    "end_pop = pd.DataFrame(end_pop)\n",
    "end_pop"
   ]
  },
  {
   "cell_type": "code",
   "execution_count": null,
   "metadata": {},
   "outputs": [],
   "source": [
    "end_stations_sample = end_stations.join(end_pop)\n",
    "end_stations_sample"
   ]
  },
  {
   "cell_type": "code",
   "execution_count": null,
   "metadata": {},
   "outputs": [],
   "source": [
    "#the station with index 3000 is a \"virtual test station\" so we drop it from our df\n",
    "end_stations_sample.drop([3000], inplace=True)"
   ]
  },
  {
   "cell_type": "code",
   "execution_count": null,
   "metadata": {},
   "outputs": [],
   "source": [
    "end_stations_sample.plot(kind=\"scatter\", x=\"end_lon\", y=\"end_lat\", alpha=0.4)\n",
    "pp.show()"
   ]
  },
  {
   "cell_type": "code",
   "execution_count": null,
   "metadata": {},
   "outputs": [],
   "source": [
    "end_stations_sample.plot(kind=\"scatter\", x=\"end_lon\", y=\"end_lat\",\n",
    "                          s=end_stations_sample[\"trip_id\"]/50, label=\"end_stations\", c=\"trip_id\",\n",
    "                          cmap=pp.get_cmap(\"jet\"), colorbar=True, alpha=0.4, figsize=(15,10))\n",
    "pp.legend()\n",
    "pp.show()"
   ]
  },
  {
   "cell_type": "code",
   "execution_count": null,
   "metadata": {},
   "outputs": [],
   "source": [
    "philadelphia_map=img.imread(\"Datasets/Map_Philadelphia_20210720.png\")\n",
    "ax = end_stations_sample.plot(kind=\"scatter\", x=\"end_lon\", y=\"end_lat\",\n",
    "                          s=end_stations_sample[\"trip_id\"]/50, label=\"end_stations\", c=\"trip_id\",\n",
    "                          cmap=pp.get_cmap(\"jet\"), colorbar=True, alpha=0.4, figsize=(15,10))\n",
    "pp.imshow(philadelphia_map, extent=[-75.24,-75.115,39.91,40], alpha=0.5)\n",
    "pp.ylabel(\"Latitude\", fontsize=14)\n",
    "pp.xlabel(\"Longitude\", fontsize=14)\n",
    "\n",
    "pp.legend(fontsize=12)\n",
    "pp.show()"
   ]
  },
  {
   "cell_type": "markdown",
   "metadata": {},
   "source": [
    "### c) KPIs"
   ]
  },
  {
   "cell_type": "markdown",
   "metadata": {},
   "source": [
    "#### Flexible revenue per hour"
   ]
  },
  {
   "cell_type": "markdown",
   "metadata": {},
   "source": [
    "Our first KPI is the current gross revenue which is calculated by the duration of the trip times $0,15 which is listed as the price/minute on Indego's website. We have to make some adjustments based depending on the type of pass the user has. For that we create a new dataframe only containing relevant data for us which includes the duration of the trip, the ID, the passtype, as well as some time info."
   ]
  },
  {
   "cell_type": "code",
   "execution_count": null,
   "metadata": {},
   "outputs": [],
   "source": [
    "price_per_minute = 0.15"
   ]
  },
  {
   "cell_type": "code",
   "execution_count": null,
   "metadata": {},
   "outputs": [],
   "source": [
    "rev = df[['trip_id', 'duration', 'start_time', 'end_time', 'passholder_type', 'hour','date_hour']].copy()"
   ]
  },
  {
   "cell_type": "code",
   "execution_count": null,
   "metadata": {},
   "outputs": [],
   "source": [
    "rev.head()"
   ]
  },
  {
   "cell_type": "markdown",
   "metadata": {},
   "source": []
  },
  {
   "cell_type": "code",
   "execution_count": null,
   "metadata": {},
   "outputs": [],
   "source": [
    "a = rev['passholder_type'].unique()\n",
    "a"
   ]
  },
  {
   "cell_type": "code",
   "execution_count": null,
   "metadata": {},
   "outputs": [],
   "source": [
    "rev['relevant_duration'] = rev.duration + rev.passholder_type.map( lambda x: -30 if x == 'Walk-up' else -60)"
   ]
  },
  {
   "cell_type": "code",
   "execution_count": null,
   "metadata": {},
   "outputs": [],
   "source": [
    "rev.head()"
   ]
  },
  {
   "cell_type": "code",
   "execution_count": null,
   "metadata": {},
   "outputs": [],
   "source": [
    "rev.loc[rev.relevant_duration <= 0, \"relevant_duration\"] = 0"
   ]
  },
  {
   "cell_type": "code",
   "execution_count": null,
   "metadata": {},
   "outputs": [],
   "source": [
    "rev[\"rev_flex\"] = rev[\"relevant_duration\"] * price_per_minute"
   ]
  },
  {
   "cell_type": "code",
   "execution_count": null,
   "metadata": {},
   "outputs": [],
   "source": [
    "rev.head()"
   ]
  },
  {
   "cell_type": "markdown",
   "metadata": {},
   "source": [
    "\"Flexible\" revenue in total:"
   ]
  },
  {
   "cell_type": "code",
   "execution_count": null,
   "metadata": {},
   "outputs": [],
   "source": [
    "sum(rev[\"rev_flex\"])"
   ]
  },
  {
   "cell_type": "code",
   "execution_count": null,
   "metadata": {},
   "outputs": [],
   "source": [
    "hourly_rev = rev.groupby([\"date_hour\"]).agg(revenue=(\"rev_flex\", 'sum'))\n",
    "hourly_rev = pd.DataFrame(hourly_rev)\n",
    "hourly_rev"
   ]
  },
  {
   "cell_type": "code",
   "execution_count": null,
   "metadata": {},
   "outputs": [],
   "source": [
    "fig, ax = pp.subplots(figsize=(10,4))\n",
    "\n",
    "kpi1 = sns.lineplot(data=hourly_rev, palette=\"tab10\", linewidth=2.5)\n",
    "kpi1.set(xticklabels=[])  # remove the tick labels\n",
    "kpi1.set(xlabel=None)\n",
    "kpi1.tick_params(bottom=False)\n",
    "\n",
    "pp.show()"
   ]
  },
  {
   "cell_type": "markdown",
   "metadata": {},
   "source": [
    "KPI: **walkups vs. passcard holder**"
   ]
  },
  {
   "cell_type": "markdown",
   "metadata": {},
   "source": [
    "We are now computing the hourly values of regular costumers vs. walkups without a member ticket. This is in indication of the type of person that uses the bikes and supports marketing activities to adress a certain group."
   ]
  },
  {
   "cell_type": "code",
   "execution_count": null,
   "metadata": {},
   "outputs": [],
   "source": [
    "type_shares = df[['passholder_type', 'date_hour']].copy()"
   ]
  },
  {
   "cell_type": "code",
   "execution_count": null,
   "metadata": {},
   "outputs": [],
   "source": [
    "type_shares['type'] = type_shares.passholder_type.map( lambda x: 0 if x == 'Walk-up' else 1)"
   ]
  },
  {
   "cell_type": "code",
   "execution_count": null,
   "metadata": {},
   "outputs": [],
   "source": [
    "type_shares.head()"
   ]
  },
  {
   "cell_type": "code",
   "execution_count": null,
   "metadata": {},
   "outputs": [],
   "source": [
    "hourly_share = type_shares.groupby([\"date_hour\", \"type\"]).count()\n",
    "hourly_share = pd.DataFrame(hourly_share)\n"
   ]
  },
  {
   "cell_type": "code",
   "execution_count": null,
   "metadata": {},
   "outputs": [],
   "source": [
    "hourly_share_per = hourly_share.groupby(level=0).apply(lambda x:\n",
    "                                                 100 * x / float(x.sum()))"
   ]
  },
  {
   "cell_type": "code",
   "execution_count": null,
   "metadata": {},
   "outputs": [],
   "source": [
    "hourly_share_per_filt = hourly_share_per[hourly_share_per.index.get_level_values(1) == 1]\n",
    "hourly_share_per_filt"
   ]
  },
  {
   "cell_type": "code",
   "execution_count": null,
   "metadata": {},
   "outputs": [],
   "source": [
    "fig, ax = pp.subplots(figsize=(10,4))\n",
    "\n",
    "kpi2 = sns.barplot(x=hourly_share_per_filt.index.get_level_values(0),y=hourly_share_per_filt[\"passholder_type\"],palette = 'Blues_d')\n",
    "\n",
    "pp.ylabel(\"Percantage of holders\", fontsize=11)\n",
    "pp.xlabel(\"Time\", fontsize=11)\n",
    "pp.title(\"Walkups vs. passholders\", fontsize=14, fontweight=\"bold\", color=\"k\")\n",
    "\n",
    "    \n",
    "kpi2.set(xticklabels=[])  \n",
    "kpi2.set(xlabel=None)\n",
    "kpi2.tick_params(bottom=False)\n",
    "\n",
    "pp.show()\n"
   ]
  },
  {
   "cell_type": "markdown",
   "metadata": {},
   "source": [
    "#  Task 3: Predictive Analytics"
   ]
  },
  {
   "cell_type": "markdown",
   "metadata": {},
   "source": [
    "Needed for the regression:"
   ]
  },
  {
   "cell_type": "code",
   "execution_count": null,
   "metadata": {},
   "outputs": [],
   "source": [
    "from sklearn.neighbors import KNeighborsRegressor\n",
    "from sklearn.tree import DecisionTreeRegressor\n",
    "from sklearn.linear_model import Lasso"
   ]
  },
  {
   "cell_type": "markdown",
   "metadata": {},
   "source": [
    "## Philadelphia weather in 2016"
   ]
  },
  {
   "cell_type": "markdown",
   "metadata": {},
   "source": [
    "**Calculate the weather over the year:**"
   ]
  },
  {
   "cell_type": "code",
   "execution_count": null,
   "metadata": {},
   "outputs": [],
   "source": [
    "weather_month = df_weather.groupby([\"month\"]).agg(Temperature =(\"max_temp\", 'mean'))\n",
    "weather_month = pd.DataFrame(weather_month)\n",
    "weather_month\n"
   ]
  },
  {
   "cell_type": "code",
   "execution_count": null,
   "metadata": {},
   "outputs": [],
   "source": [
    "fig, ax = pp.subplots(figsize=(12,6))\n",
    "\n",
    "sns.lineplot(x=weather_month.index.get_level_values(0), y=weather_month[\"Temperature\"],ax=ax)\n",
    "dim=np.arange(1,13,1)\n",
    "pp.xticks(dim)\n",
    "pp.xlabel(\"Months\", fontsize=11)\n",
    "pp.ylabel(\"Temperature\", fontsize=11)\n",
    "pp.title(\"2016: Weather in Philadelphia\", fontsize=14, fontweight=\"bold\", color=\"b\")\n",
    "pp.show()"
   ]
  },
  {
   "cell_type": "markdown",
   "metadata": {},
   "source": [
    "### Demand and temperatures in comparison "
   ]
  },
  {
   "cell_type": "code",
   "execution_count": null,
   "metadata": {},
   "outputs": [],
   "source": [
    "fig, ax = pp.subplots(figsize=(12,6))\n",
    "\n",
    "sns.barplot(x=monthly_demand.index.get_level_values(0), y=monthly_demand[\"trip_id\"],ax=ax)\n",
    "sns.set_color_codes(\"pastel\")\n",
    "ax2=ax.twinx()\n",
    "sns.lineplot(x=weather_month.index.get_level_values(0), y=weather_month[\"Temperature\"],ax=ax2, color=\"r\", linewidth=2.5)\n",
    "dim=np.arange(0,13,1)\n",
    "pp.xticks(dim)\n",
    "\n",
    "pp.show()"
   ]
  },
  {
   "cell_type": "markdown",
   "metadata": {},
   "source": [
    "Future demand is a key factor that will steer operational decision making of a shared rental network. As a data scientist it is your responsibility to facilitate this type of decision support. For the purpose of this assignment we will be interested in forecasting total system-level demand in the next hour. To do so, develop a prediction model that predicts bike rental demand as a function of suitable features available in or derived from the datasets (incl. the weather data)."
   ]
  },
  {
   "cell_type": "markdown",
   "metadata": {},
   "source": [
    "First of all, we are going to create a table that contains the demand of the hour along with some **features as temperature, the hour of course, the day of the week and the time of the year.**"
   ]
  },
  {
   "cell_type": "code",
   "execution_count": null,
   "metadata": {},
   "outputs": [],
   "source": [
    "new_df_merged = pd.merge(weather, hourly_demand, on=[\"date\", \"hour\"], how = \"left\")\n",
    "new_df_merged[\"demand\"] = new_df_merged[\"trip_id\"]\n",
    "new_df_merged[\"weekday\"] = new_df_merged[\"date_time\"].apply(lambda dt: dt.dayofweek)\n",
    "new_df_merged[\"month\"] = new_df_merged[\"date_time\"].apply(lambda dt: dt.month)\n",
    "new_df_merged"
   ]
  },
  {
   "cell_type": "code",
   "execution_count": null,
   "metadata": {},
   "outputs": [],
   "source": [
    "#Drop columns that are not relevant for the regression\n",
    "new_df_merged.drop(columns = ['trip_id', 'year'])"
   ]
  },
  {
   "cell_type": "markdown",
   "metadata": {},
   "source": [
    "Here we check whether holidays like the 4th of July are having an impact on demand. If they do, they could be a feature."
   ]
  },
  {
   "cell_type": "code",
   "execution_count": null,
   "metadata": {},
   "outputs": [],
   "source": [
    "july = new_df_merged[new_df_merged['month'] == 7]\n"
   ]
  },
  {
   "cell_type": "code",
   "execution_count": null,
   "metadata": {},
   "outputs": [],
   "source": [
    "july_grouped = july.groupby([\"date\"])[\"demand\"].sum()\n",
    "july_grouped = pd.DataFrame(july_grouped)\n",
    "\n"
   ]
  },
  {
   "cell_type": "code",
   "execution_count": null,
   "metadata": {},
   "outputs": [],
   "source": [
    "fig, ax = pp.subplots(figsize=(20,4))\n",
    "\n",
    "sns.lineplot(x=july_grouped.index.get_level_values(0), y=july_grouped[\"demand\"],ax=ax)\n",
    "pp.xlabel('Day', fontdict={'size':11})\n",
    "pp.ylabel(\"Demand\", fontdict={\"size\":11})\n",
    "pp.title(\"Overview of hourly demand\", fontsize=14.0, fontweight='bold')\n",
    "\n",
    "pp.show()"
   ]
  },
  {
   "cell_type": "markdown",
   "metadata": {},
   "source": [
    "### Finally, the regression models are following:"
   ]
  },
  {
   "cell_type": "markdown",
   "metadata": {},
   "source": [
    "Each model will be evaluated after implementation."
   ]
  },
  {
   "cell_type": "markdown",
   "metadata": {},
   "source": [
    "We create another data frame to use for **Regression:**"
   ]
  },
  {
   "cell_type": "code",
   "execution_count": null,
   "metadata": {},
   "outputs": [],
   "source": [
    "df_1 = new_df_merged\n",
    "\n",
    "df_1[\"IsWeekday\"] = df_1[\"weekday\"].apply(lambda x: 1 if x<=4 else 0)"
   ]
  },
  {
   "cell_type": "code",
   "execution_count": null,
   "metadata": {},
   "outputs": [],
   "source": [
    "df_1[\"summer\"] = df_1[\"month\"].apply(lambda x: 1 if (x> 5 & x<12) else 0)"
   ]
  },
  {
   "cell_type": "code",
   "execution_count": null,
   "metadata": {},
   "outputs": [],
   "source": [
    "X = df_1[[\"max_temp\", \"IsWeekday\", \"hour\", \"precip\", \"summer\"]]\n",
    "y = df_1[[\"demand\"]]\n",
    "y['demand'] = df_1['demand'].fillna(0)"
   ]
  },
  {
   "cell_type": "code",
   "execution_count": null,
   "metadata": {},
   "outputs": [],
   "source": [
    "#Splitting the data to avoid overfitting and enable testing\n",
    "features=list(zip(X[\"max_temp\"],X[\"precip\"], X[\"IsWeekday\"], X[\"summer\"], X[\"hour\"]))\n",
    "# Do a 70-30 split first\n",
    "X_train, X_test, y_train, y_test = train_test_split(features, y, test_size=0.3,random_state=34 )\n",
    "\n",
    "# now split X_train to achive 50-20-30 split\n",
    "X_train, X_hold, y_train, y_hold = train_test_split(X_train, y_train, test_size=(0.2/0.7),random_state=34 )\n"
   ]
  },
  {
   "cell_type": "markdown",
   "metadata": {},
   "source": [
    "Model Nr 1: **Decision Tree**"
   ]
  },
  {
   "cell_type": "markdown",
   "metadata": {},
   "source": [
    "We find the optimal tree depth using a graph:"
   ]
  },
  {
   "cell_type": "code",
   "execution_count": null,
   "metadata": {},
   "outputs": [],
   "source": [
    "def find_tree_depth (x,y):\n",
    "    \n",
    "    \n",
    "    err_train = [] \n",
    "    err_test = []\n",
    "    \n",
    "    \n",
    "    x_train, x_test, y_train, y_test = train_test_split(x, y, test_size=0.3,random_state=10)\n",
    "    \n",
    "   \n",
    "    \n",
    "    for n in np.arange(1,21): \n",
    "        \n",
    "       \n",
    "        \n",
    "        tree_reg = DecisionTreeRegressor(max_depth=n)\n",
    "        tree_model = tree_reg.fit(x_train,y_train)\n",
    "        \n",
    "        \n",
    "        \n",
    "        err_train.append(mean_absolute_error(y_train, tree_model.predict(x_train)))\n",
    "        err_test.append(mean_absolute_error(y_test, tree_model.predict(x_test)))\n",
    "\n",
    "\n",
    "    pp.figure(figsize = (8,6))\n",
    "    pp.plot(np.arange(1,21), err_train,np.arange(1,21), err_test)\n",
    "    pp.legend([\"Training\", \"Validation\"])\n",
    "    pp.xlabel(\"Max Tree Depth\")\n",
    "    pp.ylabel(\"MAE\")\n",
    "    pp.title(\"Search over max_depth parameter\",fontsize=14)\n",
    "\n",
    "    pp.show()\n"
   ]
  },
  {
   "cell_type": "code",
   "execution_count": null,
   "metadata": {},
   "outputs": [],
   "source": [
    "find_tree_depth (features,y)"
   ]
  },
  {
   "cell_type": "code",
   "execution_count": null,
   "metadata": {},
   "outputs": [],
   "source": [
    "# We implement the optimal depth, which is roughly at 9 as we can see above.\n",
    "Tree_reg = DecisionTreeRegressor(max_depth=9)\n",
    "tree_model = Tree_reg.fit(X_train, y_train) \n",
    "\n",
    "\n",
    "y_hat_tree = tree_model.predict(X_test)"
   ]
  },
  {
   "cell_type": "code",
   "execution_count": null,
   "metadata": {},
   "outputs": [],
   "source": [
    "print(\"Test set performance:\")\n",
    "\n",
    "print(\"MAE:\",mean_absolute_error(y_hat_tree, y_test), \"demand\")\n",
    "print(\"RMSE:\",(mean_squared_error(y_hat_tree, y_test))**(0.5), \"demand\")  \n",
    "print(\"R2:\",r2_score(y_test, y_hat_tree))"
   ]
  },
  {
   "cell_type": "markdown",
   "metadata": {},
   "source": [
    "Model Nr 2: **KNN**"
   ]
  },
  {
   "cell_type": "code",
   "execution_count": null,
   "metadata": {},
   "outputs": [],
   "source": [
    "def find_knn (x,y,max_k):\n",
    "    \n",
    "    err_train = [] \n",
    "    err_test = []\n",
    "    \n",
    "\n",
    "    for n in np.arange(1,max_k):\n",
    "\n",
    "        # fit model\n",
    "        KNN_reg = KNeighborsRegressor(n_neighbors=n)\n",
    "        KNN_model = KNN_reg.fit(X_train, y_train)\n",
    "\n",
    "\n",
    "        # compute errors\n",
    "        err_train.append(mean_absolute_error(KNN_model.predict(X_train), y_train))\n",
    "        err_test.append(mean_absolute_error(KNN_model.predict(X_test), y_test))\n",
    "        \n",
    "    pp.figure(figsize = (8,6))\n",
    "    pp.plot(np.arange(1,max_k), err_train,np.arange(1,max_k), err_test)\n",
    "    pp.legend([\"Training\", \"Validation\"])\n",
    "    pp.xlabel(\"Number of neighbors\")\n",
    "    pp.ylabel(\"MAE\")\n",
    "    #plt.ylim((0,1))\n",
    "    pp.show()\n"
   ]
  },
  {
   "cell_type": "code",
   "execution_count": null,
   "metadata": {},
   "outputs": [],
   "source": [
    "find_knn (features,y,max_k=50)"
   ]
  },
  {
   "cell_type": "code",
   "execution_count": null,
   "metadata": {},
   "outputs": [],
   "source": [
    "KNN_reg = KNeighborsRegressor(n_neighbors=13)\n",
    "KNN_model = KNN_reg.fit(X_train, y_train) \n",
    "\n",
    "# Predict\n",
    "y_hat_KNN = KNN_model.predict(X_test)"
   ]
  },
  {
   "cell_type": "code",
   "execution_count": null,
   "metadata": {},
   "outputs": [],
   "source": [
    "print(\"Test set performance:\")\n",
    "\n",
    "print(\"MAE:\",mean_absolute_error(y_hat_KNN, y_test), \"demand\")\n",
    "print(\"RMSE:\",(mean_squared_error(y_hat_KNN, y_test))**(0.5), \"demand\")  \n",
    "print(\"R2:\",r2_score(y_test, y_hat_KNN))"
   ]
  },
  {
   "cell_type": "markdown",
   "metadata": {},
   "source": [
    "### Model Nr 3: **Ridge regression (L2 Regularization)**"
   ]
  },
  {
   "cell_type": "code",
   "execution_count": null,
   "metadata": {},
   "outputs": [],
   "source": [
    "lm = LinearRegression(fit_intercept=True, normalize=False)"
   ]
  },
  {
   "cell_type": "code",
   "execution_count": null,
   "metadata": {},
   "outputs": [],
   "source": [
    "xp = new_df_merged[\"max_temp\"].values\n",
    "yp = new_df_merged[\"demand\"].values"
   ]
  },
  {
   "cell_type": "code",
   "execution_count": null,
   "metadata": {},
   "outputs": [],
   "source": [
    "def plot_regression_poly_scikit(X,Y,d):\n",
    "    \n",
    "    \n",
    "    err_train = [] \n",
    "    err_test = []\n",
    "    \n",
    "    \n",
    "    x_train, x_test, y_train, y_test = train_test_split(x, y, test_size=0.3,random_state=10)\n",
    "    \n",
    "   \n",
    "    \n",
    "    pp.figure(figsize = (12,8))\n",
    "    pp.scatter(X,Y,marker=\"x\", c='C2')\n",
    "    ylim = pp.ylim()\n",
    "    pp.plot(x_fit,y_pred, c='C1')\n",
    "    pp.xlabel(\"Temperature (°C)\", fontsize=\"16\")\n",
    "    pp.ylabel(\"Demand (GW)\", fontsize=\"16\")\n",
    "    pp.xlim([X.min()-2,X.max()+2]) # leave some space before and after limits\n",
    "    pp.ylim(ylim)\n",
    "    print ('The R^2 for quadratic curve is: ',r2_score(Y, model_pred))\n",
    "    #print(lin_reg_Poly.coef_)\n"
   ]
  },
  {
   "cell_type": "code",
   "execution_count": null,
   "metadata": {},
   "outputs": [],
   "source": [
    "from sklearn.preprocessing import PolynomialFeatures\n",
    "\n",
    "# initialize model\n",
    "ridge_poly = PolynomialFeatures(degree = 50)\n",
    "\n",
    "# fit and transform xp\n",
    "x_poly = ridge_poly.fit_transform(xp.reshape(-1,1))"
   ]
  },
  {
   "cell_type": "code",
   "execution_count": null,
   "metadata": {},
   "outputs": [],
   "source": [
    "from sklearn.linear_model import Ridge\n",
    "\n",
    "model_L2 = Ridge(alpha = 0.01, normalize = True, solver = 'lsqr') \n",
    "\n",
    "model_L2.fit(x_poly, y)\n",
    "y_hat_modelL2 = model_L2.predict(x_poly)\n",
    "\n",
    "print(\"Coefficients \", model_L2.coef_, \"\\nIntercept \", model_L2.intercept_ )"
   ]
  },
  {
   "cell_type": "code",
   "execution_count": null,
   "metadata": {},
   "outputs": [],
   "source": [
    "def plot_scikit_output (x, y, fitted_model):\n",
    "    \n",
    "    min_x, max_x = x.min(), x.max()\n",
    "    xt0 = np.linspace(min_x-1, max_x+1, 400)\n",
    "    \n",
    "    xt0_poly = ridge_poly.fit_transform(xt0.reshape(-1,1))\n",
    "    \n",
    "    # plotting routine\n",
    "    pp.figure(figsize = (14,8))\n",
    "    pp.scatter(x, y, marker=\"x\")\n",
    "    ylim = pp.ylim()\n",
    "    pp.plot(xt0, fitted_model.predict(xt0_poly), 'C3')\n",
    "    sns.set_color_codes(\"dark\")\n",
    "    pp.xlabel(\"Temperature (°C)\", fontsize=\"16\", color=\"g\")\n",
    "    pp.ylabel(\"Demand (bikes per hour)\", fontsize=\"16\", color=\"g\")\n",
    "    pp.xlim([min_x-2, max_x+2])\n",
    "    pp.ylim(ylim)\n",
    "    \n",
    "    \n",
    "plot_scikit_output (xp, yp, model_L2)"
   ]
  },
  {
   "cell_type": "markdown",
   "metadata": {},
   "source": [
    "# 4.Extras "
   ]
  },
  {
   "cell_type": "code",
   "execution_count": null,
   "metadata": {},
   "outputs": [],
   "source": [
    "#calculate trips per bike\n",
    "use_bikes = df.groupby([\"bike_id\"], as_index=False)[\"trip_id\"].count()"
   ]
  },
  {
   "cell_type": "code",
   "execution_count": null,
   "metadata": {},
   "outputs": [],
   "source": [
    "use_bikes[\"trips\"] = use_bikes[\"trip_id\"]\n",
    "use_bikes.drop(\"trip_id\",axis= 1,inplace=True)"
   ]
  },
  {
   "cell_type": "code",
   "execution_count": null,
   "metadata": {},
   "outputs": [],
   "source": [
    "use_bikes.head()"
   ]
  },
  {
   "cell_type": "code",
   "execution_count": null,
   "metadata": {},
   "outputs": [],
   "source": [
    "#average trips per bike\n",
    "y = statistics.mean(use_bikes[\"trips\"])\n",
    "y"
   ]
  },
  {
   "cell_type": "code",
   "execution_count": null,
   "metadata": {},
   "outputs": [],
   "source": [
    "#maximum trips per bike\n",
    "max__= use_bikes[\"trips\"].max()\n",
    "max__"
   ]
  },
  {
   "cell_type": "code",
   "execution_count": null,
   "metadata": {},
   "outputs": [],
   "source": [
    "#minimun trips per bike\n",
    "min__ = use_bikes[\"trips\"].min()\n",
    "min__"
   ]
  },
  {
   "cell_type": "code",
   "execution_count": null,
   "metadata": {},
   "outputs": [],
   "source": [
    "#average trips per bike daily\n",
    "use_bikes[\"trip/day\"] = use_bikes[\"trips\"].div(356)\n",
    "#average trips per bike hourly\n",
    "use_bikes[\"trip/hour\"] = use_bikes[\"trips\"].div(8760)\n",
    "use_bikes.head()"
   ]
  },
  {
   "cell_type": "code",
   "execution_count": null,
   "metadata": {},
   "outputs": [],
   "source": [
    "#average trips per bike(hourly)\n",
    "mean = statistics.mean(use_bikes[\"trip/hour\"])\n",
    "mean\n",
    "#minimun trips per bike(hourly)\n",
    "min_ = use_bikes[\"trip/hour\"].min()\n",
    "min_\n",
    "#maximum trips per bike(hourly)\n",
    "max_ = use_bikes[\"trip/hour\"].max()\n",
    "max_"
   ]
  },
  {
   "cell_type": "code",
   "execution_count": null,
   "metadata": {},
   "outputs": [],
   "source": [
    "#ajusting start_time to datetime type\n",
    "df[\"start_time\"] = pd.to_datetime(df[\"start_time\"])\n",
    "df['date_hour'] = df['start_time'].dt.strftime('%m-%d-%H')\n",
    "df[\"hour\"] = df[\"start_time\"].apply(lambda dt: dt.hour)"
   ]
  },
  {
   "cell_type": "code",
   "execution_count": null,
   "metadata": {},
   "outputs": [],
   "source": [
    "#merging the datasets\n",
    "bikes_info = pd.merge(df,use_bikes, on=\"bike_id\")\n",
    "#droping the irrelevant columns\n",
    "bikes_info.drop([\"plan_duration\",\"trip_route_category\",\"passholder_type\",\"start_lon\",\"start_lat\",\"end_lat\",\"end_lon\"],axis=1, inplace =True)"
   ]
  },
  {
   "cell_type": "code",
   "execution_count": null,
   "metadata": {},
   "outputs": [],
   "source": [
    "bike_info = bikes_info[bikes_info[\"bike_id\"] == 5348]\n",
    "bike_info = bike_info.groupby([\"hour\"])[\"trip_id\"].nunique()\n",
    "bike_info = pd.DataFrame(bike_info)\n",
    "bike_info.head()"
   ]
  },
  {
   "cell_type": "code",
   "execution_count": null,
   "metadata": {},
   "outputs": [],
   "source": [
    "fig, ax = pp.subplots(figsize=(10,4))\n",
    "\n",
    "sns.barplot(x=bike_info.index.get_level_values(0), y=bike_info[\"trip_id\"],ax=ax)\n",
    "pp.xlabel(\"Trips\", fontdict={'size':11})\n",
    "pp.ylabel(\"Hour\", fontdict={\"size\":11})\n",
    "pp.title(\"Overview of hourly demand of the bike 5348\", fontsize=14.0, fontweight='bold')\n",
    "\n",
    "pp.show()"
   ]
  },
  {
   "cell_type": "code",
   "execution_count": null,
   "metadata": {},
   "outputs": [],
   "source": [
    "bike_info1 = bikes_info[bikes_info[\"bike_id\"] == 3724]\n",
    "bike_info1 = bike_info1.groupby([\"hour\"])[\"trip_id\"].nunique()\n",
    "bike_info1 = pd.DataFrame(bike_info1)\n",
    "bike_info1.head()"
   ]
  },
  {
   "cell_type": "code",
   "execution_count": null,
   "metadata": {},
   "outputs": [],
   "source": [
    "fig, ax = pp.subplots(figsize=(10,4))\n",
    "\n",
    "sns.barplot(x=bike_info1.index.get_level_values(0), y=bike_info1[\"trip_id\"],ax=ax)\n",
    "pp.xlabel(\"Trips\", fontdict={'size':11})\n",
    "pp.ylabel(\"Hour\", fontdict={\"size\":11})\n",
    "pp.title(\"Overview of hourly demand of the bike 3724\", fontsize=14.0, fontweight='bold')\n",
    "\n",
    "pp.show()"
   ]
  },
  {
   "cell_type": "markdown",
   "metadata": {},
   "source": [
    "## Status_Information"
   ]
  },
  {
   "cell_type": "code",
   "execution_count": null,
   "metadata": {},
   "outputs": [],
   "source": [
    "sta = pd.read_csv(r\"C:\\Users\\ntpec\\Downloads\\indego-stations-2021-01-01.csv\")"
   ]
  },
  {
   "cell_type": "code",
   "execution_count": null,
   "metadata": {},
   "outputs": [],
   "source": [
    "#convert to datetime so that we can manipulate the dates\n",
    "sta[\"Go_live_date\"] = pd.to_datetime(sta[\"Go_live_date\"])\n",
    "sta.head()\n",
    "#we are looking for nan values \n",
    "#sta.isna().sum()"
   ]
  },
  {
   "cell_type": "code",
   "execution_count": null,
   "metadata": {},
   "outputs": [],
   "source": [
    "#picking out the information for 2016\n",
    "Station_2016 = sta[sta[\"Go_live_date\"].isin(pd.date_range(\"2016-01-01\", \"2016-12-31\"))]\n",
    "#sorting the data ascending\n",
    "Station_2016.sort_values(by='Go_live_date')"
   ]
  },
  {
   "cell_type": "code",
   "execution_count": null,
   "metadata": {},
   "outputs": [],
   "source": [
    "f, ax = pp.subplots(1, sharey=True, figsize=(10, 4))\n",
    "#countplots\n",
    "sns.countplot(x=\"Status\",data= Station_2016,palette=\"OrRd\")\n",
    "\n",
    "pp.show()"
   ]
  },
  {
   "cell_type": "code",
   "execution_count": null,
   "metadata": {},
   "outputs": [],
   "source": [
    "Station_2016[\"month\"] = Station_2016[\"Go_live_date\"].apply(lambda dt: dt.month)\n",
    "Station_2016[\"weekday\"] = Station_2016[\"Go_live_date\"].apply(lambda dt: dt.dayofweek)\n",
    "Station_2016.head()"
   ]
  },
  {
   "cell_type": "code",
   "execution_count": null,
   "metadata": {},
   "outputs": [],
   "source": [
    "sns.boxplot(x=\"month\",y=\"Station_ID\", data= Station_2016 ,palette=\"rainbow\", hue=\"Status\")\n",
    "pp.show()\n",
    "sns.boxplot(x=\"weekday\",y=\"Station_ID\", data= Station_2016 ,palette=\"rainbow\", hue=\"Status\")\n",
    "pp.show()"
   ]
  },
  {
   "cell_type": "code",
   "execution_count": null,
   "metadata": {},
   "outputs": [],
   "source": [
    "#picking out the unavaible stations\n",
    "Station_2016.loc[Station_2016['Status'] == \"Inactive\"]"
   ]
  },
  {
   "cell_type": "code",
   "execution_count": null,
   "metadata": {},
   "outputs": [],
   "source": [
    "#df2 = pd.concat([df, Station_2016])\n",
    "#df2.loc[df2[\"start_station_id\"]== 3095]\n",
    "#df2.loc[df2[\"start_station_id\"]== 3103]\n",
    "#df2.loc[df2[\"start_station_id\"]== 3105]\n",
    "#df2.loc[df2[\"start_station_id\"]== 3109]\n",
    "#df2.loc[df2[\"start_station_id\"]== 3122]\n",
    "#df2.loc[df2[\"start_station_id\"]== 3129]\n",
    "m = folium.Map(location=[39.952583,-75.165222], zoom_start = 13) \n",
    "tooltip = \"29th & Diamond\"\n",
    "tooltip1 = \"27th & Master, Athletic Recreation Center\"\n",
    "tooltip2 = \"Penn Treaty Park\"\n",
    "tooltip3 = \"Parkside & Girard\"\n",
    "tooltip4 = \"24th & Cecil B. Moore, Cecil B. Moore Library\"\n",
    "tooltip5 = \"The Children's Hospital of Philadelphia, Osler...\"\n",
    "folium.Marker(\n",
    "    [39.987709, -75.1805], popup=\"UNAVAIBLE\", tooltip=tooltip\n",
    "    \n",
    ").add_to(m)\n",
    "folium.Marker(\n",
    "    [39.977139, -75.179398], popup=\"UNAVAIBLE\", tooltip=tooltip1\n",
    "    \n",
    ").add_to(m)\n",
    "\n",
    "folium.Marker(\n",
    "    [39.966518, -75.129959], popup=\"UNAVAIBLE\", tooltip=tooltip2\n",
    "    \n",
    ").add_to(m)\n",
    "folium.Marker(\n",
    "    [39.974861, -75.205238], popup=\"UNAVAIBLE\", tooltip=tooltip3\n",
    "    \n",
    ").add_to(m)\n",
    "folium.Marker(\n",
    "    [39.980621, -75.1735], popup=\"UNAVAIBLE\", tooltip=tooltip4\n",
    "    \n",
    ").add_to(m)\n",
    "folium.Marker(\n",
    "    [39.946812, -75.193108], popup=\"UNAVAIBLE\", tooltip=tooltip5\n",
    "    \n",
    ").add_to(m)\n",
    "m"
   ]
  },
  {
   "cell_type": "code",
   "execution_count": null,
   "metadata": {},
   "outputs": [],
   "source": []
  }
 ],
 "metadata": {
  "kernelspec": {
   "display_name": "Python 3",
   "language": "python",
   "name": "python3"
  },
  "language_info": {
   "codemirror_mode": {
    "name": "ipython",
    "version": 3
   },
   "file_extension": ".py",
   "mimetype": "text/x-python",
   "name": "python",
   "nbconvert_exporter": "python",
   "pygments_lexer": "ipython3",
   "version": "3.8.5"
  }
 },
 "nbformat": 4,
 "nbformat_minor": 5
}
